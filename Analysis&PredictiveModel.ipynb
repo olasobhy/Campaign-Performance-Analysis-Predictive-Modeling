{
  "nbformat": 4,
  "nbformat_minor": 0,
  "metadata": {
    "colab": {
      "provenance": []
    },
    "kernelspec": {
      "name": "python3",
      "display_name": "Python 3"
    },
    "language_info": {
      "name": "python"
    }
  },
  "cells": [
    {
      "cell_type": "code",
      "execution_count": null,
      "metadata": {
        "id": "aSLS0yJRQH3l"
      },
      "outputs": [],
      "source": [
        "import pandas as pd\n",
        "import seaborn as sns\n",
        "import matplotlib.pyplot as plt\n",
        "from sklearn.model_selection import train_test_split\n",
        "from sklearn.ensemble import RandomForestRegressor\n",
        "from sklearn.metrics import mean_squared_error"
      ]
    },
    {
      "cell_type": "code",
      "source": [
        "df = pd.read_excel('/content/01JBGY16RXQ7HMHB8JJCTM2ZQP.xlsx')"
      ],
      "metadata": {
        "id": "J6ASodlfTZa-"
      },
      "execution_count": null,
      "outputs": []
    },
    {
      "cell_type": "markdown",
      "source": [
        "# Explore"
      ],
      "metadata": {
        "id": "XLRdMIRNYvHN"
      }
    },
    {
      "cell_type": "code",
      "source": [
        "df.head()"
      ],
      "metadata": {
        "colab": {
          "base_uri": "https://localhost:8080/",
          "height": 206
        },
        "id": "DdiRKd00Tdvx",
        "outputId": "10d59e17-f00e-468b-bc15-d1acdfa452d5"
      },
      "execution_count": null,
      "outputs": [
        {
          "output_type": "execute_result",
          "data": {
            "text/plain": [
              "  Campaign_ID                   Campaign_Name Marketing_Channel Start_Date  \\\n",
              "0        CMP1  Timeless Trends Transformation          Paid Ads 2022-11-09   \n",
              "1        CMP2         Design Your Dream Space          Paid Ads 2022-12-27   \n",
              "2        CMP3           Style Your Home Story             Email 2022-11-03   \n",
              "3        CMP4        Comfort & Chic Challenge             Email 2022-11-29   \n",
              "4        CMP5  Timeless Trends Transformation             Email 2023-06-12   \n",
              "\n",
              "    End_Date  Impressions   Clicks  Conversions  Total_Spend  \\\n",
              "0 2024-04-25      23448.1   3488.4       2289.9     2461.447   \n",
              "1 2024-05-12      34902.7   3513.9       3362.6     7558.761   \n",
              "2 2024-04-07      13545.6   7962.8       7792.8     3568.351   \n",
              "3 2024-04-26      42709.1  22472.3       3221.5     4703.662   \n",
              "4 2024-11-04       4282.3   2981.8       2716.6     2477.512   \n",
              "\n",
              "   Revenue_Generated   Location Age_Group  Gender  \n",
              "0           9434.541  Timișoara     35-44    Male  \n",
              "1          18383.409  Timișoara     35-44    Male  \n",
              "2           5198.192  Bucharest       55+  Female  \n",
              "3          17582.828  Bucharest     25-34    Male  \n",
              "4           3759.363  Bucharest       55+    Male  "
            ],
            "text/html": [
              "\n",
              "  <div id=\"df-2a008411-c6f6-44be-9d0c-4d47791e7476\" class=\"colab-df-container\">\n",
              "    <div>\n",
              "<style scoped>\n",
              "    .dataframe tbody tr th:only-of-type {\n",
              "        vertical-align: middle;\n",
              "    }\n",
              "\n",
              "    .dataframe tbody tr th {\n",
              "        vertical-align: top;\n",
              "    }\n",
              "\n",
              "    .dataframe thead th {\n",
              "        text-align: right;\n",
              "    }\n",
              "</style>\n",
              "<table border=\"1\" class=\"dataframe\">\n",
              "  <thead>\n",
              "    <tr style=\"text-align: right;\">\n",
              "      <th></th>\n",
              "      <th>Campaign_ID</th>\n",
              "      <th>Campaign_Name</th>\n",
              "      <th>Marketing_Channel</th>\n",
              "      <th>Start_Date</th>\n",
              "      <th>End_Date</th>\n",
              "      <th>Impressions</th>\n",
              "      <th>Clicks</th>\n",
              "      <th>Conversions</th>\n",
              "      <th>Total_Spend</th>\n",
              "      <th>Revenue_Generated</th>\n",
              "      <th>Location</th>\n",
              "      <th>Age_Group</th>\n",
              "      <th>Gender</th>\n",
              "    </tr>\n",
              "  </thead>\n",
              "  <tbody>\n",
              "    <tr>\n",
              "      <th>0</th>\n",
              "      <td>CMP1</td>\n",
              "      <td>Timeless Trends Transformation</td>\n",
              "      <td>Paid Ads</td>\n",
              "      <td>2022-11-09</td>\n",
              "      <td>2024-04-25</td>\n",
              "      <td>23448.1</td>\n",
              "      <td>3488.4</td>\n",
              "      <td>2289.9</td>\n",
              "      <td>2461.447</td>\n",
              "      <td>9434.541</td>\n",
              "      <td>Timișoara</td>\n",
              "      <td>35-44</td>\n",
              "      <td>Male</td>\n",
              "    </tr>\n",
              "    <tr>\n",
              "      <th>1</th>\n",
              "      <td>CMP2</td>\n",
              "      <td>Design Your Dream Space</td>\n",
              "      <td>Paid Ads</td>\n",
              "      <td>2022-12-27</td>\n",
              "      <td>2024-05-12</td>\n",
              "      <td>34902.7</td>\n",
              "      <td>3513.9</td>\n",
              "      <td>3362.6</td>\n",
              "      <td>7558.761</td>\n",
              "      <td>18383.409</td>\n",
              "      <td>Timișoara</td>\n",
              "      <td>35-44</td>\n",
              "      <td>Male</td>\n",
              "    </tr>\n",
              "    <tr>\n",
              "      <th>2</th>\n",
              "      <td>CMP3</td>\n",
              "      <td>Style Your Home Story</td>\n",
              "      <td>Email</td>\n",
              "      <td>2022-11-03</td>\n",
              "      <td>2024-04-07</td>\n",
              "      <td>13545.6</td>\n",
              "      <td>7962.8</td>\n",
              "      <td>7792.8</td>\n",
              "      <td>3568.351</td>\n",
              "      <td>5198.192</td>\n",
              "      <td>Bucharest</td>\n",
              "      <td>55+</td>\n",
              "      <td>Female</td>\n",
              "    </tr>\n",
              "    <tr>\n",
              "      <th>3</th>\n",
              "      <td>CMP4</td>\n",
              "      <td>Comfort &amp; Chic Challenge</td>\n",
              "      <td>Email</td>\n",
              "      <td>2022-11-29</td>\n",
              "      <td>2024-04-26</td>\n",
              "      <td>42709.1</td>\n",
              "      <td>22472.3</td>\n",
              "      <td>3221.5</td>\n",
              "      <td>4703.662</td>\n",
              "      <td>17582.828</td>\n",
              "      <td>Bucharest</td>\n",
              "      <td>25-34</td>\n",
              "      <td>Male</td>\n",
              "    </tr>\n",
              "    <tr>\n",
              "      <th>4</th>\n",
              "      <td>CMP5</td>\n",
              "      <td>Timeless Trends Transformation</td>\n",
              "      <td>Email</td>\n",
              "      <td>2023-06-12</td>\n",
              "      <td>2024-11-04</td>\n",
              "      <td>4282.3</td>\n",
              "      <td>2981.8</td>\n",
              "      <td>2716.6</td>\n",
              "      <td>2477.512</td>\n",
              "      <td>3759.363</td>\n",
              "      <td>Bucharest</td>\n",
              "      <td>55+</td>\n",
              "      <td>Male</td>\n",
              "    </tr>\n",
              "  </tbody>\n",
              "</table>\n",
              "</div>\n",
              "    <div class=\"colab-df-buttons\">\n",
              "\n",
              "  <div class=\"colab-df-container\">\n",
              "    <button class=\"colab-df-convert\" onclick=\"convertToInteractive('df-2a008411-c6f6-44be-9d0c-4d47791e7476')\"\n",
              "            title=\"Convert this dataframe to an interactive table.\"\n",
              "            style=\"display:none;\">\n",
              "\n",
              "  <svg xmlns=\"http://www.w3.org/2000/svg\" height=\"24px\" viewBox=\"0 -960 960 960\">\n",
              "    <path d=\"M120-120v-720h720v720H120Zm60-500h600v-160H180v160Zm220 220h160v-160H400v160Zm0 220h160v-160H400v160ZM180-400h160v-160H180v160Zm440 0h160v-160H620v160ZM180-180h160v-160H180v160Zm440 0h160v-160H620v160Z\"/>\n",
              "  </svg>\n",
              "    </button>\n",
              "\n",
              "  <style>\n",
              "    .colab-df-container {\n",
              "      display:flex;\n",
              "      gap: 12px;\n",
              "    }\n",
              "\n",
              "    .colab-df-convert {\n",
              "      background-color: #E8F0FE;\n",
              "      border: none;\n",
              "      border-radius: 50%;\n",
              "      cursor: pointer;\n",
              "      display: none;\n",
              "      fill: #1967D2;\n",
              "      height: 32px;\n",
              "      padding: 0 0 0 0;\n",
              "      width: 32px;\n",
              "    }\n",
              "\n",
              "    .colab-df-convert:hover {\n",
              "      background-color: #E2EBFA;\n",
              "      box-shadow: 0px 1px 2px rgba(60, 64, 67, 0.3), 0px 1px 3px 1px rgba(60, 64, 67, 0.15);\n",
              "      fill: #174EA6;\n",
              "    }\n",
              "\n",
              "    .colab-df-buttons div {\n",
              "      margin-bottom: 4px;\n",
              "    }\n",
              "\n",
              "    [theme=dark] .colab-df-convert {\n",
              "      background-color: #3B4455;\n",
              "      fill: #D2E3FC;\n",
              "    }\n",
              "\n",
              "    [theme=dark] .colab-df-convert:hover {\n",
              "      background-color: #434B5C;\n",
              "      box-shadow: 0px 1px 3px 1px rgba(0, 0, 0, 0.15);\n",
              "      filter: drop-shadow(0px 1px 2px rgba(0, 0, 0, 0.3));\n",
              "      fill: #FFFFFF;\n",
              "    }\n",
              "  </style>\n",
              "\n",
              "    <script>\n",
              "      const buttonEl =\n",
              "        document.querySelector('#df-2a008411-c6f6-44be-9d0c-4d47791e7476 button.colab-df-convert');\n",
              "      buttonEl.style.display =\n",
              "        google.colab.kernel.accessAllowed ? 'block' : 'none';\n",
              "\n",
              "      async function convertToInteractive(key) {\n",
              "        const element = document.querySelector('#df-2a008411-c6f6-44be-9d0c-4d47791e7476');\n",
              "        const dataTable =\n",
              "          await google.colab.kernel.invokeFunction('convertToInteractive',\n",
              "                                                    [key], {});\n",
              "        if (!dataTable) return;\n",
              "\n",
              "        const docLinkHtml = 'Like what you see? Visit the ' +\n",
              "          '<a target=\"_blank\" href=https://colab.research.google.com/notebooks/data_table.ipynb>data table notebook</a>'\n",
              "          + ' to learn more about interactive tables.';\n",
              "        element.innerHTML = '';\n",
              "        dataTable['output_type'] = 'display_data';\n",
              "        await google.colab.output.renderOutput(dataTable, element);\n",
              "        const docLink = document.createElement('div');\n",
              "        docLink.innerHTML = docLinkHtml;\n",
              "        element.appendChild(docLink);\n",
              "      }\n",
              "    </script>\n",
              "  </div>\n",
              "\n",
              "\n",
              "<div id=\"df-70784a82-7e3e-42df-959c-1a56ba77a404\">\n",
              "  <button class=\"colab-df-quickchart\" onclick=\"quickchart('df-70784a82-7e3e-42df-959c-1a56ba77a404')\"\n",
              "            title=\"Suggest charts\"\n",
              "            style=\"display:none;\">\n",
              "\n",
              "<svg xmlns=\"http://www.w3.org/2000/svg\" height=\"24px\"viewBox=\"0 0 24 24\"\n",
              "     width=\"24px\">\n",
              "    <g>\n",
              "        <path d=\"M19 3H5c-1.1 0-2 .9-2 2v14c0 1.1.9 2 2 2h14c1.1 0 2-.9 2-2V5c0-1.1-.9-2-2-2zM9 17H7v-7h2v7zm4 0h-2V7h2v10zm4 0h-2v-4h2v4z\"/>\n",
              "    </g>\n",
              "</svg>\n",
              "  </button>\n",
              "\n",
              "<style>\n",
              "  .colab-df-quickchart {\n",
              "      --bg-color: #E8F0FE;\n",
              "      --fill-color: #1967D2;\n",
              "      --hover-bg-color: #E2EBFA;\n",
              "      --hover-fill-color: #174EA6;\n",
              "      --disabled-fill-color: #AAA;\n",
              "      --disabled-bg-color: #DDD;\n",
              "  }\n",
              "\n",
              "  [theme=dark] .colab-df-quickchart {\n",
              "      --bg-color: #3B4455;\n",
              "      --fill-color: #D2E3FC;\n",
              "      --hover-bg-color: #434B5C;\n",
              "      --hover-fill-color: #FFFFFF;\n",
              "      --disabled-bg-color: #3B4455;\n",
              "      --disabled-fill-color: #666;\n",
              "  }\n",
              "\n",
              "  .colab-df-quickchart {\n",
              "    background-color: var(--bg-color);\n",
              "    border: none;\n",
              "    border-radius: 50%;\n",
              "    cursor: pointer;\n",
              "    display: none;\n",
              "    fill: var(--fill-color);\n",
              "    height: 32px;\n",
              "    padding: 0;\n",
              "    width: 32px;\n",
              "  }\n",
              "\n",
              "  .colab-df-quickchart:hover {\n",
              "    background-color: var(--hover-bg-color);\n",
              "    box-shadow: 0 1px 2px rgba(60, 64, 67, 0.3), 0 1px 3px 1px rgba(60, 64, 67, 0.15);\n",
              "    fill: var(--button-hover-fill-color);\n",
              "  }\n",
              "\n",
              "  .colab-df-quickchart-complete:disabled,\n",
              "  .colab-df-quickchart-complete:disabled:hover {\n",
              "    background-color: var(--disabled-bg-color);\n",
              "    fill: var(--disabled-fill-color);\n",
              "    box-shadow: none;\n",
              "  }\n",
              "\n",
              "  .colab-df-spinner {\n",
              "    border: 2px solid var(--fill-color);\n",
              "    border-color: transparent;\n",
              "    border-bottom-color: var(--fill-color);\n",
              "    animation:\n",
              "      spin 1s steps(1) infinite;\n",
              "  }\n",
              "\n",
              "  @keyframes spin {\n",
              "    0% {\n",
              "      border-color: transparent;\n",
              "      border-bottom-color: var(--fill-color);\n",
              "      border-left-color: var(--fill-color);\n",
              "    }\n",
              "    20% {\n",
              "      border-color: transparent;\n",
              "      border-left-color: var(--fill-color);\n",
              "      border-top-color: var(--fill-color);\n",
              "    }\n",
              "    30% {\n",
              "      border-color: transparent;\n",
              "      border-left-color: var(--fill-color);\n",
              "      border-top-color: var(--fill-color);\n",
              "      border-right-color: var(--fill-color);\n",
              "    }\n",
              "    40% {\n",
              "      border-color: transparent;\n",
              "      border-right-color: var(--fill-color);\n",
              "      border-top-color: var(--fill-color);\n",
              "    }\n",
              "    60% {\n",
              "      border-color: transparent;\n",
              "      border-right-color: var(--fill-color);\n",
              "    }\n",
              "    80% {\n",
              "      border-color: transparent;\n",
              "      border-right-color: var(--fill-color);\n",
              "      border-bottom-color: var(--fill-color);\n",
              "    }\n",
              "    90% {\n",
              "      border-color: transparent;\n",
              "      border-bottom-color: var(--fill-color);\n",
              "    }\n",
              "  }\n",
              "</style>\n",
              "\n",
              "  <script>\n",
              "    async function quickchart(key) {\n",
              "      const quickchartButtonEl =\n",
              "        document.querySelector('#' + key + ' button');\n",
              "      quickchartButtonEl.disabled = true;  // To prevent multiple clicks.\n",
              "      quickchartButtonEl.classList.add('colab-df-spinner');\n",
              "      try {\n",
              "        const charts = await google.colab.kernel.invokeFunction(\n",
              "            'suggestCharts', [key], {});\n",
              "      } catch (error) {\n",
              "        console.error('Error during call to suggestCharts:', error);\n",
              "      }\n",
              "      quickchartButtonEl.classList.remove('colab-df-spinner');\n",
              "      quickchartButtonEl.classList.add('colab-df-quickchart-complete');\n",
              "    }\n",
              "    (() => {\n",
              "      let quickchartButtonEl =\n",
              "        document.querySelector('#df-70784a82-7e3e-42df-959c-1a56ba77a404 button');\n",
              "      quickchartButtonEl.style.display =\n",
              "        google.colab.kernel.accessAllowed ? 'block' : 'none';\n",
              "    })();\n",
              "  </script>\n",
              "</div>\n",
              "\n",
              "    </div>\n",
              "  </div>\n"
            ],
            "application/vnd.google.colaboratory.intrinsic+json": {
              "type": "dataframe",
              "variable_name": "df",
              "summary": "{\n  \"name\": \"df\",\n  \"rows\": 2000,\n  \"fields\": [\n    {\n      \"column\": \"Campaign_ID\",\n      \"properties\": {\n        \"dtype\": \"string\",\n        \"num_unique_values\": 2000,\n        \"samples\": [\n          \"CMP1861\",\n          \"CMP354\",\n          \"CMP1334\"\n        ],\n        \"semantic_type\": \"\",\n        \"description\": \"\"\n      }\n    },\n    {\n      \"column\": \"Campaign_Name\",\n      \"properties\": {\n        \"dtype\": \"category\",\n        \"num_unique_values\": 6,\n        \"samples\": [\n          \"Timeless Trends Transformation\",\n          \"Design Your Dream Space\",\n          \"Furniture Refresh Revolution\"\n        ],\n        \"semantic_type\": \"\",\n        \"description\": \"\"\n      }\n    },\n    {\n      \"column\": \"Marketing_Channel\",\n      \"properties\": {\n        \"dtype\": \"category\",\n        \"num_unique_values\": 4,\n        \"samples\": [\n          \"Email\",\n          \"Influencer Marketing\",\n          \"Paid Ads\"\n        ],\n        \"semantic_type\": \"\",\n        \"description\": \"\"\n      }\n    },\n    {\n      \"column\": \"Start_Date\",\n      \"properties\": {\n        \"dtype\": \"date\",\n        \"min\": \"2022-08-19 00:00:00\",\n        \"max\": \"2023-06-13 00:00:00\",\n        \"num_unique_values\": 299,\n        \"samples\": [\n          \"2022-09-28 00:00:00\",\n          \"2023-04-15 00:00:00\",\n          \"2022-10-11 00:00:00\"\n        ],\n        \"semantic_type\": \"\",\n        \"description\": \"\"\n      }\n    },\n    {\n      \"column\": \"End_Date\",\n      \"properties\": {\n        \"dtype\": \"date\",\n        \"min\": \"2024-01-06 00:00:00\",\n        \"max\": \"2024-11-23 00:00:00\",\n        \"num_unique_values\": 319,\n        \"samples\": [\n          \"2024-09-11 00:00:00\",\n          \"2024-05-29 00:00:00\",\n          \"2024-10-28 00:00:00\"\n        ],\n        \"semantic_type\": \"\",\n        \"description\": \"\"\n      }\n    },\n    {\n      \"column\": \"Impressions\",\n      \"properties\": {\n        \"dtype\": \"number\",\n        \"std\": 24043.07580112644,\n        \"min\": 1720.3999999999999,\n        \"max\": 84887.8,\n        \"num_unique_values\": 1969,\n        \"samples\": [\n          35108.4,\n          38360.5,\n          84228.2\n        ],\n        \"semantic_type\": \"\",\n        \"description\": \"\"\n      }\n    },\n    {\n      \"column\": \"Clicks\",\n      \"properties\": {\n        \"dtype\": \"number\",\n        \"std\": 18396.575782636326,\n        \"min\": 180.2,\n        \"max\": 82252.8,\n        \"num_unique_values\": 1938,\n        \"samples\": [\n          7264.099999999999,\n          24209.7,\n          22740.899999999998\n        ],\n        \"semantic_type\": \"\",\n        \"description\": \"\"\n      }\n    },\n    {\n      \"column\": \"Conversions\",\n      \"properties\": {\n        \"dtype\": \"number\",\n        \"std\": 12775.618284062926,\n        \"min\": 3.4,\n        \"max\": 75214.8,\n        \"num_unique_values\": 1793,\n        \"samples\": [\n          4688.599999999999,\n          3581.9,\n          45488.6\n        ],\n        \"semantic_type\": \"\",\n        \"description\": \"\"\n      }\n    },\n    {\n      \"column\": \"Total_Spend\",\n      \"properties\": {\n        \"dtype\": \"number\",\n        \"std\": 2385.430581097451,\n        \"min\": 171.10500000000002,\n        \"max\": 8499.643,\n        \"num_unique_values\": 1993,\n        \"samples\": [\n          8341.713,\n          1145.8339999999998,\n          5239.213\n        ],\n        \"semantic_type\": \"\",\n        \"description\": \"\"\n      }\n    },\n    {\n      \"column\": \"Revenue_Generated\",\n      \"properties\": {\n        \"dtype\": \"number\",\n        \"std\": 7354.751536152393,\n        \"min\": 252.586,\n        \"max\": 33778.303,\n        \"num_unique_values\": 1998,\n        \"samples\": [\n          10057.659,\n          8255.625,\n          18832.412999999997\n        ],\n        \"semantic_type\": \"\",\n        \"description\": \"\"\n      }\n    },\n    {\n      \"column\": \"Location\",\n      \"properties\": {\n        \"dtype\": \"category\",\n        \"num_unique_values\": 5,\n        \"samples\": [\n          \"Bucharest\",\n          \"Ia\\u0219i\",\n          \"Cluj-Napoca\"\n        ],\n        \"semantic_type\": \"\",\n        \"description\": \"\"\n      }\n    },\n    {\n      \"column\": \"Age_Group\",\n      \"properties\": {\n        \"dtype\": \"category\",\n        \"num_unique_values\": 5,\n        \"samples\": [\n          \"55+\",\n          \"45-54\",\n          \"25-34\"\n        ],\n        \"semantic_type\": \"\",\n        \"description\": \"\"\n      }\n    },\n    {\n      \"column\": \"Gender\",\n      \"properties\": {\n        \"dtype\": \"category\",\n        \"num_unique_values\": 2,\n        \"samples\": [\n          \"Female\",\n          \"Male\"\n        ],\n        \"semantic_type\": \"\",\n        \"description\": \"\"\n      }\n    }\n  ]\n}"
            }
          },
          "metadata": {},
          "execution_count": 7
        }
      ]
    },
    {
      "cell_type": "code",
      "source": [
        "df.info()"
      ],
      "metadata": {
        "colab": {
          "base_uri": "https://localhost:8080/"
        },
        "id": "nti3qu9vTe1h",
        "outputId": "c8aa721d-b260-4c28-d291-36db2c00b514"
      },
      "execution_count": null,
      "outputs": [
        {
          "output_type": "stream",
          "name": "stdout",
          "text": [
            "<class 'pandas.core.frame.DataFrame'>\n",
            "RangeIndex: 2000 entries, 0 to 1999\n",
            "Data columns (total 13 columns):\n",
            " #   Column             Non-Null Count  Dtype         \n",
            "---  ------             --------------  -----         \n",
            " 0   Campaign_ID        2000 non-null   object        \n",
            " 1   Campaign_Name      2000 non-null   object        \n",
            " 2   Marketing_Channel  2000 non-null   object        \n",
            " 3   Start_Date         2000 non-null   datetime64[ns]\n",
            " 4   End_Date           2000 non-null   datetime64[ns]\n",
            " 5   Impressions        2000 non-null   float64       \n",
            " 6   Clicks             2000 non-null   float64       \n",
            " 7   Conversions        2000 non-null   float64       \n",
            " 8   Total_Spend        2000 non-null   float64       \n",
            " 9   Revenue_Generated  2000 non-null   float64       \n",
            " 10  Location           2000 non-null   object        \n",
            " 11  Age_Group          2000 non-null   object        \n",
            " 12  Gender             2000 non-null   object        \n",
            "dtypes: datetime64[ns](2), float64(5), object(6)\n",
            "memory usage: 203.2+ KB\n"
          ]
        }
      ]
    },
    {
      "cell_type": "code",
      "source": [
        "df.isna().sum()"
      ],
      "metadata": {
        "colab": {
          "base_uri": "https://localhost:8080/",
          "height": 491
        },
        "id": "dOV3Wb9HT_Uj",
        "outputId": "df02903f-7b8f-4215-dee1-b03875628167"
      },
      "execution_count": null,
      "outputs": [
        {
          "output_type": "execute_result",
          "data": {
            "text/plain": [
              "Campaign_ID          0\n",
              "Campaign_Name        0\n",
              "Marketing_Channel    0\n",
              "Start_Date           0\n",
              "End_Date             0\n",
              "Impressions          0\n",
              "Clicks               0\n",
              "Conversions          0\n",
              "Total_Spend          0\n",
              "Revenue_Generated    0\n",
              "Location             0\n",
              "Age_Group            0\n",
              "Gender               0\n",
              "dtype: int64"
            ],
            "text/html": [
              "<div>\n",
              "<style scoped>\n",
              "    .dataframe tbody tr th:only-of-type {\n",
              "        vertical-align: middle;\n",
              "    }\n",
              "\n",
              "    .dataframe tbody tr th {\n",
              "        vertical-align: top;\n",
              "    }\n",
              "\n",
              "    .dataframe thead th {\n",
              "        text-align: right;\n",
              "    }\n",
              "</style>\n",
              "<table border=\"1\" class=\"dataframe\">\n",
              "  <thead>\n",
              "    <tr style=\"text-align: right;\">\n",
              "      <th></th>\n",
              "      <th>0</th>\n",
              "    </tr>\n",
              "  </thead>\n",
              "  <tbody>\n",
              "    <tr>\n",
              "      <th>Campaign_ID</th>\n",
              "      <td>0</td>\n",
              "    </tr>\n",
              "    <tr>\n",
              "      <th>Campaign_Name</th>\n",
              "      <td>0</td>\n",
              "    </tr>\n",
              "    <tr>\n",
              "      <th>Marketing_Channel</th>\n",
              "      <td>0</td>\n",
              "    </tr>\n",
              "    <tr>\n",
              "      <th>Start_Date</th>\n",
              "      <td>0</td>\n",
              "    </tr>\n",
              "    <tr>\n",
              "      <th>End_Date</th>\n",
              "      <td>0</td>\n",
              "    </tr>\n",
              "    <tr>\n",
              "      <th>Impressions</th>\n",
              "      <td>0</td>\n",
              "    </tr>\n",
              "    <tr>\n",
              "      <th>Clicks</th>\n",
              "      <td>0</td>\n",
              "    </tr>\n",
              "    <tr>\n",
              "      <th>Conversions</th>\n",
              "      <td>0</td>\n",
              "    </tr>\n",
              "    <tr>\n",
              "      <th>Total_Spend</th>\n",
              "      <td>0</td>\n",
              "    </tr>\n",
              "    <tr>\n",
              "      <th>Revenue_Generated</th>\n",
              "      <td>0</td>\n",
              "    </tr>\n",
              "    <tr>\n",
              "      <th>Location</th>\n",
              "      <td>0</td>\n",
              "    </tr>\n",
              "    <tr>\n",
              "      <th>Age_Group</th>\n",
              "      <td>0</td>\n",
              "    </tr>\n",
              "    <tr>\n",
              "      <th>Gender</th>\n",
              "      <td>0</td>\n",
              "    </tr>\n",
              "  </tbody>\n",
              "</table>\n",
              "</div><br><label><b>dtype:</b> int64</label>"
            ]
          },
          "metadata": {},
          "execution_count": 9
        }
      ]
    },
    {
      "cell_type": "code",
      "source": [
        "df.describe()"
      ],
      "metadata": {
        "colab": {
          "base_uri": "https://localhost:8080/",
          "height": 300
        },
        "id": "8uIP2mKcUBUK",
        "outputId": "b17a1ca5-d5e8-4d27-e802-38044d525fa9"
      },
      "execution_count": null,
      "outputs": [
        {
          "output_type": "execute_result",
          "data": {
            "text/plain": [
              "                       Start_Date                    End_Date   Impressions  \\\n",
              "count                        2000                        2000   2000.000000   \n",
              "mean   2023-01-14 18:20:09.600000  2024-06-13 12:40:19.200000  42602.071400   \n",
              "min           2022-08-19 00:00:00         2024-01-06 00:00:00   1720.400000   \n",
              "25%           2022-10-31 00:00:00         2024-03-30 00:00:00  21435.300000   \n",
              "50%           2023-01-16 00:00:00         2024-06-14 00:00:00  42619.000000   \n",
              "75%           2023-04-01 00:00:00         2024-08-28 00:00:00  63179.650000   \n",
              "max           2023-06-13 00:00:00         2024-11-23 00:00:00  84887.800000   \n",
              "std                           NaN                         NaN  24043.075801   \n",
              "\n",
              "             Clicks   Conversions  Total_Spend  Revenue_Generated  \n",
              "count   2000.000000   2000.000000  2000.000000        2000.000000  \n",
              "mean   21399.460600  10760.815550  4333.511573       11274.048865  \n",
              "min      180.200000      3.400000   171.105000         252.586000  \n",
              "25%     5892.200000   1675.775000  2244.692750        5195.884250  \n",
              "50%    16329.350000   5757.900000  4356.267000       10215.971500  \n",
              "75%    32868.650000  14956.175000  6392.000000       16003.379250  \n",
              "max    82252.800000  75214.800000  8499.643000       33778.303000  \n",
              "std    18396.575783  12775.618284  2385.430581        7354.751536  "
            ],
            "text/html": [
              "\n",
              "  <div id=\"df-fcd09695-4b31-40b0-b3ca-204875db8348\" class=\"colab-df-container\">\n",
              "    <div>\n",
              "<style scoped>\n",
              "    .dataframe tbody tr th:only-of-type {\n",
              "        vertical-align: middle;\n",
              "    }\n",
              "\n",
              "    .dataframe tbody tr th {\n",
              "        vertical-align: top;\n",
              "    }\n",
              "\n",
              "    .dataframe thead th {\n",
              "        text-align: right;\n",
              "    }\n",
              "</style>\n",
              "<table border=\"1\" class=\"dataframe\">\n",
              "  <thead>\n",
              "    <tr style=\"text-align: right;\">\n",
              "      <th></th>\n",
              "      <th>Start_Date</th>\n",
              "      <th>End_Date</th>\n",
              "      <th>Impressions</th>\n",
              "      <th>Clicks</th>\n",
              "      <th>Conversions</th>\n",
              "      <th>Total_Spend</th>\n",
              "      <th>Revenue_Generated</th>\n",
              "    </tr>\n",
              "  </thead>\n",
              "  <tbody>\n",
              "    <tr>\n",
              "      <th>count</th>\n",
              "      <td>2000</td>\n",
              "      <td>2000</td>\n",
              "      <td>2000.000000</td>\n",
              "      <td>2000.000000</td>\n",
              "      <td>2000.000000</td>\n",
              "      <td>2000.000000</td>\n",
              "      <td>2000.000000</td>\n",
              "    </tr>\n",
              "    <tr>\n",
              "      <th>mean</th>\n",
              "      <td>2023-01-14 18:20:09.600000</td>\n",
              "      <td>2024-06-13 12:40:19.200000</td>\n",
              "      <td>42602.071400</td>\n",
              "      <td>21399.460600</td>\n",
              "      <td>10760.815550</td>\n",
              "      <td>4333.511573</td>\n",
              "      <td>11274.048865</td>\n",
              "    </tr>\n",
              "    <tr>\n",
              "      <th>min</th>\n",
              "      <td>2022-08-19 00:00:00</td>\n",
              "      <td>2024-01-06 00:00:00</td>\n",
              "      <td>1720.400000</td>\n",
              "      <td>180.200000</td>\n",
              "      <td>3.400000</td>\n",
              "      <td>171.105000</td>\n",
              "      <td>252.586000</td>\n",
              "    </tr>\n",
              "    <tr>\n",
              "      <th>25%</th>\n",
              "      <td>2022-10-31 00:00:00</td>\n",
              "      <td>2024-03-30 00:00:00</td>\n",
              "      <td>21435.300000</td>\n",
              "      <td>5892.200000</td>\n",
              "      <td>1675.775000</td>\n",
              "      <td>2244.692750</td>\n",
              "      <td>5195.884250</td>\n",
              "    </tr>\n",
              "    <tr>\n",
              "      <th>50%</th>\n",
              "      <td>2023-01-16 00:00:00</td>\n",
              "      <td>2024-06-14 00:00:00</td>\n",
              "      <td>42619.000000</td>\n",
              "      <td>16329.350000</td>\n",
              "      <td>5757.900000</td>\n",
              "      <td>4356.267000</td>\n",
              "      <td>10215.971500</td>\n",
              "    </tr>\n",
              "    <tr>\n",
              "      <th>75%</th>\n",
              "      <td>2023-04-01 00:00:00</td>\n",
              "      <td>2024-08-28 00:00:00</td>\n",
              "      <td>63179.650000</td>\n",
              "      <td>32868.650000</td>\n",
              "      <td>14956.175000</td>\n",
              "      <td>6392.000000</td>\n",
              "      <td>16003.379250</td>\n",
              "    </tr>\n",
              "    <tr>\n",
              "      <th>max</th>\n",
              "      <td>2023-06-13 00:00:00</td>\n",
              "      <td>2024-11-23 00:00:00</td>\n",
              "      <td>84887.800000</td>\n",
              "      <td>82252.800000</td>\n",
              "      <td>75214.800000</td>\n",
              "      <td>8499.643000</td>\n",
              "      <td>33778.303000</td>\n",
              "    </tr>\n",
              "    <tr>\n",
              "      <th>std</th>\n",
              "      <td>NaN</td>\n",
              "      <td>NaN</td>\n",
              "      <td>24043.075801</td>\n",
              "      <td>18396.575783</td>\n",
              "      <td>12775.618284</td>\n",
              "      <td>2385.430581</td>\n",
              "      <td>7354.751536</td>\n",
              "    </tr>\n",
              "  </tbody>\n",
              "</table>\n",
              "</div>\n",
              "    <div class=\"colab-df-buttons\">\n",
              "\n",
              "  <div class=\"colab-df-container\">\n",
              "    <button class=\"colab-df-convert\" onclick=\"convertToInteractive('df-fcd09695-4b31-40b0-b3ca-204875db8348')\"\n",
              "            title=\"Convert this dataframe to an interactive table.\"\n",
              "            style=\"display:none;\">\n",
              "\n",
              "  <svg xmlns=\"http://www.w3.org/2000/svg\" height=\"24px\" viewBox=\"0 -960 960 960\">\n",
              "    <path d=\"M120-120v-720h720v720H120Zm60-500h600v-160H180v160Zm220 220h160v-160H400v160Zm0 220h160v-160H400v160ZM180-400h160v-160H180v160Zm440 0h160v-160H620v160ZM180-180h160v-160H180v160Zm440 0h160v-160H620v160Z\"/>\n",
              "  </svg>\n",
              "    </button>\n",
              "\n",
              "  <style>\n",
              "    .colab-df-container {\n",
              "      display:flex;\n",
              "      gap: 12px;\n",
              "    }\n",
              "\n",
              "    .colab-df-convert {\n",
              "      background-color: #E8F0FE;\n",
              "      border: none;\n",
              "      border-radius: 50%;\n",
              "      cursor: pointer;\n",
              "      display: none;\n",
              "      fill: #1967D2;\n",
              "      height: 32px;\n",
              "      padding: 0 0 0 0;\n",
              "      width: 32px;\n",
              "    }\n",
              "\n",
              "    .colab-df-convert:hover {\n",
              "      background-color: #E2EBFA;\n",
              "      box-shadow: 0px 1px 2px rgba(60, 64, 67, 0.3), 0px 1px 3px 1px rgba(60, 64, 67, 0.15);\n",
              "      fill: #174EA6;\n",
              "    }\n",
              "\n",
              "    .colab-df-buttons div {\n",
              "      margin-bottom: 4px;\n",
              "    }\n",
              "\n",
              "    [theme=dark] .colab-df-convert {\n",
              "      background-color: #3B4455;\n",
              "      fill: #D2E3FC;\n",
              "    }\n",
              "\n",
              "    [theme=dark] .colab-df-convert:hover {\n",
              "      background-color: #434B5C;\n",
              "      box-shadow: 0px 1px 3px 1px rgba(0, 0, 0, 0.15);\n",
              "      filter: drop-shadow(0px 1px 2px rgba(0, 0, 0, 0.3));\n",
              "      fill: #FFFFFF;\n",
              "    }\n",
              "  </style>\n",
              "\n",
              "    <script>\n",
              "      const buttonEl =\n",
              "        document.querySelector('#df-fcd09695-4b31-40b0-b3ca-204875db8348 button.colab-df-convert');\n",
              "      buttonEl.style.display =\n",
              "        google.colab.kernel.accessAllowed ? 'block' : 'none';\n",
              "\n",
              "      async function convertToInteractive(key) {\n",
              "        const element = document.querySelector('#df-fcd09695-4b31-40b0-b3ca-204875db8348');\n",
              "        const dataTable =\n",
              "          await google.colab.kernel.invokeFunction('convertToInteractive',\n",
              "                                                    [key], {});\n",
              "        if (!dataTable) return;\n",
              "\n",
              "        const docLinkHtml = 'Like what you see? Visit the ' +\n",
              "          '<a target=\"_blank\" href=https://colab.research.google.com/notebooks/data_table.ipynb>data table notebook</a>'\n",
              "          + ' to learn more about interactive tables.';\n",
              "        element.innerHTML = '';\n",
              "        dataTable['output_type'] = 'display_data';\n",
              "        await google.colab.output.renderOutput(dataTable, element);\n",
              "        const docLink = document.createElement('div');\n",
              "        docLink.innerHTML = docLinkHtml;\n",
              "        element.appendChild(docLink);\n",
              "      }\n",
              "    </script>\n",
              "  </div>\n",
              "\n",
              "\n",
              "<div id=\"df-ad9a04cb-157a-4c66-b271-bd79c76cfefa\">\n",
              "  <button class=\"colab-df-quickchart\" onclick=\"quickchart('df-ad9a04cb-157a-4c66-b271-bd79c76cfefa')\"\n",
              "            title=\"Suggest charts\"\n",
              "            style=\"display:none;\">\n",
              "\n",
              "<svg xmlns=\"http://www.w3.org/2000/svg\" height=\"24px\"viewBox=\"0 0 24 24\"\n",
              "     width=\"24px\">\n",
              "    <g>\n",
              "        <path d=\"M19 3H5c-1.1 0-2 .9-2 2v14c0 1.1.9 2 2 2h14c1.1 0 2-.9 2-2V5c0-1.1-.9-2-2-2zM9 17H7v-7h2v7zm4 0h-2V7h2v10zm4 0h-2v-4h2v4z\"/>\n",
              "    </g>\n",
              "</svg>\n",
              "  </button>\n",
              "\n",
              "<style>\n",
              "  .colab-df-quickchart {\n",
              "      --bg-color: #E8F0FE;\n",
              "      --fill-color: #1967D2;\n",
              "      --hover-bg-color: #E2EBFA;\n",
              "      --hover-fill-color: #174EA6;\n",
              "      --disabled-fill-color: #AAA;\n",
              "      --disabled-bg-color: #DDD;\n",
              "  }\n",
              "\n",
              "  [theme=dark] .colab-df-quickchart {\n",
              "      --bg-color: #3B4455;\n",
              "      --fill-color: #D2E3FC;\n",
              "      --hover-bg-color: #434B5C;\n",
              "      --hover-fill-color: #FFFFFF;\n",
              "      --disabled-bg-color: #3B4455;\n",
              "      --disabled-fill-color: #666;\n",
              "  }\n",
              "\n",
              "  .colab-df-quickchart {\n",
              "    background-color: var(--bg-color);\n",
              "    border: none;\n",
              "    border-radius: 50%;\n",
              "    cursor: pointer;\n",
              "    display: none;\n",
              "    fill: var(--fill-color);\n",
              "    height: 32px;\n",
              "    padding: 0;\n",
              "    width: 32px;\n",
              "  }\n",
              "\n",
              "  .colab-df-quickchart:hover {\n",
              "    background-color: var(--hover-bg-color);\n",
              "    box-shadow: 0 1px 2px rgba(60, 64, 67, 0.3), 0 1px 3px 1px rgba(60, 64, 67, 0.15);\n",
              "    fill: var(--button-hover-fill-color);\n",
              "  }\n",
              "\n",
              "  .colab-df-quickchart-complete:disabled,\n",
              "  .colab-df-quickchart-complete:disabled:hover {\n",
              "    background-color: var(--disabled-bg-color);\n",
              "    fill: var(--disabled-fill-color);\n",
              "    box-shadow: none;\n",
              "  }\n",
              "\n",
              "  .colab-df-spinner {\n",
              "    border: 2px solid var(--fill-color);\n",
              "    border-color: transparent;\n",
              "    border-bottom-color: var(--fill-color);\n",
              "    animation:\n",
              "      spin 1s steps(1) infinite;\n",
              "  }\n",
              "\n",
              "  @keyframes spin {\n",
              "    0% {\n",
              "      border-color: transparent;\n",
              "      border-bottom-color: var(--fill-color);\n",
              "      border-left-color: var(--fill-color);\n",
              "    }\n",
              "    20% {\n",
              "      border-color: transparent;\n",
              "      border-left-color: var(--fill-color);\n",
              "      border-top-color: var(--fill-color);\n",
              "    }\n",
              "    30% {\n",
              "      border-color: transparent;\n",
              "      border-left-color: var(--fill-color);\n",
              "      border-top-color: var(--fill-color);\n",
              "      border-right-color: var(--fill-color);\n",
              "    }\n",
              "    40% {\n",
              "      border-color: transparent;\n",
              "      border-right-color: var(--fill-color);\n",
              "      border-top-color: var(--fill-color);\n",
              "    }\n",
              "    60% {\n",
              "      border-color: transparent;\n",
              "      border-right-color: var(--fill-color);\n",
              "    }\n",
              "    80% {\n",
              "      border-color: transparent;\n",
              "      border-right-color: var(--fill-color);\n",
              "      border-bottom-color: var(--fill-color);\n",
              "    }\n",
              "    90% {\n",
              "      border-color: transparent;\n",
              "      border-bottom-color: var(--fill-color);\n",
              "    }\n",
              "  }\n",
              "</style>\n",
              "\n",
              "  <script>\n",
              "    async function quickchart(key) {\n",
              "      const quickchartButtonEl =\n",
              "        document.querySelector('#' + key + ' button');\n",
              "      quickchartButtonEl.disabled = true;  // To prevent multiple clicks.\n",
              "      quickchartButtonEl.classList.add('colab-df-spinner');\n",
              "      try {\n",
              "        const charts = await google.colab.kernel.invokeFunction(\n",
              "            'suggestCharts', [key], {});\n",
              "      } catch (error) {\n",
              "        console.error('Error during call to suggestCharts:', error);\n",
              "      }\n",
              "      quickchartButtonEl.classList.remove('colab-df-spinner');\n",
              "      quickchartButtonEl.classList.add('colab-df-quickchart-complete');\n",
              "    }\n",
              "    (() => {\n",
              "      let quickchartButtonEl =\n",
              "        document.querySelector('#df-ad9a04cb-157a-4c66-b271-bd79c76cfefa button');\n",
              "      quickchartButtonEl.style.display =\n",
              "        google.colab.kernel.accessAllowed ? 'block' : 'none';\n",
              "    })();\n",
              "  </script>\n",
              "</div>\n",
              "\n",
              "    </div>\n",
              "  </div>\n"
            ],
            "application/vnd.google.colaboratory.intrinsic+json": {
              "type": "dataframe",
              "summary": "{\n  \"name\": \"df\",\n  \"rows\": 8,\n  \"fields\": [\n    {\n      \"column\": \"Start_Date\",\n      \"properties\": {\n        \"dtype\": \"date\",\n        \"min\": \"1970-01-01 00:00:00.000002\",\n        \"max\": \"2023-06-13 00:00:00\",\n        \"num_unique_values\": 7,\n        \"samples\": [\n          \"2000\",\n          \"2023-01-14 18:20:09.600000\",\n          \"2023-04-01 00:00:00\"\n        ],\n        \"semantic_type\": \"\",\n        \"description\": \"\"\n      }\n    },\n    {\n      \"column\": \"End_Date\",\n      \"properties\": {\n        \"dtype\": \"date\",\n        \"min\": \"1970-01-01 00:00:00.000002\",\n        \"max\": \"2024-11-23 00:00:00\",\n        \"num_unique_values\": 7,\n        \"samples\": [\n          \"2000\",\n          \"2024-06-13 12:40:19.200000\",\n          \"2024-08-28 00:00:00\"\n        ],\n        \"semantic_type\": \"\",\n        \"description\": \"\"\n      }\n    },\n    {\n      \"column\": \"Impressions\",\n      \"properties\": {\n        \"dtype\": \"number\",\n        \"std\": 29028.408825942064,\n        \"min\": 1720.3999999999999,\n        \"max\": 84887.8,\n        \"num_unique_values\": 8,\n        \"samples\": [\n          42602.07140000001,\n          63179.649999999994,\n          2000.0\n        ],\n        \"semantic_type\": \"\",\n        \"description\": \"\"\n      }\n    },\n    {\n      \"column\": \"Clicks\",\n      \"properties\": {\n        \"dtype\": \"number\",\n        \"std\": 26533.581881822778,\n        \"min\": 180.2,\n        \"max\": 82252.8,\n        \"num_unique_values\": 8,\n        \"samples\": [\n          21399.460600000002,\n          32868.65,\n          2000.0\n        ],\n        \"semantic_type\": \"\",\n        \"description\": \"\"\n      }\n    },\n    {\n      \"column\": \"Conversions\",\n      \"properties\": {\n        \"dtype\": \"number\",\n        \"std\": 24797.338687815824,\n        \"min\": 3.4,\n        \"max\": 75214.8,\n        \"num_unique_values\": 8,\n        \"samples\": [\n          10760.815550000001,\n          14956.175,\n          2000.0\n        ],\n        \"semantic_type\": \"\",\n        \"description\": \"\"\n      }\n    },\n    {\n      \"column\": \"Total_Spend\",\n      \"properties\": {\n        \"dtype\": \"number\",\n        \"std\": 2678.699163970452,\n        \"min\": 171.10500000000002,\n        \"max\": 8499.643,\n        \"num_unique_values\": 8,\n        \"samples\": [\n          4333.5115735,\n          6391.999999999999,\n          2000.0\n        ],\n        \"semantic_type\": \"\",\n        \"description\": \"\"\n      }\n    },\n    {\n      \"column\": \"Revenue_Generated\",\n      \"properties\": {\n        \"dtype\": \"number\",\n        \"std\": 10607.234452624958,\n        \"min\": 252.586,\n        \"max\": 33778.303,\n        \"num_unique_values\": 8,\n        \"samples\": [\n          11274.048864999999,\n          16003.379249999998,\n          2000.0\n        ],\n        \"semantic_type\": \"\",\n        \"description\": \"\"\n      }\n    }\n  ]\n}"
            }
          },
          "metadata": {},
          "execution_count": 10
        }
      ]
    },
    {
      "cell_type": "code",
      "source": [
        "df['Campaign_Name'].value_counts()"
      ],
      "metadata": {
        "colab": {
          "base_uri": "https://localhost:8080/",
          "height": 303
        },
        "id": "wd9rnYLqUMDr",
        "outputId": "4e39d4a3-78ea-4eb3-f434-d0393f51500d"
      },
      "execution_count": null,
      "outputs": [
        {
          "output_type": "execute_result",
          "data": {
            "text/plain": [
              "Campaign_Name\n",
              "Sustainable Living Showcase       363\n",
              "Design Your Dream Space           345\n",
              "Style Your Home Story             339\n",
              "Furniture Refresh Revolution      335\n",
              "Comfort & Chic Challenge          310\n",
              "Timeless Trends Transformation    308\n",
              "Name: count, dtype: int64"
            ],
            "text/html": [
              "<div>\n",
              "<style scoped>\n",
              "    .dataframe tbody tr th:only-of-type {\n",
              "        vertical-align: middle;\n",
              "    }\n",
              "\n",
              "    .dataframe tbody tr th {\n",
              "        vertical-align: top;\n",
              "    }\n",
              "\n",
              "    .dataframe thead th {\n",
              "        text-align: right;\n",
              "    }\n",
              "</style>\n",
              "<table border=\"1\" class=\"dataframe\">\n",
              "  <thead>\n",
              "    <tr style=\"text-align: right;\">\n",
              "      <th></th>\n",
              "      <th>count</th>\n",
              "    </tr>\n",
              "    <tr>\n",
              "      <th>Campaign_Name</th>\n",
              "      <th></th>\n",
              "    </tr>\n",
              "  </thead>\n",
              "  <tbody>\n",
              "    <tr>\n",
              "      <th>Sustainable Living Showcase</th>\n",
              "      <td>363</td>\n",
              "    </tr>\n",
              "    <tr>\n",
              "      <th>Design Your Dream Space</th>\n",
              "      <td>345</td>\n",
              "    </tr>\n",
              "    <tr>\n",
              "      <th>Style Your Home Story</th>\n",
              "      <td>339</td>\n",
              "    </tr>\n",
              "    <tr>\n",
              "      <th>Furniture Refresh Revolution</th>\n",
              "      <td>335</td>\n",
              "    </tr>\n",
              "    <tr>\n",
              "      <th>Comfort &amp; Chic Challenge</th>\n",
              "      <td>310</td>\n",
              "    </tr>\n",
              "    <tr>\n",
              "      <th>Timeless Trends Transformation</th>\n",
              "      <td>308</td>\n",
              "    </tr>\n",
              "  </tbody>\n",
              "</table>\n",
              "</div><br><label><b>dtype:</b> int64</label>"
            ]
          },
          "metadata": {},
          "execution_count": 11
        }
      ]
    },
    {
      "cell_type": "code",
      "source": [
        "order = df['Campaign_Name'].value_counts().index"
      ],
      "metadata": {
        "id": "r2W7Q7u7V2OL"
      },
      "execution_count": null,
      "outputs": []
    },
    {
      "cell_type": "code",
      "source": [
        "sns.countplot(df['Campaign_Name'] ,order=order)\n",
        "plt.show()"
      ],
      "metadata": {
        "colab": {
          "base_uri": "https://localhost:8080/",
          "height": 449
        },
        "id": "9xiQ_JoCVLFD",
        "outputId": "fa1a9f1e-e2bf-47eb-a686-54f0be86b85e"
      },
      "execution_count": null,
      "outputs": [
        {
          "output_type": "display_data",
          "data": {
            "text/plain": [
              "<Figure size 640x480 with 1 Axes>"
            ],
            "image/png": "[encoded data removed]"
          },
          "metadata": {}
        }
      ]
    },
    {
      "cell_type": "code",
      "source": [
        "df['Marketing_Channel'].value_counts()"
      ],
      "metadata": {
        "colab": {
          "base_uri": "https://localhost:8080/",
          "height": 241
        },
        "id": "fbqbRb0FU5jO",
        "outputId": "1d75c407-24c8-44da-89f0-8144a01fd051"
      },
      "execution_count": null,
      "outputs": [
        {
          "output_type": "execute_result",
          "data": {
            "text/plain": [
              "Marketing_Channel\n",
              "Paid Ads                525\n",
              "Social Media            504\n",
              "Email                   488\n",
              "Influencer Marketing    483\n",
              "Name: count, dtype: int64"
            ],
            "text/html": [
              "<div>\n",
              "<style scoped>\n",
              "    .dataframe tbody tr th:only-of-type {\n",
              "        vertical-align: middle;\n",
              "    }\n",
              "\n",
              "    .dataframe tbody tr th {\n",
              "        vertical-align: top;\n",
              "    }\n",
              "\n",
              "    .dataframe thead th {\n",
              "        text-align: right;\n",
              "    }\n",
              "</style>\n",
              "<table border=\"1\" class=\"dataframe\">\n",
              "  <thead>\n",
              "    <tr style=\"text-align: right;\">\n",
              "      <th></th>\n",
              "      <th>count</th>\n",
              "    </tr>\n",
              "    <tr>\n",
              "      <th>Marketing_Channel</th>\n",
              "      <th></th>\n",
              "    </tr>\n",
              "  </thead>\n",
              "  <tbody>\n",
              "    <tr>\n",
              "      <th>Paid Ads</th>\n",
              "      <td>525</td>\n",
              "    </tr>\n",
              "    <tr>\n",
              "      <th>Social Media</th>\n",
              "      <td>504</td>\n",
              "    </tr>\n",
              "    <tr>\n",
              "      <th>Email</th>\n",
              "      <td>488</td>\n",
              "    </tr>\n",
              "    <tr>\n",
              "      <th>Influencer Marketing</th>\n",
              "      <td>483</td>\n",
              "    </tr>\n",
              "  </tbody>\n",
              "</table>\n",
              "</div><br><label><b>dtype:</b> int64</label>"
            ]
          },
          "metadata": {},
          "execution_count": 14
        }
      ]
    },
    {
      "cell_type": "code",
      "source": [
        "order = df['Marketing_Channel'].value_counts().index"
      ],
      "metadata": {
        "id": "EO8CcYZaWA7y"
      },
      "execution_count": null,
      "outputs": []
    },
    {
      "cell_type": "code",
      "source": [
        "sns.countplot(df['Marketing_Channel'] , order=order)\n",
        "plt.show()"
      ],
      "metadata": {
        "colab": {
          "base_uri": "https://localhost:8080/",
          "height": 449
        },
        "id": "NW3pQfwKVA9n",
        "outputId": "ae708947-2b45-42c2-b51d-3d9b71728bd9"
      },
      "execution_count": null,
      "outputs": [
        {
          "output_type": "display_data",
          "data": {
            "text/plain": [
              "<Figure size 640x480 with 1 Axes>"
            ],
            "image/png": "[encoded data removed]"
          },
          "metadata": {}
        }
      ]
    },
    {
      "cell_type": "code",
      "source": [
        "df['Age_Group'].value_counts()"
      ],
      "metadata": {
        "colab": {
          "base_uri": "https://localhost:8080/",
          "height": 272
        },
        "id": "YNVawv3ivnzL",
        "outputId": "dc93d1e3-03ec-47dc-ae90-90fce7847ce5"
      },
      "execution_count": null,
      "outputs": [
        {
          "output_type": "execute_result",
          "data": {
            "text/plain": [
              "Age_Group\n",
              "55+      420\n",
              "25-34    413\n",
              "18-24    408\n",
              "35-44    384\n",
              "45-54    375\n",
              "Name: count, dtype: int64"
            ],
            "text/html": [
              "<div>\n",
              "<style scoped>\n",
              "    .dataframe tbody tr th:only-of-type {\n",
              "        vertical-align: middle;\n",
              "    }\n",
              "\n",
              "    .dataframe tbody tr th {\n",
              "        vertical-align: top;\n",
              "    }\n",
              "\n",
              "    .dataframe thead th {\n",
              "        text-align: right;\n",
              "    }\n",
              "</style>\n",
              "<table border=\"1\" class=\"dataframe\">\n",
              "  <thead>\n",
              "    <tr style=\"text-align: right;\">\n",
              "      <th></th>\n",
              "      <th>count</th>\n",
              "    </tr>\n",
              "    <tr>\n",
              "      <th>Age_Group</th>\n",
              "      <th></th>\n",
              "    </tr>\n",
              "  </thead>\n",
              "  <tbody>\n",
              "    <tr>\n",
              "      <th>55+</th>\n",
              "      <td>420</td>\n",
              "    </tr>\n",
              "    <tr>\n",
              "      <th>25-34</th>\n",
              "      <td>413</td>\n",
              "    </tr>\n",
              "    <tr>\n",
              "      <th>18-24</th>\n",
              "      <td>408</td>\n",
              "    </tr>\n",
              "    <tr>\n",
              "      <th>35-44</th>\n",
              "      <td>384</td>\n",
              "    </tr>\n",
              "    <tr>\n",
              "      <th>45-54</th>\n",
              "      <td>375</td>\n",
              "    </tr>\n",
              "  </tbody>\n",
              "</table>\n",
              "</div><br><label><b>dtype:</b> int64</label>"
            ]
          },
          "metadata": {},
          "execution_count": 17
        }
      ]
    },
    {
      "cell_type": "code",
      "source": [
        "df['Gender'].value_counts()"
      ],
      "metadata": {
        "colab": {
          "base_uri": "https://localhost:8080/",
          "height": 178
        },
        "id": "PDPgqDZkvuRc",
        "outputId": "1bc6e643-8146-4284-a481-c70e6691839b"
      },
      "execution_count": null,
      "outputs": [
        {
          "output_type": "execute_result",
          "data": {
            "text/plain": [
              "Gender\n",
              "Male      1026\n",
              "Female     974\n",
              "Name: count, dtype: int64"
            ],
            "text/html": [
              "<div>\n",
              "<style scoped>\n",
              "    .dataframe tbody tr th:only-of-type {\n",
              "        vertical-align: middle;\n",
              "    }\n",
              "\n",
              "    .dataframe tbody tr th {\n",
              "        vertical-align: top;\n",
              "    }\n",
              "\n",
              "    .dataframe thead th {\n",
              "        text-align: right;\n",
              "    }\n",
              "</style>\n",
              "<table border=\"1\" class=\"dataframe\">\n",
              "  <thead>\n",
              "    <tr style=\"text-align: right;\">\n",
              "      <th></th>\n",
              "      <th>count</th>\n",
              "    </tr>\n",
              "    <tr>\n",
              "      <th>Gender</th>\n",
              "      <th></th>\n",
              "    </tr>\n",
              "  </thead>\n",
              "  <tbody>\n",
              "    <tr>\n",
              "      <th>Male</th>\n",
              "      <td>1026</td>\n",
              "    </tr>\n",
              "    <tr>\n",
              "      <th>Female</th>\n",
              "      <td>974</td>\n",
              "    </tr>\n",
              "  </tbody>\n",
              "</table>\n",
              "</div><br><label><b>dtype:</b> int64</label>"
            ]
          },
          "metadata": {},
          "execution_count": 18
        }
      ]
    },
    {
      "cell_type": "code",
      "source": [
        "df['Location'].value_counts()"
      ],
      "metadata": {
        "colab": {
          "base_uri": "https://localhost:8080/",
          "height": 272
        },
        "id": "ayGUTFn_wIRV",
        "outputId": "ea753c2f-c4ff-4afe-d6f4-15ae29966d63"
      },
      "execution_count": null,
      "outputs": [
        {
          "output_type": "execute_result",
          "data": {
            "text/plain": [
              "Location\n",
              "Bucharest      440\n",
              "Brașov         402\n",
              "Timișoara      394\n",
              "Iași           393\n",
              "Cluj-Napoca    371\n",
              "Name: count, dtype: int64"
            ],
            "text/html": [
              "<div>\n",
              "<style scoped>\n",
              "    .dataframe tbody tr th:only-of-type {\n",
              "        vertical-align: middle;\n",
              "    }\n",
              "\n",
              "    .dataframe tbody tr th {\n",
              "        vertical-align: top;\n",
              "    }\n",
              "\n",
              "    .dataframe thead th {\n",
              "        text-align: right;\n",
              "    }\n",
              "</style>\n",
              "<table border=\"1\" class=\"dataframe\">\n",
              "  <thead>\n",
              "    <tr style=\"text-align: right;\">\n",
              "      <th></th>\n",
              "      <th>count</th>\n",
              "    </tr>\n",
              "    <tr>\n",
              "      <th>Location</th>\n",
              "      <th></th>\n",
              "    </tr>\n",
              "  </thead>\n",
              "  <tbody>\n",
              "    <tr>\n",
              "      <th>Bucharest</th>\n",
              "      <td>440</td>\n",
              "    </tr>\n",
              "    <tr>\n",
              "      <th>Brașov</th>\n",
              "      <td>402</td>\n",
              "    </tr>\n",
              "    <tr>\n",
              "      <th>Timișoara</th>\n",
              "      <td>394</td>\n",
              "    </tr>\n",
              "    <tr>\n",
              "      <th>Iași</th>\n",
              "      <td>393</td>\n",
              "    </tr>\n",
              "    <tr>\n",
              "      <th>Cluj-Napoca</th>\n",
              "      <td>371</td>\n",
              "    </tr>\n",
              "  </tbody>\n",
              "</table>\n",
              "</div><br><label><b>dtype:</b> int64</label>"
            ]
          },
          "metadata": {},
          "execution_count": 19
        }
      ]
    },
    {
      "cell_type": "code",
      "source": [
        "#distribution of impressions across marketing campaigns.\n",
        "sns.histplot(df['Impressions'] , kde=True)\n",
        "plt.show()"
      ],
      "metadata": {
        "colab": {
          "base_uri": "https://localhost:8080/",
          "height": 449
        },
        "id": "7SwZuqOfVa_z",
        "outputId": "746ddad7-a7ae-4f15-92d9-dc50c94e4a95"
      },
      "execution_count": null,
      "outputs": [
        {
          "output_type": "display_data",
          "data": {
            "text/plain": [
              "<Figure size 640x480 with 1 Axes>"
            ],
            "image/png": "[encoded data removed]"
          },
          "metadata": {}
        }
      ]
    },
    {
      "cell_type": "code",
      "source": [],
      "metadata": {
        "id": "a_S3X6zuvq1s"
      },
      "execution_count": null,
      "outputs": []
    },
    {
      "cell_type": "code",
      "source": [
        "sns.histplot(df['Clicks'] , kde=True)\n",
        "plt.show()"
      ],
      "metadata": {
        "colab": {
          "base_uri": "https://localhost:8080/",
          "height": 449
        },
        "id": "kuoB1GawXWfl",
        "outputId": "f4a38600-d631-4d96-90e4-82f775277e94"
      },
      "execution_count": null,
      "outputs": [
        {
          "output_type": "display_data",
          "data": {
            "text/plain": [
              "<Figure size 640x480 with 1 Axes>"
            ],
            "image/png": "[encoded data removed]"
          },
          "metadata": {}
        }
      ]
    },
    {
      "cell_type": "code",
      "source": [
        "sns.histplot(df['Conversions'] , kde=True)\n",
        "plt.show()"
      ],
      "metadata": {
        "colab": {
          "base_uri": "https://localhost:8080/",
          "height": 449
        },
        "id": "eQG18EUkXWjC",
        "outputId": "b38cf004-c394-4791-e8d7-c28c19d099c7"
      },
      "execution_count": null,
      "outputs": [
        {
          "output_type": "display_data",
          "data": {
            "text/plain": [
              "<Figure size 640x480 with 1 Axes>"
            ],
            "image/png": "[encoded data removed]"
          },
          "metadata": {}
        }
      ]
    },
    {
      "cell_type": "code",
      "source": [
        "sns.histplot(df['Total_Spend'] , kde=True)\n",
        "plt.show()"
      ],
      "metadata": {
        "colab": {
          "base_uri": "https://localhost:8080/",
          "height": 450
        },
        "id": "PcsRwIJ8XlzL",
        "outputId": "a4bae015-8468-4f24-ffe8-d5c380520747"
      },
      "execution_count": null,
      "outputs": [
        {
          "output_type": "display_data",
          "data": {
            "text/plain": [
              "<Figure size 640x480 with 1 Axes>"
            ],
            "image/png": "[encoded data removed]"
          },
          "metadata": {}
        }
      ]
    },
    {
      "cell_type": "code",
      "source": [
        "sns.histplot(df['Revenue_Generated'] , kde=True)\n",
        "plt.show()"
      ],
      "metadata": {
        "colab": {
          "base_uri": "https://localhost:8080/",
          "height": 450
        },
        "id": "3An9eDGzXtbW",
        "outputId": "a2239856-12d3-4ef8-a8cf-02dcc7555642"
      },
      "execution_count": null,
      "outputs": [
        {
          "output_type": "display_data",
          "data": {
            "text/plain": [
              "<Figure size 640x480 with 1 Axes>"
            ],
            "image/png": "[encoded data removed]"
          },
          "metadata": {}
        }
      ]
    },
    {
      "cell_type": "markdown",
      "source": [
        "# Analysis"
      ],
      "metadata": {
        "id": "E1rn3HiZXMf-"
      }
    },
    {
      "cell_type": "code",
      "source": [
        "# Calculate duration in days\n",
        "df['Duration'] = (df['End_Date'] - df['Start_Date']).dt.days"
      ],
      "metadata": {
        "id": "wS3Jy1VwXOqN"
      },
      "execution_count": null,
      "outputs": []
    },
    {
      "cell_type": "code",
      "source": [
        "#show impressions acrosss each Campaign\n",
        "sns.barplot(data=(df.groupby('Campaign_Name')['Impressions'].mean().reset_index()) , x='Impressions', y='Campaign_Name' )\n",
        "plt.show()"
      ],
      "metadata": {
        "colab": {
          "base_uri": "https://localhost:8080/",
          "height": 449
        },
        "id": "B0r6wXtLXPVC",
        "outputId": "779c8b23-6259-49a4-bc21-82ef870f802f"
      },
      "execution_count": null,
      "outputs": [
        {
          "output_type": "display_data",
          "data": {
            "text/plain": [
              "<Figure size 640x480 with 1 Axes>"
            ],
            "image/png": "[encoded data removed]"
          },
          "metadata": {}
        }
      ]
    },
    {
      "cell_type": "code",
      "source": [
        "df.groupby('Campaign_Name')['Clicks'].mean()"
      ],
      "metadata": {
        "colab": {
          "base_uri": "https://localhost:8080/",
          "height": 303
        },
        "id": "0RGx36C0YsDr",
        "outputId": "6502fc20-2f6a-4eb1-db7b-fc314b25774b"
      },
      "execution_count": null,
      "outputs": [
        {
          "output_type": "execute_result",
          "data": {
            "text/plain": [
              "Campaign_Name\n",
              "Comfort & Chic Challenge          21139.061290\n",
              "Design Your Dream Space           21129.950435\n",
              "Furniture Refresh Revolution      20421.110448\n",
              "Style Your Home Story             22047.545723\n",
              "Sustainable Living Showcase       21645.580165\n",
              "Timeless Trends Transformation    22024.167857\n",
              "Name: Clicks, dtype: float64"
            ],
            "text/html": [
              "<div>\n",
              "<style scoped>\n",
              "    .dataframe tbody tr th:only-of-type {\n",
              "        vertical-align: middle;\n",
              "    }\n",
              "\n",
              "    .dataframe tbody tr th {\n",
              "        vertical-align: top;\n",
              "    }\n",
              "\n",
              "    .dataframe thead th {\n",
              "        text-align: right;\n",
              "    }\n",
              "</style>\n",
              "<table border=\"1\" class=\"dataframe\">\n",
              "  <thead>\n",
              "    <tr style=\"text-align: right;\">\n",
              "      <th></th>\n",
              "      <th>Clicks</th>\n",
              "    </tr>\n",
              "    <tr>\n",
              "      <th>Campaign_Name</th>\n",
              "      <th></th>\n",
              "    </tr>\n",
              "  </thead>\n",
              "  <tbody>\n",
              "    <tr>\n",
              "      <th>Comfort &amp; Chic Challenge</th>\n",
              "      <td>21139.061290</td>\n",
              "    </tr>\n",
              "    <tr>\n",
              "      <th>Design Your Dream Space</th>\n",
              "      <td>21129.950435</td>\n",
              "    </tr>\n",
              "    <tr>\n",
              "      <th>Furniture Refresh Revolution</th>\n",
              "      <td>20421.110448</td>\n",
              "    </tr>\n",
              "    <tr>\n",
              "      <th>Style Your Home Story</th>\n",
              "      <td>22047.545723</td>\n",
              "    </tr>\n",
              "    <tr>\n",
              "      <th>Sustainable Living Showcase</th>\n",
              "      <td>21645.580165</td>\n",
              "    </tr>\n",
              "    <tr>\n",
              "      <th>Timeless Trends Transformation</th>\n",
              "      <td>22024.167857</td>\n",
              "    </tr>\n",
              "  </tbody>\n",
              "</table>\n",
              "</div><br><label><b>dtype:</b> float64</label>"
            ]
          },
          "metadata": {},
          "execution_count": 27
        }
      ]
    },
    {
      "cell_type": "code",
      "source": [
        "df.groupby('Campaign_Name')['Conversions'].mean()"
      ],
      "metadata": {
        "colab": {
          "base_uri": "https://localhost:8080/",
          "height": 303
        },
        "id": "fMjrJAA7Y9xp",
        "outputId": "20ba4186-f1a9-449e-8294-313c777c74cd"
      },
      "execution_count": null,
      "outputs": [
        {
          "output_type": "execute_result",
          "data": {
            "text/plain": [
              "Campaign_Name\n",
              "Comfort & Chic Challenge          11397.677419\n",
              "Design Your Dream Space           10786.647826\n",
              "Furniture Refresh Revolution      10034.856418\n",
              "Style Your Home Story             10744.305900\n",
              "Sustainable Living Showcase       10830.517355\n",
              "Timeless Trends Transformation    10816.503896\n",
              "Name: Conversions, dtype: float64"
            ],
            "text/html": [
              "<div>\n",
              "<style scoped>\n",
              "    .dataframe tbody tr th:only-of-type {\n",
              "        vertical-align: middle;\n",
              "    }\n",
              "\n",
              "    .dataframe tbody tr th {\n",
              "        vertical-align: top;\n",
              "    }\n",
              "\n",
              "    .dataframe thead th {\n",
              "        text-align: right;\n",
              "    }\n",
              "</style>\n",
              "<table border=\"1\" class=\"dataframe\">\n",
              "  <thead>\n",
              "    <tr style=\"text-align: right;\">\n",
              "      <th></th>\n",
              "      <th>Conversions</th>\n",
              "    </tr>\n",
              "    <tr>\n",
              "      <th>Campaign_Name</th>\n",
              "      <th></th>\n",
              "    </tr>\n",
              "  </thead>\n",
              "  <tbody>\n",
              "    <tr>\n",
              "      <th>Comfort &amp; Chic Challenge</th>\n",
              "      <td>11397.677419</td>\n",
              "    </tr>\n",
              "    <tr>\n",
              "      <th>Design Your Dream Space</th>\n",
              "      <td>10786.647826</td>\n",
              "    </tr>\n",
              "    <tr>\n",
              "      <th>Furniture Refresh Revolution</th>\n",
              "      <td>10034.856418</td>\n",
              "    </tr>\n",
              "    <tr>\n",
              "      <th>Style Your Home Story</th>\n",
              "      <td>10744.305900</td>\n",
              "    </tr>\n",
              "    <tr>\n",
              "      <th>Sustainable Living Showcase</th>\n",
              "      <td>10830.517355</td>\n",
              "    </tr>\n",
              "    <tr>\n",
              "      <th>Timeless Trends Transformation</th>\n",
              "      <td>10816.503896</td>\n",
              "    </tr>\n",
              "  </tbody>\n",
              "</table>\n",
              "</div><br><label><b>dtype:</b> float64</label>"
            ]
          },
          "metadata": {},
          "execution_count": 28
        }
      ]
    },
    {
      "cell_type": "code",
      "source": [
        "df.groupby('Campaign_Name')['Total_Spend'].mean()"
      ],
      "metadata": {
        "colab": {
          "base_uri": "https://localhost:8080/",
          "height": 303
        },
        "id": "fSPPWZYCY91E",
        "outputId": "e35761f6-a21e-45dd-a979-3675401b920d"
      },
      "execution_count": null,
      "outputs": [
        {
          "output_type": "execute_result",
          "data": {
            "text/plain": [
              "Campaign_Name\n",
              "Comfort & Chic Challenge          4273.966545\n",
              "Design Your Dream Space           4562.332180\n",
              "Furniture Refresh Revolution      4090.628654\n",
              "Style Your Home Story             4392.449619\n",
              "Sustainable Living Showcase       4254.311771\n",
              "Timeless Trends Transformation    4429.781568\n",
              "Name: Total_Spend, dtype: float64"
            ],
            "text/html": [
              "<div>\n",
              "<style scoped>\n",
              "    .dataframe tbody tr th:only-of-type {\n",
              "        vertical-align: middle;\n",
              "    }\n",
              "\n",
              "    .dataframe tbody tr th {\n",
              "        vertical-align: top;\n",
              "    }\n",
              "\n",
              "    .dataframe thead th {\n",
              "        text-align: right;\n",
              "    }\n",
              "</style>\n",
              "<table border=\"1\" class=\"dataframe\">\n",
              "  <thead>\n",
              "    <tr style=\"text-align: right;\">\n",
              "      <th></th>\n",
              "      <th>Total_Spend</th>\n",
              "    </tr>\n",
              "    <tr>\n",
              "      <th>Campaign_Name</th>\n",
              "      <th></th>\n",
              "    </tr>\n",
              "  </thead>\n",
              "  <tbody>\n",
              "    <tr>\n",
              "      <th>Comfort &amp; Chic Challenge</th>\n",
              "      <td>4273.966545</td>\n",
              "    </tr>\n",
              "    <tr>\n",
              "      <th>Design Your Dream Space</th>\n",
              "      <td>4562.332180</td>\n",
              "    </tr>\n",
              "    <tr>\n",
              "      <th>Furniture Refresh Revolution</th>\n",
              "      <td>4090.628654</td>\n",
              "    </tr>\n",
              "    <tr>\n",
              "      <th>Style Your Home Story</th>\n",
              "      <td>4392.449619</td>\n",
              "    </tr>\n",
              "    <tr>\n",
              "      <th>Sustainable Living Showcase</th>\n",
              "      <td>4254.311771</td>\n",
              "    </tr>\n",
              "    <tr>\n",
              "      <th>Timeless Trends Transformation</th>\n",
              "      <td>4429.781568</td>\n",
              "    </tr>\n",
              "  </tbody>\n",
              "</table>\n",
              "</div><br><label><b>dtype:</b> float64</label>"
            ]
          },
          "metadata": {},
          "execution_count": 29
        }
      ]
    },
    {
      "cell_type": "code",
      "source": [
        "(df.groupby('Campaign_Name')['Revenue_Generated'].mean())"
      ],
      "metadata": {
        "colab": {
          "base_uri": "https://localhost:8080/",
          "height": 303
        },
        "id": "lCTgDTjMY9-B",
        "outputId": "d33a7802-e197-494e-82b7-54afe21abd67"
      },
      "execution_count": null,
      "outputs": [
        {
          "output_type": "execute_result",
          "data": {
            "text/plain": [
              "Campaign_Name\n",
              "Comfort & Chic Challenge          11562.987613\n",
              "Design Your Dream Space           11756.768200\n",
              "Furniture Refresh Revolution      10321.280284\n",
              "Style Your Home Story             11295.326599\n",
              "Sustainable Living Showcase       11469.608658\n",
              "Timeless Trends Transformation    11224.915539\n",
              "Name: Revenue_Generated, dtype: float64"
            ],
            "text/html": [
              "<div>\n",
              "<style scoped>\n",
              "    .dataframe tbody tr th:only-of-type {\n",
              "        vertical-align: middle;\n",
              "    }\n",
              "\n",
              "    .dataframe tbody tr th {\n",
              "        vertical-align: top;\n",
              "    }\n",
              "\n",
              "    .dataframe thead th {\n",
              "        text-align: right;\n",
              "    }\n",
              "</style>\n",
              "<table border=\"1\" class=\"dataframe\">\n",
              "  <thead>\n",
              "    <tr style=\"text-align: right;\">\n",
              "      <th></th>\n",
              "      <th>Revenue_Generated</th>\n",
              "    </tr>\n",
              "    <tr>\n",
              "      <th>Campaign_Name</th>\n",
              "      <th></th>\n",
              "    </tr>\n",
              "  </thead>\n",
              "  <tbody>\n",
              "    <tr>\n",
              "      <th>Comfort &amp; Chic Challenge</th>\n",
              "      <td>11562.987613</td>\n",
              "    </tr>\n",
              "    <tr>\n",
              "      <th>Design Your Dream Space</th>\n",
              "      <td>11756.768200</td>\n",
              "    </tr>\n",
              "    <tr>\n",
              "      <th>Furniture Refresh Revolution</th>\n",
              "      <td>10321.280284</td>\n",
              "    </tr>\n",
              "    <tr>\n",
              "      <th>Style Your Home Story</th>\n",
              "      <td>11295.326599</td>\n",
              "    </tr>\n",
              "    <tr>\n",
              "      <th>Sustainable Living Showcase</th>\n",
              "      <td>11469.608658</td>\n",
              "    </tr>\n",
              "    <tr>\n",
              "      <th>Timeless Trends Transformation</th>\n",
              "      <td>11224.915539</td>\n",
              "    </tr>\n",
              "  </tbody>\n",
              "</table>\n",
              "</div><br><label><b>dtype:</b> float64</label>"
            ]
          },
          "metadata": {},
          "execution_count": 30
        }
      ]
    },
    {
      "cell_type": "code",
      "source": [
        "df['Impressions'].corr(df['Revenue_Generated'])"
      ],
      "metadata": {
        "colab": {
          "base_uri": "https://localhost:8080/"
        },
        "id": "4jdK2CEcZG6G",
        "outputId": "5fd282ac-ea13-4c11-8a6d-7b7d3013ab5f"
      },
      "execution_count": null,
      "outputs": [
        {
          "output_type": "execute_result",
          "data": {
            "text/plain": [
              "0.002791034900938006"
            ]
          },
          "metadata": {},
          "execution_count": 31
        }
      ]
    },
    {
      "cell_type": "code",
      "source": [
        "# Calculating Campaign metrics\n",
        "df['CTR (%)'] = (df['Clicks'] / df['Impressions']) * 100\n",
        "df['Conversion Rate (%)'] = (df['Conversions'] / df['Clicks']) * 100\n",
        "df['Cost per Click (CPC)'] = df['Total_Spend'] / df['Clicks']\n",
        "df['Cost per Acquisition (CPA)'] = df['Total_Spend'] / df['Conversions']\n",
        "df['Return on Advertising Spend (ROAS)'] = df['Revenue_Generated'] / df['Total_Spend']"
      ],
      "metadata": {
        "id": "dMP2Zlbrm52t"
      },
      "execution_count": null,
      "outputs": []
    },
    {
      "cell_type": "code",
      "source": [
        "df.head()"
      ],
      "metadata": {
        "colab": {
          "base_uri": "https://localhost:8080/",
          "height": 399
        },
        "id": "anLJmudTwOWK",
        "outputId": "d7b7a7da-5d33-4553-bb89-8cef63c1fb12"
      },
      "execution_count": null,
      "outputs": [
        {
          "output_type": "execute_result",
          "data": {
            "text/plain": [
              "  Campaign_ID                   Campaign_Name Marketing_Channel Start_Date  \\\n",
              "0        CMP1  Timeless Trends Transformation          Paid Ads 2022-11-09   \n",
              "1        CMP2         Design Your Dream Space          Paid Ads 2022-12-27   \n",
              "2        CMP3           Style Your Home Story             Email 2022-11-03   \n",
              "3        CMP4        Comfort & Chic Challenge             Email 2022-11-29   \n",
              "4        CMP5  Timeless Trends Transformation             Email 2023-06-12   \n",
              "\n",
              "    End_Date  Impressions   Clicks  Conversions  Total_Spend  \\\n",
              "0 2024-04-25      23448.1   3488.4       2289.9     2461.447   \n",
              "1 2024-05-12      34902.7   3513.9       3362.6     7558.761   \n",
              "2 2024-04-07      13545.6   7962.8       7792.8     3568.351   \n",
              "3 2024-04-26      42709.1  22472.3       3221.5     4703.662   \n",
              "4 2024-11-04       4282.3   2981.8       2716.6     2477.512   \n",
              "\n",
              "   Revenue_Generated   Location Age_Group  Gender  Duration    CTR (%)  \\\n",
              "0           9434.541  Timișoara     35-44    Male       533  14.877112   \n",
              "1          18383.409  Timișoara     35-44    Male       502  10.067702   \n",
              "2           5198.192  Bucharest       55+  Female       521  58.785141   \n",
              "3          17582.828  Bucharest     25-34    Male       514  52.617124   \n",
              "4           3759.363  Bucharest       55+    Male       511  69.630806   \n",
              "\n",
              "   Conversion Rate (%)  Cost per Click (CPC)  Cost per Acquisition (CPA)  \\\n",
              "0            65.643275              0.705609                    1.074915   \n",
              "1            95.694243              2.151103                    2.247892   \n",
              "2            97.865073              0.448128                    0.457904   \n",
              "3            14.335426              0.209309                    1.460084   \n",
              "4            91.106043              0.830878                    0.911990   \n",
              "\n",
              "   Return on Advertising Spend (ROAS)  \n",
              "0                            3.832925  \n",
              "1                            2.432066  \n",
              "2                            1.456749  \n",
              "3                            3.738115  \n",
              "4                            1.517394  "
            ],
            "text/html": [
              "\n",
              "  <div id=\"df-8f49ca2a-7a6e-487b-9e56-a4b40ad7dedd\" class=\"colab-df-container\">\n",
              "    <div>\n",
              "<style scoped>\n",
              "    .dataframe tbody tr th:only-of-type {\n",
              "        vertical-align: middle;\n",
              "    }\n",
              "\n",
              "    .dataframe tbody tr th {\n",
              "        vertical-align: top;\n",
              "    }\n",
              "\n",
              "    .dataframe thead th {\n",
              "        text-align: right;\n",
              "    }\n",
              "</style>\n",
              "<table border=\"1\" class=\"dataframe\">\n",
              "  <thead>\n",
              "    <tr style=\"text-align: right;\">\n",
              "      <th></th>\n",
              "      <th>Campaign_ID</th>\n",
              "      <th>Campaign_Name</th>\n",
              "      <th>Marketing_Channel</th>\n",
              "      <th>Start_Date</th>\n",
              "      <th>End_Date</th>\n",
              "      <th>Impressions</th>\n",
              "      <th>Clicks</th>\n",
              "      <th>Conversions</th>\n",
              "      <th>Total_Spend</th>\n",
              "      <th>Revenue_Generated</th>\n",
              "      <th>Location</th>\n",
              "      <th>Age_Group</th>\n",
              "      <th>Gender</th>\n",
              "      <th>Duration</th>\n",
              "      <th>CTR (%)</th>\n",
              "      <th>Conversion Rate (%)</th>\n",
              "      <th>Cost per Click (CPC)</th>\n",
              "      <th>Cost per Acquisition (CPA)</th>\n",
              "      <th>Return on Advertising Spend (ROAS)</th>\n",
              "    </tr>\n",
              "  </thead>\n",
              "  <tbody>\n",
              "    <tr>\n",
              "      <th>0</th>\n",
              "      <td>CMP1</td>\n",
              "      <td>Timeless Trends Transformation</td>\n",
              "      <td>Paid Ads</td>\n",
              "      <td>2022-11-09</td>\n",
              "      <td>2024-04-25</td>\n",
              "      <td>23448.1</td>\n",
              "      <td>3488.4</td>\n",
              "      <td>2289.9</td>\n",
              "      <td>2461.447</td>\n",
              "      <td>9434.541</td>\n",
              "      <td>Timișoara</td>\n",
              "      <td>35-44</td>\n",
              "      <td>Male</td>\n",
              "      <td>533</td>\n",
              "      <td>14.877112</td>\n",
              "      <td>65.643275</td>\n",
              "      <td>0.705609</td>\n",
              "      <td>1.074915</td>\n",
              "      <td>3.832925</td>\n",
              "    </tr>\n",
              "    <tr>\n",
              "      <th>1</th>\n",
              "      <td>CMP2</td>\n",
              "      <td>Design Your Dream Space</td>\n",
              "      <td>Paid Ads</td>\n",
              "      <td>2022-12-27</td>\n",
              "      <td>2024-05-12</td>\n",
              "      <td>34902.7</td>\n",
              "      <td>3513.9</td>\n",
              "      <td>3362.6</td>\n",
              "      <td>7558.761</td>\n",
              "      <td>18383.409</td>\n",
              "      <td>Timișoara</td>\n",
              "      <td>35-44</td>\n",
              "      <td>Male</td>\n",
              "      <td>502</td>\n",
              "      <td>10.067702</td>\n",
              "      <td>95.694243</td>\n",
              "      <td>2.151103</td>\n",
              "      <td>2.247892</td>\n",
              "      <td>2.432066</td>\n",
              "    </tr>\n",
              "    <tr>\n",
              "      <th>2</th>\n",
              "      <td>CMP3</td>\n",
              "      <td>Style Your Home Story</td>\n",
              "      <td>Email</td>\n",
              "      <td>2022-11-03</td>\n",
              "      <td>2024-04-07</td>\n",
              "      <td>13545.6</td>\n",
              "      <td>7962.8</td>\n",
              "      <td>7792.8</td>\n",
              "      <td>3568.351</td>\n",
              "      <td>5198.192</td>\n",
              "      <td>Bucharest</td>\n",
              "      <td>55+</td>\n",
              "      <td>Female</td>\n",
              "      <td>521</td>\n",
              "      <td>58.785141</td>\n",
              "      <td>97.865073</td>\n",
              "      <td>0.448128</td>\n",
              "      <td>0.457904</td>\n",
              "      <td>1.456749</td>\n",
              "    </tr>\n",
              "    <tr>\n",
              "      <th>3</th>\n",
              "      <td>CMP4</td>\n",
              "      <td>Comfort &amp; Chic Challenge</td>\n",
              "      <td>Email</td>\n",
              "      <td>2022-11-29</td>\n",
              "      <td>2024-04-26</td>\n",
              "      <td>42709.1</td>\n",
              "      <td>22472.3</td>\n",
              "      <td>3221.5</td>\n",
              "      <td>4703.662</td>\n",
              "      <td>17582.828</td>\n",
              "      <td>Bucharest</td>\n",
              "      <td>25-34</td>\n",
              "      <td>Male</td>\n",
              "      <td>514</td>\n",
              "      <td>52.617124</td>\n",
              "      <td>14.335426</td>\n",
              "      <td>0.209309</td>\n",
              "      <td>1.460084</td>\n",
              "      <td>3.738115</td>\n",
              "    </tr>\n",
              "    <tr>\n",
              "      <th>4</th>\n",
              "      <td>CMP5</td>\n",
              "      <td>Timeless Trends Transformation</td>\n",
              "      <td>Email</td>\n",
              "      <td>2023-06-12</td>\n",
              "      <td>2024-11-04</td>\n",
              "      <td>4282.3</td>\n",
              "      <td>2981.8</td>\n",
              "      <td>2716.6</td>\n",
              "      <td>2477.512</td>\n",
              "      <td>3759.363</td>\n",
              "      <td>Bucharest</td>\n",
              "      <td>55+</td>\n",
              "      <td>Male</td>\n",
              "      <td>511</td>\n",
              "      <td>69.630806</td>\n",
              "      <td>91.106043</td>\n",
              "      <td>0.830878</td>\n",
              "      <td>0.911990</td>\n",
              "      <td>1.517394</td>\n",
              "    </tr>\n",
              "  </tbody>\n",
              "</table>\n",
              "</div>\n",
              "    <div class=\"colab-df-buttons\">\n",
              "\n",
              "  <div class=\"colab-df-container\">\n",
              "    <button class=\"colab-df-convert\" onclick=\"convertToInteractive('df-8f49ca2a-7a6e-487b-9e56-a4b40ad7dedd')\"\n",
              "            title=\"Convert this dataframe to an interactive table.\"\n",
              "            style=\"display:none;\">\n",
              "\n",
              "  <svg xmlns=\"http://www.w3.org/2000/svg\" height=\"24px\" viewBox=\"0 -960 960 960\">\n",
              "    <path d=\"M120-120v-720h720v720H120Zm60-500h600v-160H180v160Zm220 220h160v-160H400v160Zm0 220h160v-160H400v160ZM180-400h160v-160H180v160Zm440 0h160v-160H620v160ZM180-180h160v-160H180v160Zm440 0h160v-160H620v160Z\"/>\n",
              "  </svg>\n",
              "    </button>\n",
              "\n",
              "  <style>\n",
              "    .colab-df-container {\n",
              "      display:flex;\n",
              "      gap: 12px;\n",
              "    }\n",
              "\n",
              "    .colab-df-convert {\n",
              "      background-color: #E8F0FE;\n",
              "      border: none;\n",
              "      border-radius: 50%;\n",
              "      cursor: pointer;\n",
              "      display: none;\n",
              "      fill: #1967D2;\n",
              "      height: 32px;\n",
              "      padding: 0 0 0 0;\n",
              "      width: 32px;\n",
              "    }\n",
              "\n",
              "    .colab-df-convert:hover {\n",
              "      background-color: #E2EBFA;\n",
              "      box-shadow: 0px 1px 2px rgba(60, 64, 67, 0.3), 0px 1px 3px 1px rgba(60, 64, 67, 0.15);\n",
              "      fill: #174EA6;\n",
              "    }\n",
              "\n",
              "    .colab-df-buttons div {\n",
              "      margin-bottom: 4px;\n",
              "    }\n",
              "\n",
              "    [theme=dark] .colab-df-convert {\n",
              "      background-color: #3B4455;\n",
              "      fill: #D2E3FC;\n",
              "    }\n",
              "\n",
              "    [theme=dark] .colab-df-convert:hover {\n",
              "      background-color: #434B5C;\n",
              "      box-shadow: 0px 1px 3px 1px rgba(0, 0, 0, 0.15);\n",
              "      filter: drop-shadow(0px 1px 2px rgba(0, 0, 0, 0.3));\n",
              "      fill: #FFFFFF;\n",
              "    }\n",
              "  </style>\n",
              "\n",
              "    <script>\n",
              "      const buttonEl =\n",
              "        document.querySelector('#df-8f49ca2a-7a6e-487b-9e56-a4b40ad7dedd button.colab-df-convert');\n",
              "      buttonEl.style.display =\n",
              "        google.colab.kernel.accessAllowed ? 'block' : 'none';\n",
              "\n",
              "      async function convertToInteractive(key) {\n",
              "        const element = document.querySelector('#df-8f49ca2a-7a6e-487b-9e56-a4b40ad7dedd');\n",
              "        const dataTable =\n",
              "          await google.colab.kernel.invokeFunction('convertToInteractive',\n",
              "                                                    [key], {});\n",
              "        if (!dataTable) return;\n",
              "\n",
              "        const docLinkHtml = 'Like what you see? Visit the ' +\n",
              "          '<a target=\"_blank\" href=https://colab.research.google.com/notebooks/data_table.ipynb>data table notebook</a>'\n",
              "          + ' to learn more about interactive tables.';\n",
              "        element.innerHTML = '';\n",
              "        dataTable['output_type'] = 'display_data';\n",
              "        await google.colab.output.renderOutput(dataTable, element);\n",
              "        const docLink = document.createElement('div');\n",
              "        docLink.innerHTML = docLinkHtml;\n",
              "        element.appendChild(docLink);\n",
              "      }\n",
              "    </script>\n",
              "  </div>\n",
              "\n",
              "\n",
              "<div id=\"df-3d666868-6937-44ca-aeb0-3acd08e20c2a\">\n",
              "  <button class=\"colab-df-quickchart\" onclick=\"quickchart('df-3d666868-6937-44ca-aeb0-3acd08e20c2a')\"\n",
              "            title=\"Suggest charts\"\n",
              "            style=\"display:none;\">\n",
              "\n",
              "<svg xmlns=\"http://www.w3.org/2000/svg\" height=\"24px\"viewBox=\"0 0 24 24\"\n",
              "     width=\"24px\">\n",
              "    <g>\n",
              "        <path d=\"M19 3H5c-1.1 0-2 .9-2 2v14c0 1.1.9 2 2 2h14c1.1 0 2-.9 2-2V5c0-1.1-.9-2-2-2zM9 17H7v-7h2v7zm4 0h-2V7h2v10zm4 0h-2v-4h2v4z\"/>\n",
              "    </g>\n",
              "</svg>\n",
              "  </button>\n",
              "\n",
              "<style>\n",
              "  .colab-df-quickchart {\n",
              "      --bg-color: #E8F0FE;\n",
              "      --fill-color: #1967D2;\n",
              "      --hover-bg-color: #E2EBFA;\n",
              "      --hover-fill-color: #174EA6;\n",
              "      --disabled-fill-color: #AAA;\n",
              "      --disabled-bg-color: #DDD;\n",
              "  }\n",
              "\n",
              "  [theme=dark] .colab-df-quickchart {\n",
              "      --bg-color: #3B4455;\n",
              "      --fill-color: #D2E3FC;\n",
              "      --hover-bg-color: #434B5C;\n",
              "      --hover-fill-color: #FFFFFF;\n",
              "      --disabled-bg-color: #3B4455;\n",
              "      --disabled-fill-color: #666;\n",
              "  }\n",
              "\n",
              "  .colab-df-quickchart {\n",
              "    background-color: var(--bg-color);\n",
              "    border: none;\n",
              "    border-radius: 50%;\n",
              "    cursor: pointer;\n",
              "    display: none;\n",
              "    fill: var(--fill-color);\n",
              "    height: 32px;\n",
              "    padding: 0;\n",
              "    width: 32px;\n",
              "  }\n",
              "\n",
              "  .colab-df-quickchart:hover {\n",
              "    background-color: var(--hover-bg-color);\n",
              "    box-shadow: 0 1px 2px rgba(60, 64, 67, 0.3), 0 1px 3px 1px rgba(60, 64, 67, 0.15);\n",
              "    fill: var(--button-hover-fill-color);\n",
              "  }\n",
              "\n",
              "  .colab-df-quickchart-complete:disabled,\n",
              "  .colab-df-quickchart-complete:disabled:hover {\n",
              "    background-color: var(--disabled-bg-color);\n",
              "    fill: var(--disabled-fill-color);\n",
              "    box-shadow: none;\n",
              "  }\n",
              "\n",
              "  .colab-df-spinner {\n",
              "    border: 2px solid var(--fill-color);\n",
              "    border-color: transparent;\n",
              "    border-bottom-color: var(--fill-color);\n",
              "    animation:\n",
              "      spin 1s steps(1) infinite;\n",
              "  }\n",
              "\n",
              "  @keyframes spin {\n",
              "    0% {\n",
              "      border-color: transparent;\n",
              "      border-bottom-color: var(--fill-color);\n",
              "      border-left-color: var(--fill-color);\n",
              "    }\n",
              "    20% {\n",
              "      border-color: transparent;\n",
              "      border-left-color: var(--fill-color);\n",
              "      border-top-color: var(--fill-color);\n",
              "    }\n",
              "    30% {\n",
              "      border-color: transparent;\n",
              "      border-left-color: var(--fill-color);\n",
              "      border-top-color: var(--fill-color);\n",
              "      border-right-color: var(--fill-color);\n",
              "    }\n",
              "    40% {\n",
              "      border-color: transparent;\n",
              "      border-right-color: var(--fill-color);\n",
              "      border-top-color: var(--fill-color);\n",
              "    }\n",
              "    60% {\n",
              "      border-color: transparent;\n",
              "      border-right-color: var(--fill-color);\n",
              "    }\n",
              "    80% {\n",
              "      border-color: transparent;\n",
              "      border-right-color: var(--fill-color);\n",
              "      border-bottom-color: var(--fill-color);\n",
              "    }\n",
              "    90% {\n",
              "      border-color: transparent;\n",
              "      border-bottom-color: var(--fill-color);\n",
              "    }\n",
              "  }\n",
              "</style>\n",
              "\n",
              "  <script>\n",
              "    async function quickchart(key) {\n",
              "      const quickchartButtonEl =\n",
              "        document.querySelector('#' + key + ' button');\n",
              "      quickchartButtonEl.disabled = true;  // To prevent multiple clicks.\n",
              "      quickchartButtonEl.classList.add('colab-df-spinner');\n",
              "      try {\n",
              "        const charts = await google.colab.kernel.invokeFunction(\n",
              "            'suggestCharts', [key], {});\n",
              "      } catch (error) {\n",
              "        console.error('Error during call to suggestCharts:', error);\n",
              "      }\n",
              "      quickchartButtonEl.classList.remove('colab-df-spinner');\n",
              "      quickchartButtonEl.classList.add('colab-df-quickchart-complete');\n",
              "    }\n",
              "    (() => {\n",
              "      let quickchartButtonEl =\n",
              "        document.querySelector('#df-3d666868-6937-44ca-aeb0-3acd08e20c2a button');\n",
              "      quickchartButtonEl.style.display =\n",
              "        google.colab.kernel.accessAllowed ? 'block' : 'none';\n",
              "    })();\n",
              "  </script>\n",
              "</div>\n",
              "\n",
              "    </div>\n",
              "  </div>\n"
            ],
            "application/vnd.google.colaboratory.intrinsic+json": {
              "type": "dataframe",
              "variable_name": "df",
              "summary": "{\n  \"name\": \"df\",\n  \"rows\": 2000,\n  \"fields\": [\n    {\n      \"column\": \"Campaign_ID\",\n      \"properties\": {\n        \"dtype\": \"string\",\n        \"num_unique_values\": 2000,\n        \"samples\": [\n          \"CMP1861\",\n          \"CMP354\",\n          \"CMP1334\"\n        ],\n        \"semantic_type\": \"\",\n        \"description\": \"\"\n      }\n    },\n    {\n      \"column\": \"Campaign_Name\",\n      \"properties\": {\n        \"dtype\": \"category\",\n        \"num_unique_values\": 6,\n        \"samples\": [\n          \"Timeless Trends Transformation\",\n          \"Design Your Dream Space\",\n          \"Furniture Refresh Revolution\"\n        ],\n        \"semantic_type\": \"\",\n        \"description\": \"\"\n      }\n    },\n    {\n      \"column\": \"Marketing_Channel\",\n      \"properties\": {\n        \"dtype\": \"category\",\n        \"num_unique_values\": 4,\n        \"samples\": [\n          \"Email\",\n          \"Influencer Marketing\",\n          \"Paid Ads\"\n        ],\n        \"semantic_type\": \"\",\n        \"description\": \"\"\n      }\n    },\n    {\n      \"column\": \"Start_Date\",\n      \"properties\": {\n        \"dtype\": \"date\",\n        \"min\": \"2022-08-19 00:00:00\",\n        \"max\": \"2023-06-13 00:00:00\",\n        \"num_unique_values\": 299,\n        \"samples\": [\n          \"2022-09-28 00:00:00\",\n          \"2023-04-15 00:00:00\",\n          \"2022-10-11 00:00:00\"\n        ],\n        \"semantic_type\": \"\",\n        \"description\": \"\"\n      }\n    },\n    {\n      \"column\": \"End_Date\",\n      \"properties\": {\n        \"dtype\": \"date\",\n        \"min\": \"2024-01-06 00:00:00\",\n        \"max\": \"2024-11-23 00:00:00\",\n        \"num_unique_values\": 319,\n        \"samples\": [\n          \"2024-09-11 00:00:00\",\n          \"2024-05-29 00:00:00\",\n          \"2024-10-28 00:00:00\"\n        ],\n        \"semantic_type\": \"\",\n        \"description\": \"\"\n      }\n    },\n    {\n      \"column\": \"Impressions\",\n      \"properties\": {\n        \"dtype\": \"number\",\n        \"std\": 24043.07580112644,\n        \"min\": 1720.3999999999999,\n        \"max\": 84887.8,\n        \"num_unique_values\": 1969,\n        \"samples\": [\n          35108.4,\n          38360.5,\n          84228.2\n        ],\n        \"semantic_type\": \"\",\n        \"description\": \"\"\n      }\n    },\n    {\n      \"column\": \"Clicks\",\n      \"properties\": {\n        \"dtype\": \"number\",\n        \"std\": 18396.575782636326,\n        \"min\": 180.2,\n        \"max\": 82252.8,\n        \"num_unique_values\": 1938,\n        \"samples\": [\n          7264.099999999999,\n          24209.7,\n          22740.899999999998\n        ],\n        \"semantic_type\": \"\",\n        \"description\": \"\"\n      }\n    },\n    {\n      \"column\": \"Conversions\",\n      \"properties\": {\n        \"dtype\": \"number\",\n        \"std\": 12775.618284062926,\n        \"min\": 3.4,\n        \"max\": 75214.8,\n        \"num_unique_values\": 1793,\n        \"samples\": [\n          4688.599999999999,\n          3581.9,\n          45488.6\n        ],\n        \"semantic_type\": \"\",\n        \"description\": \"\"\n      }\n    },\n    {\n      \"column\": \"Total_Spend\",\n      \"properties\": {\n        \"dtype\": \"number\",\n        \"std\": 2385.430581097451,\n        \"min\": 171.10500000000002,\n        \"max\": 8499.643,\n        \"num_unique_values\": 1993,\n        \"samples\": [\n          8341.713,\n          1145.8339999999998,\n          5239.213\n        ],\n        \"semantic_type\": \"\",\n        \"description\": \"\"\n      }\n    },\n    {\n      \"column\": \"Revenue_Generated\",\n      \"properties\": {\n        \"dtype\": \"number\",\n        \"std\": 7354.751536152393,\n        \"min\": 252.586,\n        \"max\": 33778.303,\n        \"num_unique_values\": 1998,\n        \"samples\": [\n          10057.659,\n          8255.625,\n          18832.412999999997\n        ],\n        \"semantic_type\": \"\",\n        \"description\": \"\"\n      }\n    },\n    {\n      \"column\": \"Location\",\n      \"properties\": {\n        \"dtype\": \"category\",\n        \"num_unique_values\": 5,\n        \"samples\": [\n          \"Bucharest\",\n          \"Ia\\u0219i\",\n          \"Cluj-Napoca\"\n        ],\n        \"semantic_type\": \"\",\n        \"description\": \"\"\n      }\n    },\n    {\n      \"column\": \"Age_Group\",\n      \"properties\": {\n        \"dtype\": \"category\",\n        \"num_unique_values\": 5,\n        \"samples\": [\n          \"55+\",\n          \"45-54\",\n          \"25-34\"\n        ],\n        \"semantic_type\": \"\",\n        \"description\": \"\"\n      }\n    },\n    {\n      \"column\": \"Gender\",\n      \"properties\": {\n        \"dtype\": \"category\",\n        \"num_unique_values\": 2,\n        \"samples\": [\n          \"Female\",\n          \"Male\"\n        ],\n        \"semantic_type\": \"\",\n        \"description\": \"\"\n      }\n    },\n    {\n      \"column\": \"Duration\",\n      \"properties\": {\n        \"dtype\": \"number\",\n        \"std\": 8,\n        \"min\": 501,\n        \"max\": 533,\n        \"num_unique_values\": 31,\n        \"samples\": [\n          528,\n          530\n        ],\n        \"semantic_type\": \"\",\n        \"description\": \"\"\n      }\n    },\n    {\n      \"column\": \"CTR (%)\",\n      \"properties\": {\n        \"dtype\": \"number\",\n        \"std\": 28.66149849117298,\n        \"min\": 0.4315682816076857,\n        \"max\": 99.97925311203319,\n        \"num_unique_values\": 2000,\n        \"samples\": [\n          74.96187862153094,\n          22.84220383955049\n        ],\n        \"semantic_type\": \"\",\n        \"description\": \"\"\n      }\n    },\n    {\n      \"column\": \"Conversion Rate (%)\",\n      \"properties\": {\n        \"dtype\": \"number\",\n        \"std\": 28.782435850904523,\n        \"min\": 0.02978850163836759,\n        \"max\": 99.98504337421478,\n        \"num_unique_values\": 1998,\n        \"samples\": [\n          60.44113739038001,\n          63.216394581451894\n        ],\n        \"semantic_type\": \"\",\n        \"description\": \"\"\n      }\n    },\n    {\n      \"column\": \"Cost per Click (CPC)\",\n      \"properties\": {\n        \"dtype\": \"number\",\n        \"std\": 2.249974759369632,\n        \"min\": 0.004079337569805507,\n        \"max\": 37.08241379310345,\n        \"num_unique_values\": 2000,\n        \"samples\": [\n          0.537286411716843,\n          1.5053296891014694\n        ],\n        \"semantic_type\": \"\",\n        \"description\": \"\"\n      }\n    },\n    {\n      \"column\": \"Cost per Acquisition (CPA)\",\n      \"properties\": {\n        \"dtype\": \"number\",\n        \"std\": 82.66535202879494,\n        \"min\": 0.004979824182158812,\n        \"max\": 2499.2200000000003,\n        \"num_unique_values\": 2000,\n        \"samples\": [\n          18.342361111111114,\n          7.368060200668897\n        ],\n        \"semantic_type\": \"\",\n        \"description\": \"\"\n      }\n    },\n    {\n      \"column\": \"Return on Advertising Spend (ROAS)\",\n      \"properties\": {\n        \"dtype\": \"number\",\n        \"std\": 0.8012533158742738,\n        \"min\": 1.2001578531965273,\n        \"max\": 3.997877281092016,\n        \"num_unique_values\": 2000,\n        \"samples\": [\n          1.8965736569113691,\n          3.8161753024216423\n        ],\n        \"semantic_type\": \"\",\n        \"description\": \"\"\n      }\n    }\n  ]\n}"
            }
          },
          "metadata": {},
          "execution_count": 33
        }
      ]
    },
    {
      "cell_type": "code",
      "source": [
        "#Conversion Rate across each Campaign\n",
        "sns.barplot(y=df['Campaign_Name'] ,x=df['Conversion Rate (%)'])"
      ],
      "metadata": {
        "colab": {
          "base_uri": "https://localhost:8080/",
          "height": 467
        },
        "id": "2RDrzK8nw9kz",
        "outputId": "3bdc88f0-0ec7-480d-c3ad-41cc4f6c885b"
      },
      "execution_count": null,
      "outputs": [
        {
          "output_type": "execute_result",
          "data": {
            "text/plain": [
              "<Axes: xlabel='Conversion Rate (%)', ylabel='Campaign_Name'>"
            ]
          },
          "metadata": {},
          "execution_count": 34
        },
        {
          "output_type": "display_data",
          "data": {
            "text/plain": [
              "<Figure size 640x480 with 1 Axes>"
            ],
            "image/png": "[encoded data removed]"
          },
          "metadata": {}
        }
      ]
    },
    {
      "cell_type": "code",
      "source": [
        "#Cost per Click (CPC)  across each Campaign\n",
        "sns.barplot(y=df['Campaign_Name'] ,x=df['Cost per Click (CPC)'])"
      ],
      "metadata": {
        "colab": {
          "base_uri": "https://localhost:8080/",
          "height": 467
        },
        "id": "3B7W4a5Rqznd",
        "outputId": "8a97b499-13bc-441e-9b02-eceff953d9f5"
      },
      "execution_count": null,
      "outputs": [
        {
          "output_type": "execute_result",
          "data": {
            "text/plain": [
              "<Axes: xlabel='Cost per Click (CPC)', ylabel='Campaign_Name'>"
            ]
          },
          "metadata": {},
          "execution_count": 35
        },
        {
          "output_type": "display_data",
          "data": {
            "text/plain": [
              "<Figure size 640x480 with 1 Axes>"
            ],
            "image/png": "[encoded data removed]"
          },
          "metadata": {}
        }
      ]
    },
    {
      "cell_type": "code",
      "source": [
        "#Cost per Acquisition (CPA) across each Campaign\n",
        "sns.barplot(y=df['Campaign_Name'] ,x=df['Cost per Acquisition (CPA)'])"
      ],
      "metadata": {
        "colab": {
          "base_uri": "https://localhost:8080/",
          "height": 467
        },
        "id": "io6lssfvrtl2",
        "outputId": "ec491dd1-19e2-485a-9da6-dfd585b812f4"
      },
      "execution_count": null,
      "outputs": [
        {
          "output_type": "execute_result",
          "data": {
            "text/plain": [
              "<Axes: xlabel='Cost per Acquisition (CPA)', ylabel='Campaign_Name'>"
            ]
          },
          "metadata": {},
          "execution_count": 36
        },
        {
          "output_type": "display_data",
          "data": {
            "text/plain": [
              "<Figure size 640x480 with 1 Axes>"
            ],
            "image/png": "[encoded data removed]"
          },
          "metadata": {}
        }
      ]
    },
    {
      "cell_type": "code",
      "source": [
        "#Return on Advertising Spend (ROAS) across each Campaign\n",
        "sns.barplot(y=df['Campaign_Name'] ,x=df['Return on Advertising Spend (ROAS)'])"
      ],
      "metadata": {
        "colab": {
          "base_uri": "https://localhost:8080/",
          "height": 467
        },
        "id": "cvrN6sIwsEBb",
        "outputId": "b3b3e952-3282-424c-d354-225af6ba82f9"
      },
      "execution_count": null,
      "outputs": [
        {
          "output_type": "execute_result",
          "data": {
            "text/plain": [
              "<Axes: xlabel='Return on Advertising Spend (ROAS)', ylabel='Campaign_Name'>"
            ]
          },
          "metadata": {},
          "execution_count": 37
        },
        {
          "output_type": "display_data",
          "data": {
            "text/plain": [
              "<Figure size 640x480 with 1 Axes>"
            ],
            "image/png": "[encoded data removed]"
          },
          "metadata": {}
        }
      ]
    },
    {
      "cell_type": "code",
      "source": [
        "df['Revenue_Generated'].corr(df['Conversion Rate (%)'])"
      ],
      "metadata": {
        "colab": {
          "base_uri": "https://localhost:8080/"
        },
        "id": "YaDhdeCEsM8y",
        "outputId": "787e5168-b80f-4491-eca0-8c12eafb1c83"
      },
      "execution_count": null,
      "outputs": [
        {
          "output_type": "execute_result",
          "data": {
            "text/plain": [
              "0.02266485331638097"
            ]
          },
          "metadata": {},
          "execution_count": 38
        }
      ]
    },
    {
      "cell_type": "code",
      "source": [],
      "metadata": {
        "id": "ha1XRSbDsfz9"
      },
      "execution_count": null,
      "outputs": []
    },
    {
      "cell_type": "code",
      "source": [
        "#return Return on Advertising Spend (ROAS) for each channel\n",
        "sns.barplot(y=df['Marketing_Channel'] ,x=df['Return on Advertising Spend (ROAS)'])"
      ],
      "metadata": {
        "colab": {
          "base_uri": "https://localhost:8080/",
          "height": 467
        },
        "id": "KkHZRPPdszBU",
        "outputId": "6839d5b6-56f2-46ea-fea1-7250ea5d0ca3"
      },
      "execution_count": null,
      "outputs": [
        {
          "output_type": "execute_result",
          "data": {
            "text/plain": [
              "<Axes: xlabel='Return on Advertising Spend (ROAS)', ylabel='Marketing_Channel'>"
            ]
          },
          "metadata": {},
          "execution_count": 39
        },
        {
          "output_type": "display_data",
          "data": {
            "text/plain": [
              "<Figure size 640x480 with 1 Axes>"
            ],
            "image/png": "[encoded data removed]"
          },
          "metadata": {}
        }
      ]
    },
    {
      "cell_type": "markdown",
      "source": [
        "Best channel in ROS is Paid ads\n"
      ],
      "metadata": {
        "id": "MjDmQEHOtDAz"
      }
    },
    {
      "cell_type": "code",
      "source": [
        "#Return Conversion Rate (%) for each channel\n",
        "sns.barplot(y=df['Marketing_Channel'] ,x=df['Conversion Rate (%)'])"
      ],
      "metadata": {
        "colab": {
          "base_uri": "https://localhost:8080/",
          "height": 467
        },
        "id": "Kv5NJSnps9cP",
        "outputId": "af8b43a8-6bcd-41d8-95be-a8853a1da94a"
      },
      "execution_count": null,
      "outputs": [
        {
          "output_type": "execute_result",
          "data": {
            "text/plain": [
              "<Axes: xlabel='Conversion Rate (%)', ylabel='Marketing_Channel'>"
            ]
          },
          "metadata": {},
          "execution_count": 40
        },
        {
          "output_type": "display_data",
          "data": {
            "text/plain": [
              "<Figure size 640x480 with 1 Axes>"
            ],
            "image/png": "[encoded data removed]"
          },
          "metadata": {}
        }
      ]
    },
    {
      "cell_type": "markdown",
      "source": [
        "Best channel in Conversion Rate is Social media\n",
        "\n"
      ],
      "metadata": {
        "id": "KMLfrdC4tWhy"
      }
    },
    {
      "cell_type": "code",
      "source": [
        "#channels with high costs and low ROAS for budget review and adjustments.\n",
        "low_roas_threshold = 1.3\n",
        "df_low = (df[df['Return on Advertising Spend (ROAS)'] <low_roas_threshold])\n",
        "df_low.sort_values(by='Total_Spend', ascending=False).head(15)"
      ],
      "metadata": {
        "id": "myygb9OF-epq",
        "colab": {
          "base_uri": "https://localhost:8080/",
          "height": 990
        },
        "outputId": "906fdd3c-49f5-4f57-f25c-1911caeb0bf0"
      },
      "execution_count": null,
      "outputs": [
        {
          "output_type": "execute_result",
          "data": {
            "text/plain": [
              "     Campaign_ID                   Campaign_Name     Marketing_Channel  \\\n",
              "1562     CMP1563    Furniture Refresh Revolution          Social Media   \n",
              "1395     CMP1396     Sustainable Living Showcase              Paid Ads   \n",
              "1091     CMP1092           Style Your Home Story              Paid Ads   \n",
              "1567     CMP1568    Furniture Refresh Revolution              Paid Ads   \n",
              "509       CMP510    Furniture Refresh Revolution              Paid Ads   \n",
              "480       CMP481           Style Your Home Story  Influencer Marketing   \n",
              "1119     CMP1120    Furniture Refresh Revolution                 Email   \n",
              "106       CMP107     Sustainable Living Showcase              Paid Ads   \n",
              "1967     CMP1968           Style Your Home Story  Influencer Marketing   \n",
              "1130     CMP1131    Furniture Refresh Revolution          Social Media   \n",
              "1871     CMP1872         Design Your Dream Space          Social Media   \n",
              "1667     CMP1668        Comfort & Chic Challenge              Paid Ads   \n",
              "437       CMP438  Timeless Trends Transformation          Social Media   \n",
              "1951     CMP1952           Style Your Home Story          Social Media   \n",
              "265       CMP266         Design Your Dream Space          Social Media   \n",
              "\n",
              "     Start_Date   End_Date  Impressions   Clicks  Conversions  Total_Spend  \\\n",
              "1562 2023-05-30 2024-10-19       8124.3   4394.5        251.6     8465.439   \n",
              "1395 2022-12-07 2024-05-18      84484.9  24782.6       5953.4     8338.347   \n",
              "1091 2022-12-17 2024-05-19      23453.2  19721.7       3039.6     8315.890   \n",
              "1567 2023-01-24 2024-06-13      30125.7  26548.9       3250.4     8200.341   \n",
              "509  2023-06-07 2024-10-27      54602.3  17715.7       1307.3     8078.145   \n",
              "480  2022-10-17 2024-03-06      69813.9  39936.4      20313.3     7928.392   \n",
              "1119 2022-11-21 2024-04-10       1989.0    765.0        331.5     7876.559   \n",
              "106  2022-12-08 2024-05-19       7848.9    433.5        175.1     7805.176   \n",
              "1967 2023-03-26 2024-08-25      42265.4  19682.6      11391.7     7495.317   \n",
              "1130 2022-09-04 2024-01-20      75422.2  38873.9      15755.6     7415.791   \n",
              "1871 2022-11-07 2024-04-19      82283.4   4947.0        929.9     7036.011   \n",
              "1667 2023-01-24 2024-06-23      83109.6  49939.2      34538.9     7020.286   \n",
              "437  2022-11-07 2024-04-18      27067.4  26542.1       1642.2     6670.477   \n",
              "1951 2023-03-26 2024-08-26      32325.5   8027.4       2595.9     6510.439   \n",
              "265  2023-02-10 2024-07-06      47972.3   4091.9       1973.7     6486.384   \n",
              "\n",
              "      Revenue_Generated     Location Age_Group  Gender  Duration    CTR (%)  \\\n",
              "1562          10686.081       Brașov     45-54    Male       508  54.090814   \n",
              "1395          10254.638  Cluj-Napoca       55+    Male       528  29.333763   \n",
              "1091          10242.721         Iași     25-34    Male       519  84.089591   \n",
              "1567          10210.574       Brașov       55+    Male       506  88.127081   \n",
              "509           10200.153  Cluj-Napoca     45-54    Male       508  32.444970   \n",
              "480            9625.264       Brașov     18-24    Male       506  57.204081   \n",
              "1119           9536.609    Timișoara     45-54  Female       506  38.461538   \n",
              "106            9812.094         Iași     25-34  Female       528   5.523067   \n",
              "1967           9463.169    Timișoara     45-54  Female       518  46.569061   \n",
              "1130           9031.505       Brașov     25-34    Male       503  51.541721   \n",
              "1871           9008.691    Timișoara     18-24  Female       529   6.012148   \n",
              "1667           8870.651         Iași     45-54  Female       516  60.088365   \n",
              "437            8543.962    Timișoara       55+  Female       528  98.059289   \n",
              "1951           7945.154    Bucharest     35-44  Female       519  24.833027   \n",
              "265            8371.089  Cluj-Napoca     35-44    Male       512   8.529714   \n",
              "\n",
              "      Conversion Rate (%)  Cost per Click (CPC)  Cost per Acquisition (CPA)  \\\n",
              "1562             5.725338              1.926371                   33.646419   \n",
              "1395            24.022500              0.336460                    1.400603   \n",
              "1091            15.412464              0.421662                    2.735850   \n",
              "1567            12.243068              0.308877                    2.522871   \n",
              "509              7.379330              0.455988                    6.179259   \n",
              "480             50.864124              0.198525                    0.390305   \n",
              "1119            43.333333             10.296156                   23.760359   \n",
              "106             40.392157             18.005020                   44.575534   \n",
              "1967            57.877008              0.380809                    0.657963   \n",
              "1130            40.530021              0.190765                    0.470677   \n",
              "1871            18.797251              1.422278                    7.566417   \n",
              "1667            69.161901              0.140577                    0.203257   \n",
              "437              6.187152              0.251317                    4.061915   \n",
              "1951            32.337992              0.811027                    2.507970   \n",
              "265             48.234317              1.585177                    3.286408   \n",
              "\n",
              "      Return on Advertising Spend (ROAS)  \n",
              "1562                            1.262319  \n",
              "1395                            1.229817  \n",
              "1091                            1.231705  \n",
              "1567                            1.245140  \n",
              "509                             1.262685  \n",
              "480                             1.214025  \n",
              "1119                            1.210758  \n",
              "106                             1.257127  \n",
              "1967                            1.262544  \n",
              "1130                            1.217875  \n",
              "1871                            1.280369  \n",
              "1667                            1.263574  \n",
              "437                             1.280862  \n",
              "1951                            1.220371  \n",
              "265                             1.290563  "
            ],
            "text/html": [
              "\n",
              "  <div id=\"df-67ad9a92-4a79-450c-85b4-a8a83a4cac1c\" class=\"colab-df-container\">\n",
              "    <div>\n",
              "<style scoped>\n",
              "    .dataframe tbody tr th:only-of-type {\n",
              "        vertical-align: middle;\n",
              "    }\n",
              "\n",
              "    .dataframe tbody tr th {\n",
              "        vertical-align: top;\n",
              "    }\n",
              "\n",
              "    .dataframe thead th {\n",
              "        text-align: right;\n",
              "    }\n",
              "</style>\n",
              "<table border=\"1\" class=\"dataframe\">\n",
              "  <thead>\n",
              "    <tr style=\"text-align: right;\">\n",
              "      <th></th>\n",
              "      <th>Campaign_ID</th>\n",
              "      <th>Campaign_Name</th>\n",
              "      <th>Marketing_Channel</th>\n",
              "      <th>Start_Date</th>\n",
              "      <th>End_Date</th>\n",
              "      <th>Impressions</th>\n",
              "      <th>Clicks</th>\n",
              "      <th>Conversions</th>\n",
              "      <th>Total_Spend</th>\n",
              "      <th>Revenue_Generated</th>\n",
              "      <th>Location</th>\n",
              "      <th>Age_Group</th>\n",
              "      <th>Gender</th>\n",
              "      <th>Duration</th>\n",
              "      <th>CTR (%)</th>\n",
              "      <th>Conversion Rate (%)</th>\n",
              "      <th>Cost per Click (CPC)</th>\n",
              "      <th>Cost per Acquisition (CPA)</th>\n",
              "      <th>Return on Advertising Spend (ROAS)</th>\n",
              "    </tr>\n",
              "  </thead>\n",
              "  <tbody>\n",
              "    <tr>\n",
              "      <th>1562</th>\n",
              "      <td>CMP1563</td>\n",
              "      <td>Furniture Refresh Revolution</td>\n",
              "      <td>Social Media</td>\n",
              "      <td>2023-05-30</td>\n",
              "      <td>2024-10-19</td>\n",
              "      <td>8124.3</td>\n",
              "      <td>4394.5</td>\n",
              "      <td>251.6</td>\n",
              "      <td>8465.439</td>\n",
              "      <td>10686.081</td>\n",
              "      <td>Brașov</td>\n",
              "      <td>45-54</td>\n",
              "      <td>Male</td>\n",
              "      <td>508</td>\n",
              "      <td>54.090814</td>\n",
              "      <td>5.725338</td>\n",
              "      <td>1.926371</td>\n",
              "      <td>33.646419</td>\n",
              "      <td>1.262319</td>\n",
              "    </tr>\n",
              "    <tr>\n",
              "      <th>1395</th>\n",
              "      <td>CMP1396</td>\n",
              "      <td>Sustainable Living Showcase</td>\n",
              "      <td>Paid Ads</td>\n",
              "      <td>2022-12-07</td>\n",
              "      <td>2024-05-18</td>\n",
              "      <td>84484.9</td>\n",
              "      <td>24782.6</td>\n",
              "      <td>5953.4</td>\n",
              "      <td>8338.347</td>\n",
              "      <td>10254.638</td>\n",
              "      <td>Cluj-Napoca</td>\n",
              "      <td>55+</td>\n",
              "      <td>Male</td>\n",
              "      <td>528</td>\n",
              "      <td>29.333763</td>\n",
              "      <td>24.022500</td>\n",
              "      <td>0.336460</td>\n",
              "      <td>1.400603</td>\n",
              "      <td>1.229817</td>\n",
              "    </tr>\n",
              "    <tr>\n",
              "      <th>1091</th>\n",
              "      <td>CMP1092</td>\n",
              "      <td>Style Your Home Story</td>\n",
              "      <td>Paid Ads</td>\n",
              "      <td>2022-12-17</td>\n",
              "      <td>2024-05-19</td>\n",
              "      <td>23453.2</td>\n",
              "      <td>19721.7</td>\n",
              "      <td>3039.6</td>\n",
              "      <td>8315.890</td>\n",
              "      <td>10242.721</td>\n",
              "      <td>Iași</td>\n",
              "      <td>25-34</td>\n",
              "      <td>Male</td>\n",
              "      <td>519</td>\n",
              "      <td>84.089591</td>\n",
              "      <td>15.412464</td>\n",
              "      <td>0.421662</td>\n",
              "      <td>2.735850</td>\n",
              "      <td>1.231705</td>\n",
              "    </tr>\n",
              "    <tr>\n",
              "      <th>1567</th>\n",
              "      <td>CMP1568</td>\n",
              "      <td>Furniture Refresh Revolution</td>\n",
              "      <td>Paid Ads</td>\n",
              "      <td>2023-01-24</td>\n",
              "      <td>2024-06-13</td>\n",
              "      <td>30125.7</td>\n",
              "      <td>26548.9</td>\n",
              "      <td>3250.4</td>\n",
              "      <td>8200.341</td>\n",
              "      <td>10210.574</td>\n",
              "      <td>Brașov</td>\n",
              "      <td>55+</td>\n",
              "      <td>Male</td>\n",
              "      <td>506</td>\n",
              "      <td>88.127081</td>\n",
              "      <td>12.243068</td>\n",
              "      <td>0.308877</td>\n",
              "      <td>2.522871</td>\n",
              "      <td>1.245140</td>\n",
              "    </tr>\n",
              "    <tr>\n",
              "      <th>509</th>\n",
              "      <td>CMP510</td>\n",
              "      <td>Furniture Refresh Revolution</td>\n",
              "      <td>Paid Ads</td>\n",
              "      <td>2023-06-07</td>\n",
              "      <td>2024-10-27</td>\n",
              "      <td>54602.3</td>\n",
              "      <td>17715.7</td>\n",
              "      <td>1307.3</td>\n",
              "      <td>8078.145</td>\n",
              "      <td>10200.153</td>\n",
              "      <td>Cluj-Napoca</td>\n",
              "      <td>45-54</td>\n",
              "      <td>Male</td>\n",
              "      <td>508</td>\n",
              "      <td>32.444970</td>\n",
              "      <td>7.379330</td>\n",
              "      <td>0.455988</td>\n",
              "      <td>6.179259</td>\n",
              "      <td>1.262685</td>\n",
              "    </tr>\n",
              "    <tr>\n",
              "      <th>480</th>\n",
              "      <td>CMP481</td>\n",
              "      <td>Style Your Home Story</td>\n",
              "      <td>Influencer Marketing</td>\n",
              "      <td>2022-10-17</td>\n",
              "      <td>2024-03-06</td>\n",
              "      <td>69813.9</td>\n",
              "      <td>39936.4</td>\n",
              "      <td>20313.3</td>\n",
              "      <td>7928.392</td>\n",
              "      <td>9625.264</td>\n",
              "      <td>Brașov</td>\n",
              "      <td>18-24</td>\n",
              "      <td>Male</td>\n",
              "      <td>506</td>\n",
              "      <td>57.204081</td>\n",
              "      <td>50.864124</td>\n",
              "      <td>0.198525</td>\n",
              "      <td>0.390305</td>\n",
              "      <td>1.214025</td>\n",
              "    </tr>\n",
              "    <tr>\n",
              "      <th>1119</th>\n",
              "      <td>CMP1120</td>\n",
              "      <td>Furniture Refresh Revolution</td>\n",
              "      <td>Email</td>\n",
              "      <td>2022-11-21</td>\n",
              "      <td>2024-04-10</td>\n",
              "      <td>1989.0</td>\n",
              "      <td>765.0</td>\n",
              "      <td>331.5</td>\n",
              "      <td>7876.559</td>\n",
              "      <td>9536.609</td>\n",
              "      <td>Timișoara</td>\n",
              "      <td>45-54</td>\n",
              "      <td>Female</td>\n",
              "      <td>506</td>\n",
              "      <td>38.461538</td>\n",
              "      <td>43.333333</td>\n",
              "      <td>10.296156</td>\n",
              "      <td>23.760359</td>\n",
              "      <td>1.210758</td>\n",
              "    </tr>\n",
              "    <tr>\n",
              "      <th>106</th>\n",
              "      <td>CMP107</td>\n",
              "      <td>Sustainable Living Showcase</td>\n",
              "      <td>Paid Ads</td>\n",
              "      <td>2022-12-08</td>\n",
              "      <td>2024-05-19</td>\n",
              "      <td>7848.9</td>\n",
              "      <td>433.5</td>\n",
              "      <td>175.1</td>\n",
              "      <td>7805.176</td>\n",
              "      <td>9812.094</td>\n",
              "      <td>Iași</td>\n",
              "      <td>25-34</td>\n",
              "      <td>Female</td>\n",
              "      <td>528</td>\n",
              "      <td>5.523067</td>\n",
              "      <td>40.392157</td>\n",
              "      <td>18.005020</td>\n",
              "      <td>44.575534</td>\n",
              "      <td>1.257127</td>\n",
              "    </tr>\n",
              "    <tr>\n",
              "      <th>1967</th>\n",
              "      <td>CMP1968</td>\n",
              "      <td>Style Your Home Story</td>\n",
              "      <td>Influencer Marketing</td>\n",
              "      <td>2023-03-26</td>\n",
              "      <td>2024-08-25</td>\n",
              "      <td>42265.4</td>\n",
              "      <td>19682.6</td>\n",
              "      <td>11391.7</td>\n",
              "      <td>7495.317</td>\n",
              "      <td>9463.169</td>\n",
              "      <td>Timișoara</td>\n",
              "      <td>45-54</td>\n",
              "      <td>Female</td>\n",
              "      <td>518</td>\n",
              "      <td>46.569061</td>\n",
              "      <td>57.877008</td>\n",
              "      <td>0.380809</td>\n",
              "      <td>0.657963</td>\n",
              "      <td>1.262544</td>\n",
              "    </tr>\n",
              "    <tr>\n",
              "      <th>1130</th>\n",
              "      <td>CMP1131</td>\n",
              "      <td>Furniture Refresh Revolution</td>\n",
              "      <td>Social Media</td>\n",
              "      <td>2022-09-04</td>\n",
              "      <td>2024-01-20</td>\n",
              "      <td>75422.2</td>\n",
              "      <td>38873.9</td>\n",
              "      <td>15755.6</td>\n",
              "      <td>7415.791</td>\n",
              "      <td>9031.505</td>\n",
              "      <td>Brașov</td>\n",
              "      <td>25-34</td>\n",
              "      <td>Male</td>\n",
              "      <td>503</td>\n",
              "      <td>51.541721</td>\n",
              "      <td>40.530021</td>\n",
              "      <td>0.190765</td>\n",
              "      <td>0.470677</td>\n",
              "      <td>1.217875</td>\n",
              "    </tr>\n",
              "    <tr>\n",
              "      <th>1871</th>\n",
              "      <td>CMP1872</td>\n",
              "      <td>Design Your Dream Space</td>\n",
              "      <td>Social Media</td>\n",
              "      <td>2022-11-07</td>\n",
              "      <td>2024-04-19</td>\n",
              "      <td>82283.4</td>\n",
              "      <td>4947.0</td>\n",
              "      <td>929.9</td>\n",
              "      <td>7036.011</td>\n",
              "      <td>9008.691</td>\n",
              "      <td>Timișoara</td>\n",
              "      <td>18-24</td>\n",
              "      <td>Female</td>\n",
              "      <td>529</td>\n",
              "      <td>6.012148</td>\n",
              "      <td>18.797251</td>\n",
              "      <td>1.422278</td>\n",
              "      <td>7.566417</td>\n",
              "      <td>1.280369</td>\n",
              "    </tr>\n",
              "    <tr>\n",
              "      <th>1667</th>\n",
              "      <td>CMP1668</td>\n",
              "      <td>Comfort &amp; Chic Challenge</td>\n",
              "      <td>Paid Ads</td>\n",
              "      <td>2023-01-24</td>\n",
              "      <td>2024-06-23</td>\n",
              "      <td>83109.6</td>\n",
              "      <td>49939.2</td>\n",
              "      <td>34538.9</td>\n",
              "      <td>7020.286</td>\n",
              "      <td>8870.651</td>\n",
              "      <td>Iași</td>\n",
              "      <td>45-54</td>\n",
              "      <td>Female</td>\n",
              "      <td>516</td>\n",
              "      <td>60.088365</td>\n",
              "      <td>69.161901</td>\n",
              "      <td>0.140577</td>\n",
              "      <td>0.203257</td>\n",
              "      <td>1.263574</td>\n",
              "    </tr>\n",
              "    <tr>\n",
              "      <th>437</th>\n",
              "      <td>CMP438</td>\n",
              "      <td>Timeless Trends Transformation</td>\n",
              "      <td>Social Media</td>\n",
              "      <td>2022-11-07</td>\n",
              "      <td>2024-04-18</td>\n",
              "      <td>27067.4</td>\n",
              "      <td>26542.1</td>\n",
              "      <td>1642.2</td>\n",
              "      <td>6670.477</td>\n",
              "      <td>8543.962</td>\n",
              "      <td>Timișoara</td>\n",
              "      <td>55+</td>\n",
              "      <td>Female</td>\n",
              "      <td>528</td>\n",
              "      <td>98.059289</td>\n",
              "      <td>6.187152</td>\n",
              "      <td>0.251317</td>\n",
              "      <td>4.061915</td>\n",
              "      <td>1.280862</td>\n",
              "    </tr>\n",
              "    <tr>\n",
              "      <th>1951</th>\n",
              "      <td>CMP1952</td>\n",
              "      <td>Style Your Home Story</td>\n",
              "      <td>Social Media</td>\n",
              "      <td>2023-03-26</td>\n",
              "      <td>2024-08-26</td>\n",
              "      <td>32325.5</td>\n",
              "      <td>8027.4</td>\n",
              "      <td>2595.9</td>\n",
              "      <td>6510.439</td>\n",
              "      <td>7945.154</td>\n",
              "      <td>Bucharest</td>\n",
              "      <td>35-44</td>\n",
              "      <td>Female</td>\n",
              "      <td>519</td>\n",
              "      <td>24.833027</td>\n",
              "      <td>32.337992</td>\n",
              "      <td>0.811027</td>\n",
              "      <td>2.507970</td>\n",
              "      <td>1.220371</td>\n",
              "    </tr>\n",
              "    <tr>\n",
              "      <th>265</th>\n",
              "      <td>CMP266</td>\n",
              "      <td>Design Your Dream Space</td>\n",
              "      <td>Social Media</td>\n",
              "      <td>2023-02-10</td>\n",
              "      <td>2024-07-06</td>\n",
              "      <td>47972.3</td>\n",
              "      <td>4091.9</td>\n",
              "      <td>1973.7</td>\n",
              "      <td>6486.384</td>\n",
              "      <td>8371.089</td>\n",
              "      <td>Cluj-Napoca</td>\n",
              "      <td>35-44</td>\n",
              "      <td>Male</td>\n",
              "      <td>512</td>\n",
              "      <td>8.529714</td>\n",
              "      <td>48.234317</td>\n",
              "      <td>1.585177</td>\n",
              "      <td>3.286408</td>\n",
              "      <td>1.290563</td>\n",
              "    </tr>\n",
              "  </tbody>\n",
              "</table>\n",
              "</div>\n",
              "    <div class=\"colab-df-buttons\">\n",
              "\n",
              "  <div class=\"colab-df-container\">\n",
              "    <button class=\"colab-df-convert\" onclick=\"convertToInteractive('df-67ad9a92-4a79-450c-85b4-a8a83a4cac1c')\"\n",
              "            title=\"Convert this dataframe to an interactive table.\"\n",
              "            style=\"display:none;\">\n",
              "\n",
              "  <svg xmlns=\"http://www.w3.org/2000/svg\" height=\"24px\" viewBox=\"0 -960 960 960\">\n",
              "    <path d=\"M120-120v-720h720v720H120Zm60-500h600v-160H180v160Zm220 220h160v-160H400v160Zm0 220h160v-160H400v160ZM180-400h160v-160H180v160Zm440 0h160v-160H620v160ZM180-180h160v-160H180v160Zm440 0h160v-160H620v160Z\"/>\n",
              "  </svg>\n",
              "    </button>\n",
              "\n",
              "  <style>\n",
              "    .colab-df-container {\n",
              "      display:flex;\n",
              "      gap: 12px;\n",
              "    }\n",
              "\n",
              "    .colab-df-convert {\n",
              "      background-color: #E8F0FE;\n",
              "      border: none;\n",
              "      border-radius: 50%;\n",
              "      cursor: pointer;\n",
              "      display: none;\n",
              "      fill: #1967D2;\n",
              "      height: 32px;\n",
              "      padding: 0 0 0 0;\n",
              "      width: 32px;\n",
              "    }\n",
              "\n",
              "    .colab-df-convert:hover {\n",
              "      background-color: #E2EBFA;\n",
              "      box-shadow: 0px 1px 2px rgba(60, 64, 67, 0.3), 0px 1px 3px 1px rgba(60, 64, 67, 0.15);\n",
              "      fill: #174EA6;\n",
              "    }\n",
              "\n",
              "    .colab-df-buttons div {\n",
              "      margin-bottom: 4px;\n",
              "    }\n",
              "\n",
              "    [theme=dark] .colab-df-convert {\n",
              "      background-color: #3B4455;\n",
              "      fill: #D2E3FC;\n",
              "    }\n",
              "\n",
              "    [theme=dark] .colab-df-convert:hover {\n",
              "      background-color: #434B5C;\n",
              "      box-shadow: 0px 1px 3px 1px rgba(0, 0, 0, 0.15);\n",
              "      filter: drop-shadow(0px 1px 2px rgba(0, 0, 0, 0.3));\n",
              "      fill: #FFFFFF;\n",
              "    }\n",
              "  </style>\n",
              "\n",
              "    <script>\n",
              "      const buttonEl =\n",
              "        document.querySelector('#df-67ad9a92-4a79-450c-85b4-a8a83a4cac1c button.colab-df-convert');\n",
              "      buttonEl.style.display =\n",
              "        google.colab.kernel.accessAllowed ? 'block' : 'none';\n",
              "\n",
              "      async function convertToInteractive(key) {\n",
              "        const element = document.querySelector('#df-67ad9a92-4a79-450c-85b4-a8a83a4cac1c');\n",
              "        const dataTable =\n",
              "          await google.colab.kernel.invokeFunction('convertToInteractive',\n",
              "                                                    [key], {});\n",
              "        if (!dataTable) return;\n",
              "\n",
              "        const docLinkHtml = 'Like what you see? Visit the ' +\n",
              "          '<a target=\"_blank\" href=https://colab.research.google.com/notebooks/data_table.ipynb>data table notebook</a>'\n",
              "          + ' to learn more about interactive tables.';\n",
              "        element.innerHTML = '';\n",
              "        dataTable['output_type'] = 'display_data';\n",
              "        await google.colab.output.renderOutput(dataTable, element);\n",
              "        const docLink = document.createElement('div');\n",
              "        docLink.innerHTML = docLinkHtml;\n",
              "        element.appendChild(docLink);\n",
              "      }\n",
              "    </script>\n",
              "  </div>\n",
              "\n",
              "\n",
              "<div id=\"df-6555d16d-4a7d-428d-b519-793bf4f8b538\">\n",
              "  <button class=\"colab-df-quickchart\" onclick=\"quickchart('df-6555d16d-4a7d-428d-b519-793bf4f8b538')\"\n",
              "            title=\"Suggest charts\"\n",
              "            style=\"display:none;\">\n",
              "\n",
              "<svg xmlns=\"http://www.w3.org/2000/svg\" height=\"24px\"viewBox=\"0 0 24 24\"\n",
              "     width=\"24px\">\n",
              "    <g>\n",
              "        <path d=\"M19 3H5c-1.1 0-2 .9-2 2v14c0 1.1.9 2 2 2h14c1.1 0 2-.9 2-2V5c0-1.1-.9-2-2-2zM9 17H7v-7h2v7zm4 0h-2V7h2v10zm4 0h-2v-4h2v4z\"/>\n",
              "    </g>\n",
              "</svg>\n",
              "  </button>\n",
              "\n",
              "<style>\n",
              "  .colab-df-quickchart {\n",
              "      --bg-color: #E8F0FE;\n",
              "      --fill-color: #1967D2;\n",
              "      --hover-bg-color: #E2EBFA;\n",
              "      --hover-fill-color: #174EA6;\n",
              "      --disabled-fill-color: #AAA;\n",
              "      --disabled-bg-color: #DDD;\n",
              "  }\n",
              "\n",
              "  [theme=dark] .colab-df-quickchart {\n",
              "      --bg-color: #3B4455;\n",
              "      --fill-color: #D2E3FC;\n",
              "      --hover-bg-color: #434B5C;\n",
              "      --hover-fill-color: #FFFFFF;\n",
              "      --disabled-bg-color: #3B4455;\n",
              "      --disabled-fill-color: #666;\n",
              "  }\n",
              "\n",
              "  .colab-df-quickchart {\n",
              "    background-color: var(--bg-color);\n",
              "    border: none;\n",
              "    border-radius: 50%;\n",
              "    cursor: pointer;\n",
              "    display: none;\n",
              "    fill: var(--fill-color);\n",
              "    height: 32px;\n",
              "    padding: 0;\n",
              "    width: 32px;\n",
              "  }\n",
              "\n",
              "  .colab-df-quickchart:hover {\n",
              "    background-color: var(--hover-bg-color);\n",
              "    box-shadow: 0 1px 2px rgba(60, 64, 67, 0.3), 0 1px 3px 1px rgba(60, 64, 67, 0.15);\n",
              "    fill: var(--button-hover-fill-color);\n",
              "  }\n",
              "\n",
              "  .colab-df-quickchart-complete:disabled,\n",
              "  .colab-df-quickchart-complete:disabled:hover {\n",
              "    background-color: var(--disabled-bg-color);\n",
              "    fill: var(--disabled-fill-color);\n",
              "    box-shadow: none;\n",
              "  }\n",
              "\n",
              "  .colab-df-spinner {\n",
              "    border: 2px solid var(--fill-color);\n",
              "    border-color: transparent;\n",
              "    border-bottom-color: var(--fill-color);\n",
              "    animation:\n",
              "      spin 1s steps(1) infinite;\n",
              "  }\n",
              "\n",
              "  @keyframes spin {\n",
              "    0% {\n",
              "      border-color: transparent;\n",
              "      border-bottom-color: var(--fill-color);\n",
              "      border-left-color: var(--fill-color);\n",
              "    }\n",
              "    20% {\n",
              "      border-color: transparent;\n",
              "      border-left-color: var(--fill-color);\n",
              "      border-top-color: var(--fill-color);\n",
              "    }\n",
              "    30% {\n",
              "      border-color: transparent;\n",
              "      border-left-color: var(--fill-color);\n",
              "      border-top-color: var(--fill-color);\n",
              "      border-right-color: var(--fill-color);\n",
              "    }\n",
              "    40% {\n",
              "      border-color: transparent;\n",
              "      border-right-color: var(--fill-color);\n",
              "      border-top-color: var(--fill-color);\n",
              "    }\n",
              "    60% {\n",
              "      border-color: transparent;\n",
              "      border-right-color: var(--fill-color);\n",
              "    }\n",
              "    80% {\n",
              "      border-color: transparent;\n",
              "      border-right-color: var(--fill-color);\n",
              "      border-bottom-color: var(--fill-color);\n",
              "    }\n",
              "    90% {\n",
              "      border-color: transparent;\n",
              "      border-bottom-color: var(--fill-color);\n",
              "    }\n",
              "  }\n",
              "</style>\n",
              "\n",
              "  <script>\n",
              "    async function quickchart(key) {\n",
              "      const quickchartButtonEl =\n",
              "        document.querySelector('#' + key + ' button');\n",
              "      quickchartButtonEl.disabled = true;  // To prevent multiple clicks.\n",
              "      quickchartButtonEl.classList.add('colab-df-spinner');\n",
              "      try {\n",
              "        const charts = await google.colab.kernel.invokeFunction(\n",
              "            'suggestCharts', [key], {});\n",
              "      } catch (error) {\n",
              "        console.error('Error during call to suggestCharts:', error);\n",
              "      }\n",
              "      quickchartButtonEl.classList.remove('colab-df-spinner');\n",
              "      quickchartButtonEl.classList.add('colab-df-quickchart-complete');\n",
              "    }\n",
              "    (() => {\n",
              "      let quickchartButtonEl =\n",
              "        document.querySelector('#df-6555d16d-4a7d-428d-b519-793bf4f8b538 button');\n",
              "      quickchartButtonEl.style.display =\n",
              "        google.colab.kernel.accessAllowed ? 'block' : 'none';\n",
              "    })();\n",
              "  </script>\n",
              "</div>\n",
              "\n",
              "    </div>\n",
              "  </div>\n"
            ],
            "application/vnd.google.colaboratory.intrinsic+json": {
              "type": "dataframe",
              "summary": "{\n  \"name\": \"df_low\",\n  \"rows\": 15,\n  \"fields\": [\n    {\n      \"column\": \"Campaign_ID\",\n      \"properties\": {\n        \"dtype\": \"string\",\n        \"num_unique_values\": 15,\n        \"samples\": [\n          \"CMP1131\",\n          \"CMP1668\",\n          \"CMP1563\"\n        ],\n        \"semantic_type\": \"\",\n        \"description\": \"\"\n      }\n    },\n    {\n      \"column\": \"Campaign_Name\",\n      \"properties\": {\n        \"dtype\": \"category\",\n        \"num_unique_values\": 6,\n        \"samples\": [\n          \"Furniture Refresh Revolution\",\n          \"Sustainable Living Showcase\",\n          \"Timeless Trends Transformation\"\n        ],\n        \"semantic_type\": \"\",\n        \"description\": \"\"\n      }\n    },\n    {\n      \"column\": \"Marketing_Channel\",\n      \"properties\": {\n        \"dtype\": \"category\",\n        \"num_unique_values\": 4,\n        \"samples\": [\n          \"Paid Ads\",\n          \"Email\",\n          \"Social Media\"\n        ],\n        \"semantic_type\": \"\",\n        \"description\": \"\"\n      }\n    },\n    {\n      \"column\": \"Start_Date\",\n      \"properties\": {\n        \"dtype\": \"date\",\n        \"min\": \"2022-09-04 00:00:00\",\n        \"max\": \"2023-06-07 00:00:00\",\n        \"num_unique_values\": 12,\n        \"samples\": [\n          \"2022-11-07 00:00:00\",\n          \"2022-09-04 00:00:00\",\n          \"2023-05-30 00:00:00\"\n        ],\n        \"semantic_type\": \"\",\n        \"description\": \"\"\n      }\n    },\n    {\n      \"column\": \"End_Date\",\n      \"properties\": {\n        \"dtype\": \"date\",\n        \"min\": \"2024-01-20 00:00:00\",\n        \"max\": \"2024-10-27 00:00:00\",\n        \"num_unique_values\": 14,\n        \"samples\": [\n          \"2024-04-19 00:00:00\",\n          \"2024-04-18 00:00:00\",\n          \"2024-10-19 00:00:00\"\n        ],\n        \"semantic_type\": \"\",\n        \"description\": \"\"\n      }\n    },\n    {\n      \"column\": \"Impressions\",\n      \"properties\": {\n        \"dtype\": \"number\",\n        \"std\": 29041.56917456342,\n        \"min\": 1989.0,\n        \"max\": 84484.9,\n        \"num_unique_values\": 15,\n        \"samples\": [\n          75422.2,\n          83109.59999999999,\n          8124.3\n        ],\n        \"semantic_type\": \"\",\n        \"description\": \"\"\n      }\n    },\n    {\n      \"column\": \"Clicks\",\n      \"properties\": {\n        \"dtype\": \"number\",\n        \"std\": 15517.360225496137,\n        \"min\": 433.5,\n        \"max\": 49939.2,\n        \"num_unique_values\": 15,\n        \"samples\": [\n          38873.9,\n          49939.2,\n          4394.5\n        ],\n        \"semantic_type\": \"\",\n        \"description\": \"\"\n      }\n    },\n    {\n      \"column\": \"Conversions\",\n      \"properties\": {\n        \"dtype\": \"number\",\n        \"std\": 9788.731990294225,\n        \"min\": 175.1,\n        \"max\": 34538.9,\n        \"num_unique_values\": 15,\n        \"samples\": [\n          15755.6,\n          34538.9,\n          251.6\n        ],\n        \"semantic_type\": \"\",\n        \"description\": \"\"\n      }\n    },\n    {\n      \"column\": \"Total_Spend\",\n      \"properties\": {\n        \"dtype\": \"number\",\n        \"std\": 686.8113731402738,\n        \"min\": 6486.384,\n        \"max\": 8465.439,\n        \"num_unique_values\": 15,\n        \"samples\": [\n          7415.790999999999,\n          7020.286,\n          8465.439\n        ],\n        \"semantic_type\": \"\",\n        \"description\": \"\"\n      }\n    },\n    {\n      \"column\": \"Revenue_Generated\",\n      \"properties\": {\n        \"dtype\": \"number\",\n        \"std\": 804.8656079163305,\n        \"min\": 7945.1539999999995,\n        \"max\": 10686.081,\n        \"num_unique_values\": 15,\n        \"samples\": [\n          9031.505,\n          8870.651,\n          10686.081\n        ],\n        \"semantic_type\": \"\",\n        \"description\": \"\"\n      }\n    },\n    {\n      \"column\": \"Location\",\n      \"properties\": {\n        \"dtype\": \"category\",\n        \"num_unique_values\": 5,\n        \"samples\": [\n          \"Cluj-Napoca\",\n          \"Bucharest\",\n          \"Ia\\u0219i\"\n        ],\n        \"semantic_type\": \"\",\n        \"description\": \"\"\n      }\n    },\n    {\n      \"column\": \"Age_Group\",\n      \"properties\": {\n        \"dtype\": \"category\",\n        \"num_unique_values\": 5,\n        \"samples\": [\n          \"55+\",\n          \"35-44\",\n          \"25-34\"\n        ],\n        \"semantic_type\": \"\",\n        \"description\": \"\"\n      }\n    },\n    {\n      \"column\": \"Gender\",\n      \"properties\": {\n        \"dtype\": \"category\",\n        \"num_unique_values\": 2,\n        \"samples\": [\n          \"Female\",\n          \"Male\"\n        ],\n        \"semantic_type\": \"\",\n        \"description\": \"\"\n      }\n    },\n    {\n      \"column\": \"Duration\",\n      \"properties\": {\n        \"dtype\": \"number\",\n        \"std\": 9,\n        \"min\": 503,\n        \"max\": 529,\n        \"num_unique_values\": 9,\n        \"samples\": [\n          516,\n          528\n        ],\n        \"semantic_type\": \"\",\n        \"description\": \"\"\n      }\n    },\n    {\n      \"column\": \"CTR (%)\",\n      \"properties\": {\n        \"dtype\": \"number\",\n        \"std\": 29.230930910359987,\n        \"min\": 5.523066926575699,\n        \"max\": 98.05928903404096,\n        \"num_unique_values\": 15,\n        \"samples\": [\n          51.54172113780824,\n          60.08836524300442\n        ],\n        \"semantic_type\": \"\",\n        \"description\": \"\"\n      }\n    },\n    {\n      \"column\": \"Conversion Rate (%)\",\n      \"properties\": {\n        \"dtype\": \"number\",\n        \"std\": 20.3615621189345,\n        \"min\": 5.725338491295938,\n        \"max\": 69.16190087145971,\n        \"num_unique_values\": 15,\n        \"samples\": [\n          40.53002142825906,\n          69.16190087145971\n        ],\n        \"semantic_type\": \"\",\n        \"description\": \"\"\n      }\n    },\n    {\n      \"column\": \"Cost per Click (CPC)\",\n      \"properties\": {\n        \"dtype\": \"number\",\n        \"std\": 5.000353499631348,\n        \"min\": 0.14057666122004359,\n        \"max\": 18.005019607843135,\n        \"num_unique_values\": 15,\n        \"samples\": [\n          0.19076529496654565,\n          0.14057666122004359\n        ],\n        \"semantic_type\": \"\",\n        \"description\": \"\"\n      }\n    },\n    {\n      \"column\": \"Cost per Acquisition (CPA)\",\n      \"properties\": {\n        \"dtype\": \"number\",\n        \"std\": 13.713501062994407,\n        \"min\": 0.20325737067480434,\n        \"max\": 44.57553398058252,\n        \"num_unique_values\": 15,\n        \"samples\": [\n          0.4706765213638325,\n          0.20325737067480434\n        ],\n        \"semantic_type\": \"\",\n        \"description\": \"\"\n      }\n    },\n    {\n      \"column\": \"Return on Advertising Spend (ROAS)\",\n      \"properties\": {\n        \"dtype\": \"number\",\n        \"std\": 0.026332390633956863,\n        \"min\": 1.2107582765519818,\n        \"max\": 1.2905632783997987,\n        \"num_unique_values\": 15,\n        \"samples\": [\n          1.217874802566577,\n          1.263574019633958\n        ],\n        \"semantic_type\": \"\",\n        \"description\": \"\"\n      }\n    }\n  ]\n}"
            }
          },
          "metadata": {},
          "execution_count": 41
        }
      ]
    },
    {
      "cell_type": "markdown",
      "source": [
        "**Several Paid Ads campaigns have high total spend but generate relatively low ROAS**"
      ],
      "metadata": {
        "id": "dRo6rloo-h-8"
      }
    },
    {
      "cell_type": "markdown",
      "source": [
        "## campaign performance by demographics"
      ],
      "metadata": {
        "id": "-JZh_-lH9BoT"
      }
    },
    {
      "cell_type": "code",
      "source": [
        "sns.countplot(data = df , y='Campaign_Name', hue = 'Age_Group')"
      ],
      "metadata": {
        "colab": {
          "base_uri": "https://localhost:8080/"
        },
        "id": "McUMn7Za1dKm",
        "outputId": "8962edb0-a938-4eea-c006-1566de94896f"
      },
      "execution_count": null,
      "outputs": [
        {
          "output_type": "execute_result",
          "data": {
            "text/plain": [
              "<Axes: xlabel='count', ylabel='Campaign_Name'>"
            ]
          },
          "metadata": {},
          "execution_count": 42
        },
        {
          "output_type": "display_data",
          "data": {
            "text/plain": [
              "<Figure size 640x480 with 1 Axes>"
            ],
            "image/png": "[encoded data removed]"
          },
          "metadata": {}
        }
      ]
    },
    {
      "cell_type": "markdown",
      "source": [
        "-Design Your Dream Space, Style Your Home Story and Timeless Trends Transformation compaigns have a notably high count in 25-34, suggesting this group is more  engaged in the most campaigns.\n",
        "Some campaigns, such as \"Sustainable Living Showcase,\" have a notably high count in the 55+ age group, indicating that this campaign may appeal more to older participants.\n",
        "There is generally a lower representation of the 18-24 age group across the campaigns."
      ],
      "metadata": {
        "id": "hd0641Vr9j8T"
      }
    },
    {
      "cell_type": "code",
      "source": [
        "sns.countplot(data = df , y='Campaign_Name', hue = 'Gender')"
      ],
      "metadata": {
        "colab": {
          "base_uri": "https://localhost:8080/"
        },
        "id": "twiWimDb9jN9",
        "outputId": "cce8fdf4-3cb6-42c4-f12c-7ca6c829a597"
      },
      "execution_count": null,
      "outputs": [
        {
          "output_type": "execute_result",
          "data": {
            "text/plain": [
              "<Axes: xlabel='count', ylabel='Campaign_Name'>"
            ]
          },
          "metadata": {},
          "execution_count": 43
        },
        {
          "output_type": "display_data",
          "data": {
            "text/plain": [
              "<Figure size 640x480 with 1 Axes>"
            ],
            "image/png": "[encoded data removed]"
          },
          "metadata": {}
        }
      ]
    },
    {
      "cell_type": "markdown",
      "source": [
        "Male love most Your Home Story, Timeless Trends Transformation, Comfort & Chi Challenge and Sustanable Living Showcase\n",
        "Female love the other"
      ],
      "metadata": {
        "id": "9TJLkJxF-w-2"
      }
    },
    {
      "cell_type": "code",
      "source": [
        "sns.countplot(data = df , y='Campaign_Name', hue = 'Location')"
      ],
      "metadata": {
        "colab": {
          "base_uri": "https://localhost:8080/"
        },
        "id": "1fOtgEnS9XCl",
        "outputId": "bfd4950a-d6e1-4b5e-b9ca-071a219655a7"
      },
      "execution_count": null,
      "outputs": [
        {
          "output_type": "execute_result",
          "data": {
            "text/plain": [
              "<Axes: xlabel='count', ylabel='Campaign_Name'>"
            ]
          },
          "metadata": {},
          "execution_count": 44
        },
        {
          "output_type": "display_data",
          "data": {
            "text/plain": [
              "<Figure size 640x480 with 1 Axes>"
            ],
            "image/png": "[encoded data removed]"
          },
          "metadata": {}
        }
      ]
    },
    {
      "cell_type": "markdown",
      "source": [
        "Design Your Dream Space and Timeless Trends Transformation compaigns have a notably high count in Timisoara\n",
        " Comfort & Chi Challenge and Sustanable Living Showcase have a notably high count in lasi\n",
        " Style your home has high count in Burcharest"
      ],
      "metadata": {
        "id": "ksWhSYNA-yHn"
      }
    },
    {
      "cell_type": "markdown",
      "source": [
        "## campaign performance by channel"
      ],
      "metadata": {
        "id": "hItWUTH8gHG8"
      }
    },
    {
      "cell_type": "code",
      "source": [
        "sns.countplot(data = df , y='Marketing_Channel', hue = 'Age_Group')"
      ],
      "metadata": {
        "id": "I8s4e_h-1dNK",
        "colab": {
          "base_uri": "https://localhost:8080/"
        },
        "outputId": "271818a2-bbea-427f-a748-5db38d7b6721"
      },
      "execution_count": null,
      "outputs": [
        {
          "output_type": "execute_result",
          "data": {
            "text/plain": [
              "<Axes: xlabel='count', ylabel='Marketing_Channel'>"
            ]
          },
          "metadata": {},
          "execution_count": 45
        },
        {
          "output_type": "display_data",
          "data": {
            "text/plain": [
              "<Figure size 640x480 with 1 Axes>"
            ],
            "image/png": "[encoded data removed]"
          },
          "metadata": {}
        }
      ]
    },
    {
      "cell_type": "markdown",
      "source": [
        "55+ group prefers Email, 18-24 prefers Social media, 35-44 prefers paid Ads and 25-34 prefers Influncer Marketing"
      ],
      "metadata": {
        "id": "X9UqwGYVgt8w"
      }
    },
    {
      "cell_type": "code",
      "source": [
        "sns.countplot(data = df , y='Marketing_Channel', hue = 'Gender')"
      ],
      "metadata": {
        "id": "5VgRvdg31dP1",
        "colab": {
          "base_uri": "https://localhost:8080/"
        },
        "outputId": "b9342769-7c06-4871-8fbd-92474a926fde"
      },
      "execution_count": null,
      "outputs": [
        {
          "output_type": "execute_result",
          "data": {
            "text/plain": [
              "<Axes: xlabel='count', ylabel='Marketing_Channel'>"
            ]
          },
          "metadata": {},
          "execution_count": 46
        },
        {
          "output_type": "display_data",
          "data": {
            "text/plain": [
              "<Figure size 640x480 with 1 Axes>"
            ],
            "image/png": "[encoded data removed]"
          },
          "metadata": {}
        }
      ]
    },
    {
      "cell_type": "markdown",
      "source": [
        "female in most in social media, male in the other"
      ],
      "metadata": {
        "id": "4i3sumJ4ggFZ"
      }
    },
    {
      "cell_type": "code",
      "source": [
        "sns.countplot(data = df , y='Marketing_Channel', hue = 'Location')"
      ],
      "metadata": {
        "id": "T_auQvXi_0ow",
        "colab": {
          "base_uri": "https://localhost:8080/"
        },
        "outputId": "446e90d8-b142-47bb-fd54-2ff577266c4e"
      },
      "execution_count": null,
      "outputs": [
        {
          "output_type": "execute_result",
          "data": {
            "text/plain": [
              "<Axes: xlabel='count', ylabel='Marketing_Channel'>"
            ]
          },
          "metadata": {},
          "execution_count": 47
        },
        {
          "output_type": "display_data",
          "data": {
            "text/plain": [
              "<Figure size 640x480 with 1 Axes>"
            ],
            "image/png": "[encoded data removed]"
          },
          "metadata": {}
        }
      ]
    },
    {
      "cell_type": "markdown",
      "source": [],
      "metadata": {
        "id": "e56bnDSIhNag"
      }
    },
    {
      "cell_type": "markdown",
      "source": [
        "## ROS over Dates"
      ],
      "metadata": {
        "id": "anl70D8FclDJ"
      }
    },
    {
      "cell_type": "code",
      "source": [
        "# Expand each campaign's date range by week or month\n",
        "campaigns_resampled = []\n",
        "\n",
        "for _, row in df.iterrows():\n",
        "    date_range = pd.date_range(row['Start_Date'], row['End_Date'], freq='W')  # Change 'W' to 'M' for monthly\n",
        "    temp_df = pd.DataFrame({\n",
        "        'Campaign_ID': row['Campaign_ID'],\n",
        "        'Campaign_Name': row['Campaign_Name'],\n",
        "        'Marketing_Channel': row['Marketing_Channel'],\n",
        "        'Location': row['Location'],\n",
        "        'Age_Group': row['Age_Group'],\n",
        "        'Gender': row['Gender'],\n",
        "        'Date': date_range\n",
        "    })\n",
        "    temp_df['Impressions'] = row['Impressions'] / len(date_range)\n",
        "    temp_df['Clicks'] = row['Clicks'] / len(date_range)\n",
        "    temp_df['Conversions'] = row['Conversions'] / len(date_range)\n",
        "    temp_df['Total_Spend'] = row['Total_Spend'] / len(date_range)\n",
        "    temp_df['Revenue_Generated'] = row['Revenue_Generated'] / len(date_range)\n",
        "    campaigns_resampled.append(temp_df)\n",
        "\n",
        "# Concatenate all campaigns\n",
        "df_resampled = pd.concat(campaigns_resampled)\n",
        "\n",
        "# Calculate performance metrics\n",
        "df_resampled['CTR'] = (df_resampled['Clicks'] / df_resampled['Impressions']) * 100\n",
        "df_resampled['Conversion_Rate'] = (df_resampled['Conversions'] / df_resampled['Clicks']) * 100\n",
        "df_resampled['ROAS'] = df_resampled['Revenue_Generated'] / df_resampled['Total_Spend']\n",
        "\n",
        "# Aggregate by time period (weekly/monthly) to see trends\n",
        "weekly_trends = df_resampled.groupby('Date').sum()[['Impressions', 'Clicks', 'Conversions', 'Total_Spend', 'Revenue_Generated']]\n",
        "weekly_trends['CTR'] = (weekly_trends['Clicks'] / weekly_trends['Impressions']) * 100\n",
        "weekly_trends['Conversion_Rate'] = (weekly_trends['Conversions'] / weekly_trends['Clicks']) * 100\n",
        "weekly_trends['ROAS'] = weekly_trends['Revenue_Generated'] / weekly_trends['Total_Spend']"
      ],
      "metadata": {
        "id": "Apa-YnSqBj1T"
      },
      "execution_count": null,
      "outputs": []
    },
    {
      "cell_type": "code",
      "source": [
        "# Optional: Plot the trends to visualize seasonal variations\n",
        "import matplotlib.pyplot as plt\n",
        "\n",
        "# Plot ROAS trend\n",
        "plt.figure(figsize=(12, 6))\n",
        "plt.plot(weekly_trends.index, weekly_trends['ROAS'], label='ROAS')\n",
        "plt.xlabel('Date')\n",
        "plt.ylabel('ROAS')\n",
        "plt.title('ROAS Over Time')\n",
        "plt.legend()\n",
        "plt.show()"
      ],
      "metadata": {
        "id": "2iNO-7Iw_04y",
        "colab": {
          "base_uri": "https://localhost:8080/",
          "height": 564
        },
        "outputId": "002f702e-088c-4353-ea62-ab53bd8ba064"
      },
      "execution_count": null,
      "outputs": [
        {
          "output_type": "display_data",
          "data": {
            "text/plain": [
              "<Figure size 1200x600 with 1 Axes>"
            ],
            "image/png": "[encoded data removed]"
          },
          "metadata": {}
        }
      ]
    },
    {
      "cell_type": "code",
      "source": [
        "df.head()"
      ],
      "metadata": {
        "id": "J6g3qAG9_07e",
        "colab": {
          "base_uri": "https://localhost:8080/",
          "height": 399
        },
        "outputId": "edac51ab-a244-422d-d62a-0c06e6ba6730"
      },
      "execution_count": null,
      "outputs": [
        {
          "output_type": "execute_result",
          "data": {
            "text/plain": [
              "  Campaign_ID                   Campaign_Name Marketing_Channel Start_Date  \\\n",
              "0        CMP1  Timeless Trends Transformation          Paid Ads 2022-11-09   \n",
              "1        CMP2         Design Your Dream Space          Paid Ads 2022-12-27   \n",
              "2        CMP3           Style Your Home Story             Email 2022-11-03   \n",
              "3        CMP4        Comfort & Chic Challenge             Email 2022-11-29   \n",
              "4        CMP5  Timeless Trends Transformation             Email 2023-06-12   \n",
              "\n",
              "    End_Date  Impressions   Clicks  Conversions  Total_Spend  \\\n",
              "0 2024-04-25      23448.1   3488.4       2289.9     2461.447   \n",
              "1 2024-05-12      34902.7   3513.9       3362.6     7558.761   \n",
              "2 2024-04-07      13545.6   7962.8       7792.8     3568.351   \n",
              "3 2024-04-26      42709.1  22472.3       3221.5     4703.662   \n",
              "4 2024-11-04       4282.3   2981.8       2716.6     2477.512   \n",
              "\n",
              "   Revenue_Generated   Location Age_Group  Gender  Duration    CTR (%)  \\\n",
              "0           9434.541  Timișoara     35-44    Male       533  14.877112   \n",
              "1          18383.409  Timișoara     35-44    Male       502  10.067702   \n",
              "2           5198.192  Bucharest       55+  Female       521  58.785141   \n",
              "3          17582.828  Bucharest     25-34    Male       514  52.617124   \n",
              "4           3759.363  Bucharest       55+    Male       511  69.630806   \n",
              "\n",
              "   Conversion Rate (%)  Cost per Click (CPC)  Cost per Acquisition (CPA)  \\\n",
              "0            65.643275              0.705609                    1.074915   \n",
              "1            95.694243              2.151103                    2.247892   \n",
              "2            97.865073              0.448128                    0.457904   \n",
              "3            14.335426              0.209309                    1.460084   \n",
              "4            91.106043              0.830878                    0.911990   \n",
              "\n",
              "   Return on Advertising Spend (ROAS)  \n",
              "0                            3.832925  \n",
              "1                            2.432066  \n",
              "2                            1.456749  \n",
              "3                            3.738115  \n",
              "4                            1.517394  "
            ],
            "text/html": [
              "\n",
              "  <div id=\"df-8d107f77-2940-4479-820d-985deebe4f08\" class=\"colab-df-container\">\n",
              "    <div>\n",
              "<style scoped>\n",
              "    .dataframe tbody tr th:only-of-type {\n",
              "        vertical-align: middle;\n",
              "    }\n",
              "\n",
              "    .dataframe tbody tr th {\n",
              "        vertical-align: top;\n",
              "    }\n",
              "\n",
              "    .dataframe thead th {\n",
              "        text-align: right;\n",
              "    }\n",
              "</style>\n",
              "<table border=\"1\" class=\"dataframe\">\n",
              "  <thead>\n",
              "    <tr style=\"text-align: right;\">\n",
              "      <th></th>\n",
              "      <th>Campaign_ID</th>\n",
              "      <th>Campaign_Name</th>\n",
              "      <th>Marketing_Channel</th>\n",
              "      <th>Start_Date</th>\n",
              "      <th>End_Date</th>\n",
              "      <th>Impressions</th>\n",
              "      <th>Clicks</th>\n",
              "      <th>Conversions</th>\n",
              "      <th>Total_Spend</th>\n",
              "      <th>Revenue_Generated</th>\n",
              "      <th>Location</th>\n",
              "      <th>Age_Group</th>\n",
              "      <th>Gender</th>\n",
              "      <th>Duration</th>\n",
              "      <th>CTR (%)</th>\n",
              "      <th>Conversion Rate (%)</th>\n",
              "      <th>Cost per Click (CPC)</th>\n",
              "      <th>Cost per Acquisition (CPA)</th>\n",
              "      <th>Return on Advertising Spend (ROAS)</th>\n",
              "    </tr>\n",
              "  </thead>\n",
              "  <tbody>\n",
              "    <tr>\n",
              "      <th>0</th>\n",
              "      <td>CMP1</td>\n",
              "      <td>Timeless Trends Transformation</td>\n",
              "      <td>Paid Ads</td>\n",
              "      <td>2022-11-09</td>\n",
              "      <td>2024-04-25</td>\n",
              "      <td>23448.1</td>\n",
              "      <td>3488.4</td>\n",
              "      <td>2289.9</td>\n",
              "      <td>2461.447</td>\n",
              "      <td>9434.541</td>\n",
              "      <td>Timișoara</td>\n",
              "      <td>35-44</td>\n",
              "      <td>Male</td>\n",
              "      <td>533</td>\n",
              "      <td>14.877112</td>\n",
              "      <td>65.643275</td>\n",
              "      <td>0.705609</td>\n",
              "      <td>1.074915</td>\n",
              "      <td>3.832925</td>\n",
              "    </tr>\n",
              "    <tr>\n",
              "      <th>1</th>\n",
              "      <td>CMP2</td>\n",
              "      <td>Design Your Dream Space</td>\n",
              "      <td>Paid Ads</td>\n",
              "      <td>2022-12-27</td>\n",
              "      <td>2024-05-12</td>\n",
              "      <td>34902.7</td>\n",
              "      <td>3513.9</td>\n",
              "      <td>3362.6</td>\n",
              "      <td>7558.761</td>\n",
              "      <td>18383.409</td>\n",
              "      <td>Timișoara</td>\n",
              "      <td>35-44</td>\n",
              "      <td>Male</td>\n",
              "      <td>502</td>\n",
              "      <td>10.067702</td>\n",
              "      <td>95.694243</td>\n",
              "      <td>2.151103</td>\n",
              "      <td>2.247892</td>\n",
              "      <td>2.432066</td>\n",
              "    </tr>\n",
              "    <tr>\n",
              "      <th>2</th>\n",
              "      <td>CMP3</td>\n",
              "      <td>Style Your Home Story</td>\n",
              "      <td>Email</td>\n",
              "      <td>2022-11-03</td>\n",
              "      <td>2024-04-07</td>\n",
              "      <td>13545.6</td>\n",
              "      <td>7962.8</td>\n",
              "      <td>7792.8</td>\n",
              "      <td>3568.351</td>\n",
              "      <td>5198.192</td>\n",
              "      <td>Bucharest</td>\n",
              "      <td>55+</td>\n",
              "      <td>Female</td>\n",
              "      <td>521</td>\n",
              "      <td>58.785141</td>\n",
              "      <td>97.865073</td>\n",
              "      <td>0.448128</td>\n",
              "      <td>0.457904</td>\n",
              "      <td>1.456749</td>\n",
              "    </tr>\n",
              "    <tr>\n",
              "      <th>3</th>\n",
              "      <td>CMP4</td>\n",
              "      <td>Comfort &amp; Chic Challenge</td>\n",
              "      <td>Email</td>\n",
              "      <td>2022-11-29</td>\n",
              "      <td>2024-04-26</td>\n",
              "      <td>42709.1</td>\n",
              "      <td>22472.3</td>\n",
              "      <td>3221.5</td>\n",
              "      <td>4703.662</td>\n",
              "      <td>17582.828</td>\n",
              "      <td>Bucharest</td>\n",
              "      <td>25-34</td>\n",
              "      <td>Male</td>\n",
              "      <td>514</td>\n",
              "      <td>52.617124</td>\n",
              "      <td>14.335426</td>\n",
              "      <td>0.209309</td>\n",
              "      <td>1.460084</td>\n",
              "      <td>3.738115</td>\n",
              "    </tr>\n",
              "    <tr>\n",
              "      <th>4</th>\n",
              "      <td>CMP5</td>\n",
              "      <td>Timeless Trends Transformation</td>\n",
              "      <td>Email</td>\n",
              "      <td>2023-06-12</td>\n",
              "      <td>2024-11-04</td>\n",
              "      <td>4282.3</td>\n",
              "      <td>2981.8</td>\n",
              "      <td>2716.6</td>\n",
              "      <td>2477.512</td>\n",
              "      <td>3759.363</td>\n",
              "      <td>Bucharest</td>\n",
              "      <td>55+</td>\n",
              "      <td>Male</td>\n",
              "      <td>511</td>\n",
              "      <td>69.630806</td>\n",
              "      <td>91.106043</td>\n",
              "      <td>0.830878</td>\n",
              "      <td>0.911990</td>\n",
              "      <td>1.517394</td>\n",
              "    </tr>\n",
              "  </tbody>\n",
              "</table>\n",
              "</div>\n",
              "    <div class=\"colab-df-buttons\">\n",
              "\n",
              "  <div class=\"colab-df-container\">\n",
              "    <button class=\"colab-df-convert\" onclick=\"convertToInteractive('df-8d107f77-2940-4479-820d-985deebe4f08')\"\n",
              "            title=\"Convert this dataframe to an interactive table.\"\n",
              "            style=\"display:none;\">\n",
              "\n",
              "  <svg xmlns=\"http://www.w3.org/2000/svg\" height=\"24px\" viewBox=\"0 -960 960 960\">\n",
              "    <path d=\"M120-120v-720h720v720H120Zm60-500h600v-160H180v160Zm220 220h160v-160H400v160Zm0 220h160v-160H400v160ZM180-400h160v-160H180v160Zm440 0h160v-160H620v160ZM180-180h160v-160H180v160Zm440 0h160v-160H620v160Z\"/>\n",
              "  </svg>\n",
              "    </button>\n",
              "\n",
              "  <style>\n",
              "    .colab-df-container {\n",
              "      display:flex;\n",
              "      gap: 12px;\n",
              "    }\n",
              "\n",
              "    .colab-df-convert {\n",
              "      background-color: #E8F0FE;\n",
              "      border: none;\n",
              "      border-radius: 50%;\n",
              "      cursor: pointer;\n",
              "      display: none;\n",
              "      fill: #1967D2;\n",
              "      height: 32px;\n",
              "      padding: 0 0 0 0;\n",
              "      width: 32px;\n",
              "    }\n",
              "\n",
              "    .colab-df-convert:hover {\n",
              "      background-color: #E2EBFA;\n",
              "      box-shadow: 0px 1px 2px rgba(60, 64, 67, 0.3), 0px 1px 3px 1px rgba(60, 64, 67, 0.15);\n",
              "      fill: #174EA6;\n",
              "    }\n",
              "\n",
              "    .colab-df-buttons div {\n",
              "      margin-bottom: 4px;\n",
              "    }\n",
              "\n",
              "    [theme=dark] .colab-df-convert {\n",
              "      background-color: #3B4455;\n",
              "      fill: #D2E3FC;\n",
              "    }\n",
              "\n",
              "    [theme=dark] .colab-df-convert:hover {\n",
              "      background-color: #434B5C;\n",
              "      box-shadow: 0px 1px 3px 1px rgba(0, 0, 0, 0.15);\n",
              "      filter: drop-shadow(0px 1px 2px rgba(0, 0, 0, 0.3));\n",
              "      fill: #FFFFFF;\n",
              "    }\n",
              "  </style>\n",
              "\n",
              "    <script>\n",
              "      const buttonEl =\n",
              "        document.querySelector('#df-8d107f77-2940-4479-820d-985deebe4f08 button.colab-df-convert');\n",
              "      buttonEl.style.display =\n",
              "        google.colab.kernel.accessAllowed ? 'block' : 'none';\n",
              "\n",
              "      async function convertToInteractive(key) {\n",
              "        const element = document.querySelector('#df-8d107f77-2940-4479-820d-985deebe4f08');\n",
              "        const dataTable =\n",
              "          await google.colab.kernel.invokeFunction('convertToInteractive',\n",
              "                                                    [key], {});\n",
              "        if (!dataTable) return;\n",
              "\n",
              "        const docLinkHtml = 'Like what you see? Visit the ' +\n",
              "          '<a target=\"_blank\" href=https://colab.research.google.com/notebooks/data_table.ipynb>data table notebook</a>'\n",
              "          + ' to learn more about interactive tables.';\n",
              "        element.innerHTML = '';\n",
              "        dataTable['output_type'] = 'display_data';\n",
              "        await google.colab.output.renderOutput(dataTable, element);\n",
              "        const docLink = document.createElement('div');\n",
              "        docLink.innerHTML = docLinkHtml;\n",
              "        element.appendChild(docLink);\n",
              "      }\n",
              "    </script>\n",
              "  </div>\n",
              "\n",
              "\n",
              "<div id=\"df-4970e711-7c68-46c4-afc0-a4bf6ca65ebb\">\n",
              "  <button class=\"colab-df-quickchart\" onclick=\"quickchart('df-4970e711-7c68-46c4-afc0-a4bf6ca65ebb')\"\n",
              "            title=\"Suggest charts\"\n",
              "            style=\"display:none;\">\n",
              "\n",
              "<svg xmlns=\"http://www.w3.org/2000/svg\" height=\"24px\"viewBox=\"0 0 24 24\"\n",
              "     width=\"24px\">\n",
              "    <g>\n",
              "        <path d=\"M19 3H5c-1.1 0-2 .9-2 2v14c0 1.1.9 2 2 2h14c1.1 0 2-.9 2-2V5c0-1.1-.9-2-2-2zM9 17H7v-7h2v7zm4 0h-2V7h2v10zm4 0h-2v-4h2v4z\"/>\n",
              "    </g>\n",
              "</svg>\n",
              "  </button>\n",
              "\n",
              "<style>\n",
              "  .colab-df-quickchart {\n",
              "      --bg-color: #E8F0FE;\n",
              "      --fill-color: #1967D2;\n",
              "      --hover-bg-color: #E2EBFA;\n",
              "      --hover-fill-color: #174EA6;\n",
              "      --disabled-fill-color: #AAA;\n",
              "      --disabled-bg-color: #DDD;\n",
              "  }\n",
              "\n",
              "  [theme=dark] .colab-df-quickchart {\n",
              "      --bg-color: #3B4455;\n",
              "      --fill-color: #D2E3FC;\n",
              "      --hover-bg-color: #434B5C;\n",
              "      --hover-fill-color: #FFFFFF;\n",
              "      --disabled-bg-color: #3B4455;\n",
              "      --disabled-fill-color: #666;\n",
              "  }\n",
              "\n",
              "  .colab-df-quickchart {\n",
              "    background-color: var(--bg-color);\n",
              "    border: none;\n",
              "    border-radius: 50%;\n",
              "    cursor: pointer;\n",
              "    display: none;\n",
              "    fill: var(--fill-color);\n",
              "    height: 32px;\n",
              "    padding: 0;\n",
              "    width: 32px;\n",
              "  }\n",
              "\n",
              "  .colab-df-quickchart:hover {\n",
              "    background-color: var(--hover-bg-color);\n",
              "    box-shadow: 0 1px 2px rgba(60, 64, 67, 0.3), 0 1px 3px 1px rgba(60, 64, 67, 0.15);\n",
              "    fill: var(--button-hover-fill-color);\n",
              "  }\n",
              "\n",
              "  .colab-df-quickchart-complete:disabled,\n",
              "  .colab-df-quickchart-complete:disabled:hover {\n",
              "    background-color: var(--disabled-bg-color);\n",
              "    fill: var(--disabled-fill-color);\n",
              "    box-shadow: none;\n",
              "  }\n",
              "\n",
              "  .colab-df-spinner {\n",
              "    border: 2px solid var(--fill-color);\n",
              "    border-color: transparent;\n",
              "    border-bottom-color: var(--fill-color);\n",
              "    animation:\n",
              "      spin 1s steps(1) infinite;\n",
              "  }\n",
              "\n",
              "  @keyframes spin {\n",
              "    0% {\n",
              "      border-color: transparent;\n",
              "      border-bottom-color: var(--fill-color);\n",
              "      border-left-color: var(--fill-color);\n",
              "    }\n",
              "    20% {\n",
              "      border-color: transparent;\n",
              "      border-left-color: var(--fill-color);\n",
              "      border-top-color: var(--fill-color);\n",
              "    }\n",
              "    30% {\n",
              "      border-color: transparent;\n",
              "      border-left-color: var(--fill-color);\n",
              "      border-top-color: var(--fill-color);\n",
              "      border-right-color: var(--fill-color);\n",
              "    }\n",
              "    40% {\n",
              "      border-color: transparent;\n",
              "      border-right-color: var(--fill-color);\n",
              "      border-top-color: var(--fill-color);\n",
              "    }\n",
              "    60% {\n",
              "      border-color: transparent;\n",
              "      border-right-color: var(--fill-color);\n",
              "    }\n",
              "    80% {\n",
              "      border-color: transparent;\n",
              "      border-right-color: var(--fill-color);\n",
              "      border-bottom-color: var(--fill-color);\n",
              "    }\n",
              "    90% {\n",
              "      border-color: transparent;\n",
              "      border-bottom-color: var(--fill-color);\n",
              "    }\n",
              "  }\n",
              "</style>\n",
              "\n",
              "  <script>\n",
              "    async function quickchart(key) {\n",
              "      const quickchartButtonEl =\n",
              "        document.querySelector('#' + key + ' button');\n",
              "      quickchartButtonEl.disabled = true;  // To prevent multiple clicks.\n",
              "      quickchartButtonEl.classList.add('colab-df-spinner');\n",
              "      try {\n",
              "        const charts = await google.colab.kernel.invokeFunction(\n",
              "            'suggestCharts', [key], {});\n",
              "      } catch (error) {\n",
              "        console.error('Error during call to suggestCharts:', error);\n",
              "      }\n",
              "      quickchartButtonEl.classList.remove('colab-df-spinner');\n",
              "      quickchartButtonEl.classList.add('colab-df-quickchart-complete');\n",
              "    }\n",
              "    (() => {\n",
              "      let quickchartButtonEl =\n",
              "        document.querySelector('#df-4970e711-7c68-46c4-afc0-a4bf6ca65ebb button');\n",
              "      quickchartButtonEl.style.display =\n",
              "        google.colab.kernel.accessAllowed ? 'block' : 'none';\n",
              "    })();\n",
              "  </script>\n",
              "</div>\n",
              "\n",
              "    </div>\n",
              "  </div>\n"
            ],
            "application/vnd.google.colaboratory.intrinsic+json": {
              "type": "dataframe",
              "variable_name": "df",
              "summary": "{\n  \"name\": \"df\",\n  \"rows\": 2000,\n  \"fields\": [\n    {\n      \"column\": \"Campaign_ID\",\n      \"properties\": {\n        \"dtype\": \"string\",\n        \"num_unique_values\": 2000,\n        \"samples\": [\n          \"CMP1861\",\n          \"CMP354\",\n          \"CMP1334\"\n        ],\n        \"semantic_type\": \"\",\n        \"description\": \"\"\n      }\n    },\n    {\n      \"column\": \"Campaign_Name\",\n      \"properties\": {\n        \"dtype\": \"category\",\n        \"num_unique_values\": 6,\n        \"samples\": [\n          \"Timeless Trends Transformation\",\n          \"Design Your Dream Space\",\n          \"Furniture Refresh Revolution\"\n        ],\n        \"semantic_type\": \"\",\n        \"description\": \"\"\n      }\n    },\n    {\n      \"column\": \"Marketing_Channel\",\n      \"properties\": {\n        \"dtype\": \"category\",\n        \"num_unique_values\": 4,\n        \"samples\": [\n          \"Email\",\n          \"Influencer Marketing\",\n          \"Paid Ads\"\n        ],\n        \"semantic_type\": \"\",\n        \"description\": \"\"\n      }\n    },\n    {\n      \"column\": \"Start_Date\",\n      \"properties\": {\n        \"dtype\": \"date\",\n        \"min\": \"2022-08-19 00:00:00\",\n        \"max\": \"2023-06-13 00:00:00\",\n        \"num_unique_values\": 299,\n        \"samples\": [\n          \"2022-09-28 00:00:00\",\n          \"2023-04-15 00:00:00\",\n          \"2022-10-11 00:00:00\"\n        ],\n        \"semantic_type\": \"\",\n        \"description\": \"\"\n      }\n    },\n    {\n      \"column\": \"End_Date\",\n      \"properties\": {\n        \"dtype\": \"date\",\n        \"min\": \"2024-01-06 00:00:00\",\n        \"max\": \"2024-11-23 00:00:00\",\n        \"num_unique_values\": 319,\n        \"samples\": [\n          \"2024-09-11 00:00:00\",\n          \"2024-05-29 00:00:00\",\n          \"2024-10-28 00:00:00\"\n        ],\n        \"semantic_type\": \"\",\n        \"description\": \"\"\n      }\n    },\n    {\n      \"column\": \"Impressions\",\n      \"properties\": {\n        \"dtype\": \"number\",\n        \"std\": 24043.07580112644,\n        \"min\": 1720.3999999999999,\n        \"max\": 84887.8,\n        \"num_unique_values\": 1969,\n        \"samples\": [\n          35108.4,\n          38360.5,\n          84228.2\n        ],\n        \"semantic_type\": \"\",\n        \"description\": \"\"\n      }\n    },\n    {\n      \"column\": \"Clicks\",\n      \"properties\": {\n        \"dtype\": \"number\",\n        \"std\": 18396.575782636326,\n        \"min\": 180.2,\n        \"max\": 82252.8,\n        \"num_unique_values\": 1938,\n        \"samples\": [\n          7264.099999999999,\n          24209.7,\n          22740.899999999998\n        ],\n        \"semantic_type\": \"\",\n        \"description\": \"\"\n      }\n    },\n    {\n      \"column\": \"Conversions\",\n      \"properties\": {\n        \"dtype\": \"number\",\n        \"std\": 12775.618284062926,\n        \"min\": 3.4,\n        \"max\": 75214.8,\n        \"num_unique_values\": 1793,\n        \"samples\": [\n          4688.599999999999,\n          3581.9,\n          45488.6\n        ],\n        \"semantic_type\": \"\",\n        \"description\": \"\"\n      }\n    },\n    {\n      \"column\": \"Total_Spend\",\n      \"properties\": {\n        \"dtype\": \"number\",\n        \"std\": 2385.430581097451,\n        \"min\": 171.10500000000002,\n        \"max\": 8499.643,\n        \"num_unique_values\": 1993,\n        \"samples\": [\n          8341.713,\n          1145.8339999999998,\n          5239.213\n        ],\n        \"semantic_type\": \"\",\n        \"description\": \"\"\n      }\n    },\n    {\n      \"column\": \"Revenue_Generated\",\n      \"properties\": {\n        \"dtype\": \"number\",\n        \"std\": 7354.751536152393,\n        \"min\": 252.586,\n        \"max\": 33778.303,\n        \"num_unique_values\": 1998,\n        \"samples\": [\n          10057.659,\n          8255.625,\n          18832.412999999997\n        ],\n        \"semantic_type\": \"\",\n        \"description\": \"\"\n      }\n    },\n    {\n      \"column\": \"Location\",\n      \"properties\": {\n        \"dtype\": \"category\",\n        \"num_unique_values\": 5,\n        \"samples\": [\n          \"Bucharest\",\n          \"Ia\\u0219i\",\n          \"Cluj-Napoca\"\n        ],\n        \"semantic_type\": \"\",\n        \"description\": \"\"\n      }\n    },\n    {\n      \"column\": \"Age_Group\",\n      \"properties\": {\n        \"dtype\": \"category\",\n        \"num_unique_values\": 5,\n        \"samples\": [\n          \"55+\",\n          \"45-54\",\n          \"25-34\"\n        ],\n        \"semantic_type\": \"\",\n        \"description\": \"\"\n      }\n    },\n    {\n      \"column\": \"Gender\",\n      \"properties\": {\n        \"dtype\": \"category\",\n        \"num_unique_values\": 2,\n        \"samples\": [\n          \"Female\",\n          \"Male\"\n        ],\n        \"semantic_type\": \"\",\n        \"description\": \"\"\n      }\n    },\n    {\n      \"column\": \"Duration\",\n      \"properties\": {\n        \"dtype\": \"number\",\n        \"std\": 8,\n        \"min\": 501,\n        \"max\": 533,\n        \"num_unique_values\": 31,\n        \"samples\": [\n          528,\n          530\n        ],\n        \"semantic_type\": \"\",\n        \"description\": \"\"\n      }\n    },\n    {\n      \"column\": \"CTR (%)\",\n      \"properties\": {\n        \"dtype\": \"number\",\n        \"std\": 28.66149849117298,\n        \"min\": 0.4315682816076857,\n        \"max\": 99.97925311203319,\n        \"num_unique_values\": 2000,\n        \"samples\": [\n          74.96187862153094,\n          22.84220383955049\n        ],\n        \"semantic_type\": \"\",\n        \"description\": \"\"\n      }\n    },\n    {\n      \"column\": \"Conversion Rate (%)\",\n      \"properties\": {\n        \"dtype\": \"number\",\n        \"std\": 28.782435850904523,\n        \"min\": 0.02978850163836759,\n        \"max\": 99.98504337421478,\n        \"num_unique_values\": 1998,\n        \"samples\": [\n          60.44113739038001,\n          63.216394581451894\n        ],\n        \"semantic_type\": \"\",\n        \"description\": \"\"\n      }\n    },\n    {\n      \"column\": \"Cost per Click (CPC)\",\n      \"properties\": {\n        \"dtype\": \"number\",\n        \"std\": 2.249974759369632,\n        \"min\": 0.004079337569805507,\n        \"max\": 37.08241379310345,\n        \"num_unique_values\": 2000,\n        \"samples\": [\n          0.537286411716843,\n          1.5053296891014694\n        ],\n        \"semantic_type\": \"\",\n        \"description\": \"\"\n      }\n    },\n    {\n      \"column\": \"Cost per Acquisition (CPA)\",\n      \"properties\": {\n        \"dtype\": \"number\",\n        \"std\": 82.66535202879494,\n        \"min\": 0.004979824182158812,\n        \"max\": 2499.2200000000003,\n        \"num_unique_values\": 2000,\n        \"samples\": [\n          18.342361111111114,\n          7.368060200668897\n        ],\n        \"semantic_type\": \"\",\n        \"description\": \"\"\n      }\n    },\n    {\n      \"column\": \"Return on Advertising Spend (ROAS)\",\n      \"properties\": {\n        \"dtype\": \"number\",\n        \"std\": 0.8012533158742738,\n        \"min\": 1.2001578531965273,\n        \"max\": 3.997877281092016,\n        \"num_unique_values\": 2000,\n        \"samples\": [\n          1.8965736569113691,\n          3.8161753024216423\n        ],\n        \"semantic_type\": \"\",\n        \"description\": \"\"\n      }\n    }\n  ]\n}"
            }
          },
          "metadata": {},
          "execution_count": 49
        }
      ]
    },
    {
      "cell_type": "code",
      "source": [
        "#save clean data in excel file\n",
        "df.to_csv('clean_data.xlsx', index=False)"
      ],
      "metadata": {
        "id": "R5CRpm-6_0-D"
      },
      "execution_count": null,
      "outputs": []
    },
    {
      "cell_type": "markdown",
      "source": [
        "## predict ROS"
      ],
      "metadata": {
        "id": "HuSS_WuUex7I"
      }
    },
    {
      "cell_type": "code",
      "source": [
        "#Encode categorical columns\n",
        "df = pd.get_dummies(df, columns=['Marketing_Channel', 'Location', 'Age_Group', 'Gender'], drop_first=True)\n"
      ],
      "metadata": {
        "id": "bzBW047_fg6T"
      },
      "execution_count": null,
      "outputs": []
    },
    {
      "cell_type": "code",
      "source": [
        "# Define the features (X) and target (y)\n",
        "X = df.drop(['Return on Advertising Spend (ROAS)', 'Campaign_ID', 'Campaign_Name', 'Start_Date', 'End_Date'], axis=1)\n",
        "y = df['Return on Advertising Spend (ROAS)']\n",
        "\n",
        "# Split the data into training and testing sets\n",
        "X_train, X_test, y_train, y_test = train_test_split(X, y, test_size=0.2, random_state=42)\n",
        "\n",
        "# Train the model\n",
        "model = RandomForestRegressor(n_estimators=100, random_state=42)\n",
        "model.fit(X_train, y_train)\n",
        "\n"
      ],
      "metadata": {
        "id": "qlQ3NGiU_1DX",
        "colab": {
          "base_uri": "https://localhost:8080/",
          "height": 80
        },
        "outputId": "1f77ca58-d3ab-4519-f7b3-966e0ddd723f"
      },
      "execution_count": null,
      "outputs": [
        {
          "output_type": "execute_result",
          "data": {
            "text/plain": [
              "RandomForestRegressor(random_state=42)"
            ],
            "text/html": [
              "<style>#sk-container-id-1 {\n",
              "  /* Definition of color scheme common for light and dark mode */\n",
              "  --sklearn-color-text: black;\n",
              "  --sklearn-color-line: gray;\n",
              "  /* Definition of color scheme for unfitted estimators */\n",
              "  --sklearn-color-unfitted-level-0: #fff5e6;\n",
              "  --sklearn-color-unfitted-level-1: #f6e4d2;\n",
              "  --sklearn-color-unfitted-level-2: #ffe0b3;\n",
              "  --sklearn-color-unfitted-level-3: chocolate;\n",
              "  /* Definition of color scheme for fitted estimators */\n",
              "  --sklearn-color-fitted-level-0: #f0f8ff;\n",
              "  --sklearn-color-fitted-level-1: #d4ebff;\n",
              "  --sklearn-color-fitted-level-2: #b3dbfd;\n",
              "  --sklearn-color-fitted-level-3: cornflowerblue;\n",
              "\n",
              "  /* Specific color for light theme */\n",
              "  --sklearn-color-text-on-default-background: var(--sg-text-color, var(--theme-code-foreground, var(--jp-content-font-color1, black)));\n",
              "  --sklearn-color-background: var(--sg-background-color, var(--theme-background, var(--jp-layout-color0, white)));\n",
              "  --sklearn-color-border-box: var(--sg-text-color, var(--theme-code-foreground, var(--jp-content-font-color1, black)));\n",
              "  --sklearn-color-icon: #696969;\n",
              "\n",
              "  @media (prefers-color-scheme: dark) {\n",
              "    /* Redefinition of color scheme for dark theme */\n",
              "    --sklearn-color-text-on-default-background: var(--sg-text-color, var(--theme-code-foreground, var(--jp-content-font-color1, white)));\n",
              "    --sklearn-color-background: var(--sg-background-color, var(--theme-background, var(--jp-layout-color0, #111)));\n",
              "    --sklearn-color-border-box: var(--sg-text-color, var(--theme-code-foreground, var(--jp-content-font-color1, white)));\n",
              "    --sklearn-color-icon: #878787;\n",
              "  }\n",
              "}\n",
              "\n",
              "#sk-container-id-1 {\n",
              "  color: var(--sklearn-color-text);\n",
              "}\n",
              "\n",
              "#sk-container-id-1 pre {\n",
              "  padding: 0;\n",
              "}\n",
              "\n",
              "#sk-container-id-1 input.sk-hidden--visually {\n",
              "  border: 0;\n",
              "  clip: rect(1px 1px 1px 1px);\n",
              "  clip: rect(1px, 1px, 1px, 1px);\n",
              "  height: 1px;\n",
              "  margin: -1px;\n",
              "  overflow: hidden;\n",
              "  padding: 0;\n",
              "  position: absolute;\n",
              "  width: 1px;\n",
              "}\n",
              "\n",
              "#sk-container-id-1 div.sk-dashed-wrapped {\n",
              "  border: 1px dashed var(--sklearn-color-line);\n",
              "  margin: 0 0.4em 0.5em 0.4em;\n",
              "  box-sizing: border-box;\n",
              "  padding-bottom: 0.4em;\n",
              "  background-color: var(--sklearn-color-background);\n",
              "}\n",
              "\n",
              "#sk-container-id-1 div.sk-container {\n",
              "  /* jupyter's `normalize.less` sets `[hidden] { display: none; }`\n",
              "     but bootstrap.min.css set `[hidden] { display: none !important; }`\n",
              "     so we also need the `!important` here to be able to override the\n",
              "     default hidden behavior on the sphinx rendered scikit-learn.org.\n",
              "     See: https://github.com/scikit-learn/scikit-learn/issues/21755 */\n",
              "  display: inline-block !important;\n",
              "  position: relative;\n",
              "}\n",
              "\n",
              "#sk-container-id-1 div.sk-text-repr-fallback {\n",
              "  display: none;\n",
              "}\n",
              "\n",
              "div.sk-parallel-item,\n",
              "div.sk-serial,\n",
              "div.sk-item {\n",
              "  /* draw centered vertical line to link estimators */\n",
              "  background-image: linear-gradient(var(--sklearn-color-text-on-default-background), var(--sklearn-color-text-on-default-background));\n",
              "  background-size: 2px 100%;\n",
              "  background-repeat: no-repeat;\n",
              "  background-position: center center;\n",
              "}\n",
              "\n",
              "/* Parallel-specific style estimator block */\n",
              "\n",
              "#sk-container-id-1 div.sk-parallel-item::after {\n",
              "  content: \"\";\n",
              "  width: 100%;\n",
              "  border-bottom: 2px solid var(--sklearn-color-text-on-default-background);\n",
              "  flex-grow: 1;\n",
              "}\n",
              "\n",
              "#sk-container-id-1 div.sk-parallel {\n",
              "  display: flex;\n",
              "  align-items: stretch;\n",
              "  justify-content: center;\n",
              "  background-color: var(--sklearn-color-background);\n",
              "  position: relative;\n",
              "}\n",
              "\n",
              "#sk-container-id-1 div.sk-parallel-item {\n",
              "  display: flex;\n",
              "  flex-direction: column;\n",
              "}\n",
              "\n",
              "#sk-container-id-1 div.sk-parallel-item:first-child::after {\n",
              "  align-self: flex-end;\n",
              "  width: 50%;\n",
              "}\n",
              "\n",
              "#sk-container-id-1 div.sk-parallel-item:last-child::after {\n",
              "  align-self: flex-start;\n",
              "  width: 50%;\n",
              "}\n",
              "\n",
              "#sk-container-id-1 div.sk-parallel-item:only-child::after {\n",
              "  width: 0;\n",
              "}\n",
              "\n",
              "/* Serial-specific style estimator block */\n",
              "\n",
              "#sk-container-id-1 div.sk-serial {\n",
              "  display: flex;\n",
              "  flex-direction: column;\n",
              "  align-items: center;\n",
              "  background-color: var(--sklearn-color-background);\n",
              "  padding-right: 1em;\n",
              "  padding-left: 1em;\n",
              "}\n",
              "\n",
              "\n",
              "/* Toggleable style: style used for estimator/Pipeline/ColumnTransformer box that is\n",
              "clickable and can be expanded/collapsed.\n",
              "- Pipeline and ColumnTransformer use this feature and define the default style\n",
              "- Estimators will overwrite some part of the style using the `sk-estimator` class\n",
              "*/\n",
              "\n",
              "/* Pipeline and ColumnTransformer style (default) */\n",
              "\n",
              "#sk-container-id-1 div.sk-toggleable {\n",
              "  /* Default theme specific background. It is overwritten whether we have a\n",
              "  specific estimator or a Pipeline/ColumnTransformer */\n",
              "  background-color: var(--sklearn-color-background);\n",
              "}\n",
              "\n",
              "/* Toggleable label */\n",
              "#sk-container-id-1 label.sk-toggleable__label {\n",
              "  cursor: pointer;\n",
              "  display: block;\n",
              "  width: 100%;\n",
              "  margin-bottom: 0;\n",
              "  padding: 0.5em;\n",
              "  box-sizing: border-box;\n",
              "  text-align: center;\n",
              "}\n",
              "\n",
              "#sk-container-id-1 label.sk-toggleable__label-arrow:before {\n",
              "  /* Arrow on the left of the label */\n",
              "  content: \"▸\";\n",
              "  float: left;\n",
              "  margin-right: 0.25em;\n",
              "  color: var(--sklearn-color-icon);\n",
              "}\n",
              "\n",
              "#sk-container-id-1 label.sk-toggleable__label-arrow:hover:before {\n",
              "  color: var(--sklearn-color-text);\n",
              "}\n",
              "\n",
              "/* Toggleable content - dropdown */\n",
              "\n",
              "#sk-container-id-1 div.sk-toggleable__content {\n",
              "  max-height: 0;\n",
              "  max-width: 0;\n",
              "  overflow: hidden;\n",
              "  text-align: left;\n",
              "  /* unfitted */\n",
              "  background-color: var(--sklearn-color-unfitted-level-0);\n",
              "}\n",
              "\n",
              "#sk-container-id-1 div.sk-toggleable__content.fitted {\n",
              "  /* fitted */\n",
              "  background-color: var(--sklearn-color-fitted-level-0);\n",
              "}\n",
              "\n",
              "#sk-container-id-1 div.sk-toggleable__content pre {\n",
              "  margin: 0.2em;\n",
              "  border-radius: 0.25em;\n",
              "  color: var(--sklearn-color-text);\n",
              "  /* unfitted */\n",
              "  background-color: var(--sklearn-color-unfitted-level-0);\n",
              "}\n",
              "\n",
              "#sk-container-id-1 div.sk-toggleable__content.fitted pre {\n",
              "  /* unfitted */\n",
              "  background-color: var(--sklearn-color-fitted-level-0);\n",
              "}\n",
              "\n",
              "#sk-container-id-1 input.sk-toggleable__control:checked~div.sk-toggleable__content {\n",
              "  /* Expand drop-down */\n",
              "  max-height: 200px;\n",
              "  max-width: 100%;\n",
              "  overflow: auto;\n",
              "}\n",
              "\n",
              "#sk-container-id-1 input.sk-toggleable__control:checked~label.sk-toggleable__label-arrow:before {\n",
              "  content: \"▾\";\n",
              "}\n",
              "\n",
              "/* Pipeline/ColumnTransformer-specific style */\n",
              "\n",
              "#sk-container-id-1 div.sk-label input.sk-toggleable__control:checked~label.sk-toggleable__label {\n",
              "  color: var(--sklearn-color-text);\n",
              "  background-color: var(--sklearn-color-unfitted-level-2);\n",
              "}\n",
              "\n",
              "#sk-container-id-1 div.sk-label.fitted input.sk-toggleable__control:checked~label.sk-toggleable__label {\n",
              "  background-color: var(--sklearn-color-fitted-level-2);\n",
              "}\n",
              "\n",
              "/* Estimator-specific style */\n",
              "\n",
              "/* Colorize estimator box */\n",
              "#sk-container-id-1 div.sk-estimator input.sk-toggleable__control:checked~label.sk-toggleable__label {\n",
              "  /* unfitted */\n",
              "  background-color: var(--sklearn-color-unfitted-level-2);\n",
              "}\n",
              "\n",
              "#sk-container-id-1 div.sk-estimator.fitted input.sk-toggleable__control:checked~label.sk-toggleable__label {\n",
              "  /* fitted */\n",
              "  background-color: var(--sklearn-color-fitted-level-2);\n",
              "}\n",
              "\n",
              "#sk-container-id-1 div.sk-label label.sk-toggleable__label,\n",
              "#sk-container-id-1 div.sk-label label {\n",
              "  /* The background is the default theme color */\n",
              "  color: var(--sklearn-color-text-on-default-background);\n",
              "}\n",
              "\n",
              "/* On hover, darken the color of the background */\n",
              "#sk-container-id-1 div.sk-label:hover label.sk-toggleable__label {\n",
              "  color: var(--sklearn-color-text);\n",
              "  background-color: var(--sklearn-color-unfitted-level-2);\n",
              "}\n",
              "\n",
              "/* Label box, darken color on hover, fitted */\n",
              "#sk-container-id-1 div.sk-label.fitted:hover label.sk-toggleable__label.fitted {\n",
              "  color: var(--sklearn-color-text);\n",
              "  background-color: var(--sklearn-color-fitted-level-2);\n",
              "}\n",
              "\n",
              "/* Estimator label */\n",
              "\n",
              "#sk-container-id-1 div.sk-label label {\n",
              "  font-family: monospace;\n",
              "  font-weight: bold;\n",
              "  display: inline-block;\n",
              "  line-height: 1.2em;\n",
              "}\n",
              "\n",
              "#sk-container-id-1 div.sk-label-container {\n",
              "  text-align: center;\n",
              "}\n",
              "\n",
              "/* Estimator-specific */\n",
              "#sk-container-id-1 div.sk-estimator {\n",
              "  font-family: monospace;\n",
              "  border: 1px dotted var(--sklearn-color-border-box);\n",
              "  border-radius: 0.25em;\n",
              "  box-sizing: border-box;\n",
              "  margin-bottom: 0.5em;\n",
              "  /* unfitted */\n",
              "  background-color: var(--sklearn-color-unfitted-level-0);\n",
              "}\n",
              "\n",
              "#sk-container-id-1 div.sk-estimator.fitted {\n",
              "  /* fitted */\n",
              "  background-color: var(--sklearn-color-fitted-level-0);\n",
              "}\n",
              "\n",
              "/* on hover */\n",
              "#sk-container-id-1 div.sk-estimator:hover {\n",
              "  /* unfitted */\n",
              "  background-color: var(--sklearn-color-unfitted-level-2);\n",
              "}\n",
              "\n",
              "#sk-container-id-1 div.sk-estimator.fitted:hover {\n",
              "  /* fitted */\n",
              "  background-color: var(--sklearn-color-fitted-level-2);\n",
              "}\n",
              "\n",
              "/* Specification for estimator info (e.g. \"i\" and \"?\") */\n",
              "\n",
              "/* Common style for \"i\" and \"?\" */\n",
              "\n",
              ".sk-estimator-doc-link,\n",
              "a:link.sk-estimator-doc-link,\n",
              "a:visited.sk-estimator-doc-link {\n",
              "  float: right;\n",
              "  font-size: smaller;\n",
              "  line-height: 1em;\n",
              "  font-family: monospace;\n",
              "  background-color: var(--sklearn-color-background);\n",
              "  border-radius: 1em;\n",
              "  height: 1em;\n",
              "  width: 1em;\n",
              "  text-decoration: none !important;\n",
              "  margin-left: 1ex;\n",
              "  /* unfitted */\n",
              "  border: var(--sklearn-color-unfitted-level-1) 1pt solid;\n",
              "  color: var(--sklearn-color-unfitted-level-1);\n",
              "}\n",
              "\n",
              ".sk-estimator-doc-link.fitted,\n",
              "a:link.sk-estimator-doc-link.fitted,\n",
              "a:visited.sk-estimator-doc-link.fitted {\n",
              "  /* fitted */\n",
              "  border: var(--sklearn-color-fitted-level-1) 1pt solid;\n",
              "  color: var(--sklearn-color-fitted-level-1);\n",
              "}\n",
              "\n",
              "/* On hover */\n",
              "div.sk-estimator:hover .sk-estimator-doc-link:hover,\n",
              ".sk-estimator-doc-link:hover,\n",
              "div.sk-label-container:hover .sk-estimator-doc-link:hover,\n",
              ".sk-estimator-doc-link:hover {\n",
              "  /* unfitted */\n",
              "  background-color: var(--sklearn-color-unfitted-level-3);\n",
              "  color: var(--sklearn-color-background);\n",
              "  text-decoration: none;\n",
              "}\n",
              "\n",
              "div.sk-estimator.fitted:hover .sk-estimator-doc-link.fitted:hover,\n",
              ".sk-estimator-doc-link.fitted:hover,\n",
              "div.sk-label-container:hover .sk-estimator-doc-link.fitted:hover,\n",
              ".sk-estimator-doc-link.fitted:hover {\n",
              "  /* fitted */\n",
              "  background-color: var(--sklearn-color-fitted-level-3);\n",
              "  color: var(--sklearn-color-background);\n",
              "  text-decoration: none;\n",
              "}\n",
              "\n",
              "/* Span, style for the box shown on hovering the info icon */\n",
              ".sk-estimator-doc-link span {\n",
              "  display: none;\n",
              "  z-index: 9999;\n",
              "  position: relative;\n",
              "  font-weight: normal;\n",
              "  right: .2ex;\n",
              "  padding: .5ex;\n",
              "  margin: .5ex;\n",
              "  width: min-content;\n",
              "  min-width: 20ex;\n",
              "  max-width: 50ex;\n",
              "  color: var(--sklearn-color-text);\n",
              "  box-shadow: 2pt 2pt 4pt #999;\n",
              "  /* unfitted */\n",
              "  background: var(--sklearn-color-unfitted-level-0);\n",
              "  border: .5pt solid var(--sklearn-color-unfitted-level-3);\n",
              "}\n",
              "\n",
              ".sk-estimator-doc-link.fitted span {\n",
              "  /* fitted */\n",
              "  background: var(--sklearn-color-fitted-level-0);\n",
              "  border: var(--sklearn-color-fitted-level-3);\n",
              "}\n",
              "\n",
              ".sk-estimator-doc-link:hover span {\n",
              "  display: block;\n",
              "}\n",
              "\n",
              "/* \"?\"-specific style due to the `<a>` HTML tag */\n",
              "\n",
              "#sk-container-id-1 a.estimator_doc_link {\n",
              "  float: right;\n",
              "  font-size: 1rem;\n",
              "  line-height: 1em;\n",
              "  font-family: monospace;\n",
              "  background-color: var(--sklearn-color-background);\n",
              "  border-radius: 1rem;\n",
              "  height: 1rem;\n",
              "  width: 1rem;\n",
              "  text-decoration: none;\n",
              "  /* unfitted */\n",
              "  color: var(--sklearn-color-unfitted-level-1);\n",
              "  border: var(--sklearn-color-unfitted-level-1) 1pt solid;\n",
              "}\n",
              "\n",
              "#sk-container-id-1 a.estimator_doc_link.fitted {\n",
              "  /* fitted */\n",
              "  border: var(--sklearn-color-fitted-level-1) 1pt solid;\n",
              "  color: var(--sklearn-color-fitted-level-1);\n",
              "}\n",
              "\n",
              "/* On hover */\n",
              "#sk-container-id-1 a.estimator_doc_link:hover {\n",
              "  /* unfitted */\n",
              "  background-color: var(--sklearn-color-unfitted-level-3);\n",
              "  color: var(--sklearn-color-background);\n",
              "  text-decoration: none;\n",
              "}\n",
              "\n",
              "#sk-container-id-1 a.estimator_doc_link.fitted:hover {\n",
              "  /* fitted */\n",
              "  background-color: var(--sklearn-color-fitted-level-3);\n",
              "}\n",
              "</style><div id=\"sk-container-id-1\" class=\"sk-top-container\"><div class=\"sk-text-repr-fallback\"><pre>RandomForestRegressor(random_state=42)</pre><b>In a Jupyter environment, please rerun this cell to show the HTML representation or trust the notebook. <br />On GitHub, the HTML representation is unable to render, please try loading this page with nbviewer.org.</b></div><div class=\"sk-container\" hidden><div class=\"sk-item\"><div class=\"sk-estimator fitted sk-toggleable\"><input class=\"sk-toggleable__control sk-hidden--visually\" id=\"sk-estimator-id-1\" type=\"checkbox\" checked><label for=\"sk-estimator-id-1\" class=\"sk-toggleable__label fitted sk-toggleable__label-arrow fitted\">&nbsp;&nbsp;RandomForestRegressor<a class=\"sk-estimator-doc-link fitted\" rel=\"noreferrer\" target=\"_blank\" href=\"https://scikit-learn.org/1.5/modules/generated/sklearn.ensemble.RandomForestRegressor.html\">?<span>Documentation for RandomForestRegressor</span></a><span class=\"sk-estimator-doc-link fitted\">i<span>Fitted</span></span></label><div class=\"sk-toggleable__content fitted\"><pre>RandomForestRegressor(random_state=42)</pre></div> </div></div></div></div>"
            ]
          },
          "metadata": {},
          "execution_count": 53
        }
      ]
    },
    {
      "cell_type": "code",
      "source": [
        "model.score(X_train , y_train)"
      ],
      "metadata": {
        "colab": {
          "base_uri": "https://localhost:8080/"
        },
        "id": "dsCA328ifrhM",
        "outputId": "72b89f9c-6799-47e0-b1a3-aa4a5541c1ce"
      },
      "execution_count": null,
      "outputs": [
        {
          "output_type": "execute_result",
          "data": {
            "text/plain": [
              "0.9967574773188813"
            ]
          },
          "metadata": {},
          "execution_count": 55
        }
      ]
    },
    {
      "cell_type": "code",
      "source": [
        "model.score(X_test , y_test)"
      ],
      "metadata": {
        "colab": {
          "base_uri": "https://localhost:8080/"
        },
        "id": "zisxaQj2fmGd",
        "outputId": "6e9d273e-75b7-4e79-8e10-8c07a442cd5b"
      },
      "execution_count": null,
      "outputs": [
        {
          "output_type": "execute_result",
          "data": {
            "text/plain": [
              "0.9775092889493207"
            ]
          },
          "metadata": {},
          "execution_count": 54
        }
      ]
    },
    {
      "cell_type": "code",
      "source": [
        "# Make predictions\n",
        "y_pred = model.predict(X_test)\n",
        "\n",
        "# Evaluate the model\n",
        "mse = mean_squared_error(y_test, y_pred)\n",
        "print(f'Mean Squared Error: {mse}')\n"
      ],
      "metadata": {
        "id": "er3RB0b_1dSb",
        "colab": {
          "base_uri": "https://localhost:8080/"
        },
        "outputId": "2e93421a-a5f2-4c63-a31c-546818b4df94"
      },
      "execution_count": null,
      "outputs": [
        {
          "output_type": "stream",
          "name": "stdout",
          "text": [
            "Mean Squared Error: 0.014388946517361351\n"
          ]
        }
      ]
    },
    {
      "cell_type": "code",
      "source": [
        "# Feature Importance\n",
        "importances = model.feature_importances_\n",
        "features = X.columns\n",
        "feature_importance_df = pd.DataFrame({'Feature': features, 'Importance': importances})\n",
        "feature_importance_df = feature_importance_df.sort_values(by='Importance', ascending=False)\n",
        "print(feature_importance_df.head())"
      ],
      "metadata": {
        "id": "vSK98-rvzUtI",
        "colab": {
          "base_uri": "https://localhost:8080/"
        },
        "outputId": "e7b4de1d-3a78-4b90-d0b5-adab958aed37"
      },
      "execution_count": null,
      "outputs": [
        {
          "output_type": "stream",
          "name": "stdout",
          "text": [
            "                Feature  Importance\n",
            "4     Revenue_Generated    0.576708\n",
            "3           Total_Spend    0.398094\n",
            "0           Impressions    0.003225\n",
            "7   Conversion Rate (%)    0.003201\n",
            "8  Cost per Click (CPC)    0.003088\n"
          ]
        }
      ]
    },
    {
      "cell_type": "code",
      "source": [],
      "metadata": {
        "id": "yH4V3Yg2g5-l"
      },
      "execution_count": null,
      "outputs": []
    }
  ]
}